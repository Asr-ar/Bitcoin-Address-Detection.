{
 "cells": [
  {
   "cell_type": "markdown",
   "id": "1093c7e6",
   "metadata": {},
   "source": [
    "# imports"
   ]
  },
  {
   "cell_type": "code",
   "execution_count": null,
   "id": "9d547166",
   "metadata": {},
   "outputs": [],
   "source": [
    "from sklearn.preprocessing    import StandardScaler, OneHotEncoder\n",
    "from sklearn.compose          import ColumnTransformer"
   ]
  },
  {
   "cell_type": "markdown",
   "id": "06023c3f",
   "metadata": {},
   "source": [
    "# scaling & encoding"
   ]
  },
  {
   "cell_type": "code",
   "execution_count": null,
   "id": "3a586a02",
   "metadata": {},
   "outputs": [],
   "source": [
    "#Scale the data\n",
    "col_names_standardize = [\n",
    "    'year',\n",
    "    'day',\n",
    "    'length',\n",
    "    'weight',\n",
    "    'counted',\n",
    "    'looped',\n",
    "    'neighbors',\n",
    "    'income',\n",
    "    'n_address',\n",
    "    'gaussian_income',\n",
    "    'gaussian_neighbors',\n",
    "    'gaussian_weight',\n",
    "    'gaussian_length', \n",
    "    'log_count',\n",
    "    'sigmoid_looped'\n",
    "]"
   ]
  },
  {
   "cell_type": "code",
   "execution_count": null,
   "id": "f18c0f65",
   "metadata": {},
   "outputs": [],
   "source": [
    "#encode the data\n",
    "col_names_encode = [\n",
    "    'day_of_week',\n",
    "    'quarter_number'\n",
    "]"
   ]
  },
  {
   "cell_type": "code",
   "execution_count": null,
   "id": "bcc03d2c",
   "metadata": {},
   "outputs": [],
   "source": [
    "transformer = ColumnTransformer([\n",
    "    ('standardize', StandardScaler(), col_names_standardize),\n",
    "    ('encode', OneHotEncoder(), col_names_encode)\n",
    "], remainder = 'passthrough')"
   ]
  },
  {
   "cell_type": "code",
   "execution_count": null,
   "id": "9f5b4562",
   "metadata": {},
   "outputs": [],
   "source": [
    "X_train_scaled = transformer.transform(X_train.drop(['address'] , axis=1))\n",
    "X_test_scaled  = transformer.transform(X_test.drop(['address'] ,  axis=1))"
   ]
  },
  {
   "cell_type": "code",
   "execution_count": null,
   "id": "08a22d84",
   "metadata": {},
   "outputs": [],
   "source": [
    "pd.DataFrame(X_test_scaled).head()"
   ]
  },
  {
   "cell_type": "markdown",
   "id": "bf9905b2",
   "metadata": {},
   "source": [
    "# Models"
   ]
  },
  {
   "cell_type": "markdown",
   "id": "98b7ccc3",
   "metadata": {},
   "source": [
    "#### Train each model and save as pickle"
   ]
  },
  {
   "cell_type": "code",
   "execution_count": null,
   "id": "f0840f27",
   "metadata": {},
   "outputs": [],
   "source": [
    "#import pickle"
   ]
  },
  {
   "cell_type": "code",
   "execution_count": null,
   "id": "23b39040",
   "metadata": {},
   "outputs": [],
   "source": [
    "#models = []"
   ]
  },
  {
   "cell_type": "code",
   "execution_count": null,
   "id": "2dc19eea",
   "metadata": {},
   "outputs": [],
   "source": [
    "\"\"\"\"\n",
    "for model_name in models:\n",
    "    \n",
    "    curr_model = eval(model_name)\n",
    "    \n",
    "    curr_model.fit(X_train, y_train)\n",
    "    \n",
    "    with open(f\"models/{model_name}.pickle\", \"wb\") as pfile:\n",
    "        pickle.dump(curr_model, pfile)\n",
    "        \n",
    "\"\"\"\""
   ]
  },
  {
   "cell_type": "markdown",
   "id": "af2fe4ba",
   "metadata": {},
   "source": [
    "#### Load pre-trained/tuned models"
   ]
  },
  {
   "cell_type": "code",
   "execution_count": null,
   "id": "74448e3d",
   "metadata": {},
   "outputs": [],
   "source": [
    "\"\"\"\"\n",
    "model_names = [\"...\"]\n",
    "\n",
    "for model_name in model_names:\n",
    "    with open(f\"models/{model_name}.pickle\", \"rb\") as pfile:\n",
    "        exec(f\"{model_name} = pickle.load(pfile)\")\n",
    "\n",
    "model_vars = [eval(n) for n in model_names]\n",
    "model_list = list(zip(model_names, model_vars))\n",
    "\"\"\"\n"
   ]
  },
  {
   "cell_type": "code",
   "execution_count": null,
   "id": "6b8de8e0",
   "metadata": {},
   "outputs": [],
   "source": [
    "# model_list=[]"
   ]
  },
  {
   "cell_type": "markdown",
   "id": "663df78f",
   "metadata": {},
   "source": [
    "#### Quick peek at each model performance"
   ]
  },
  {
   "cell_type": "code",
   "execution_count": null,
   "id": "95b29238",
   "metadata": {},
   "outputs": [],
   "source": [
    "\"\"\"\n",
    "for model_name in model_names:\n",
    "    curr_model = eval(model_name)\n",
    "    print(f'{model_name} score: {curr_model.score(X_test, y_test)}')\n",
    "    \"\""
   ]
  },
  {
   "cell_type": "code",
   "execution_count": null,
   "id": "f6ebd48d",
   "metadata": {},
   "outputs": [],
   "source": []
  },
  {
   "cell_type": "markdown",
   "id": "3ba80e96",
   "metadata": {},
   "source": [
    "#### Function of the models"
   ]
  },
  {
   "cell_type": "code",
   "execution_count": null,
   "id": "576c1015",
   "metadata": {},
   "outputs": [],
   "source": [
    "# confusion_matrix"
   ]
  },
  {
   "cell_type": "code",
   "execution_count": null,
   "id": "88051fe4",
   "metadata": {},
   "outputs": [],
   "source": [
    "# precision, recall, f score, threshold, roc curve, and log loss function"
   ]
  },
  {
   "cell_type": "code",
   "execution_count": null,
   "id": "fabf4c19",
   "metadata": {},
   "outputs": [],
   "source": [
    "# for knn :Searching multiple parameters simultaneously using GS"
   ]
  },
  {
   "cell_type": "markdown",
   "id": "2a66dc2e",
   "metadata": {},
   "source": [
    "### voting classifier"
   ]
  },
  {
   "cell_type": "markdown",
   "id": "35868be3",
   "metadata": {},
   "source": [
    "#### Max voting"
   ]
  },
  {
   "cell_type": "code",
   "execution_count": null,
   "id": "d6164345",
   "metadata": {},
   "outputs": [],
   "source": [
    "# create voting classifier"
   ]
  },
  {
   "cell_type": "code",
   "execution_count": null,
   "id": "4f710cfe",
   "metadata": {},
   "outputs": [],
   "source": [
    "# get accuracy "
   ]
  },
  {
   "cell_type": "markdown",
   "id": "35dccae7",
   "metadata": {},
   "source": [
    "#### Average voting"
   ]
  },
  {
   "cell_type": "code",
   "execution_count": null,
   "id": "bc0a2eb0",
   "metadata": {},
   "outputs": [],
   "source": [
    "# create voting classifier"
   ]
  },
  {
   "cell_type": "code",
   "execution_count": null,
   "id": "7f4ffa01",
   "metadata": {},
   "outputs": [],
   "source": [
    "# Get accuracy "
   ]
  },
  {
   "cell_type": "markdown",
   "id": "e2db9bbc",
   "metadata": {},
   "source": [
    "#### Weighted Voting"
   ]
  },
  {
   "cell_type": "code",
   "execution_count": null,
   "id": "b86a1feb",
   "metadata": {},
   "outputs": [],
   "source": [
    "# create voting classifier"
   ]
  },
  {
   "cell_type": "code",
   "execution_count": null,
   "id": "c57c2154",
   "metadata": {},
   "outputs": [],
   "source": [
    "# Get accuracy"
   ]
  },
  {
   "cell_type": "markdown",
   "id": "e2e0120e",
   "metadata": {},
   "source": [
    "Tuning weights??"
   ]
  },
  {
   "cell_type": "markdown",
   "id": "e9992ab0",
   "metadata": {},
   "source": [
    "## Stack classifier"
   ]
  },
  {
   "cell_type": "code",
   "execution_count": null,
   "id": "3411c0ee",
   "metadata": {},
   "outputs": [],
   "source": [
    "# meta_classifier=LogisticRegression()"
   ]
  }
 ],
 "metadata": {
  "kernelspec": {
   "display_name": "Python 3",
   "language": "python",
   "name": "python3"
  },
  "language_info": {
   "codemirror_mode": {
    "name": "ipython",
    "version": 3
   },
   "file_extension": ".py",
   "mimetype": "text/x-python",
   "name": "python",
   "nbconvert_exporter": "python",
   "pygments_lexer": "ipython3",
   "version": "3.8.8"
  }
 },
 "nbformat": 4,
 "nbformat_minor": 5
}
