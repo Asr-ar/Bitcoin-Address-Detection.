{
 "cells": [
  {
   "cell_type": "markdown",
   "id": "c10622ab",
   "metadata": {},
   "source": [
    "# 1.  EDA Workfolw "
   ]
  },
  {
   "cell_type": "markdown",
   "id": "aa51209c",
   "metadata": {},
   "source": [
    "## Setup"
   ]
  },
  {
   "cell_type": "markdown",
   "id": "768ed89a",
   "metadata": {},
   "source": [
    "Data manipulation libraries:"
   ]
  },
  {
   "cell_type": "code",
   "execution_count": 1,
   "id": "abb4fcd7",
   "metadata": {},
   "outputs": [],
   "source": [
    "import pandas as pd\n",
    "import numpy  as np"
   ]
  },
  {
   "cell_type": "markdown",
   "id": "d7e99aff",
   "metadata": {},
   "source": [
    "Visualization libraries:"
   ]
  },
  {
   "cell_type": "code",
   "execution_count": 2,
   "id": "538fe3a3",
   "metadata": {},
   "outputs": [],
   "source": [
    "import matplotlib.pyplot  as plt\n",
    "import seaborn            as sns\n",
    "\n",
    "plt.style.use('fivethirtyeight')\n",
    "\n",
    "%matplotlib inline"
   ]
  },
  {
   "cell_type": "markdown",
   "id": "0d437bf4",
   "metadata": {},
   "source": [
    "Pre-processing libraries:"
   ]
  },
  {
   "cell_type": "code",
   "execution_count": 37,
   "id": "69a3af9a",
   "metadata": {},
   "outputs": [],
   "source": [
    "from sklearn.model_selection  import train_test_split\n",
    "\n",
    "from scipy.stats              import boxcox \n",
    "from tqdm.notebook            import tqdm\n",
    "\n",
    "import datetime"
   ]
  },
  {
   "cell_type": "markdown",
   "id": "b998e836",
   "metadata": {},
   "source": [
    "## Data-set"
   ]
  },
  {
   "cell_type": "code",
   "execution_count": 5,
   "id": "b30e48f4",
   "metadata": {},
   "outputs": [],
   "source": [
    "file_path = 'BitcoinHeistData.csv'\n",
    "\n",
    "data = pd.read_csv(file_path)"
   ]
  },
  {
   "cell_type": "markdown",
   "id": "b3572433",
   "metadata": {},
   "source": [
    "## Data Overview"
   ]
  },
  {
   "cell_type": "code",
   "execution_count": 6,
   "id": "72cac4d3",
   "metadata": {},
   "outputs": [
    {
     "name": "stdout",
     "output_type": "stream",
     "text": [
      "<class 'pandas.core.frame.DataFrame'>\n",
      "RangeIndex: 2916697 entries, 0 to 2916696\n",
      "Data columns (total 10 columns):\n",
      " #   Column     Dtype  \n",
      "---  ------     -----  \n",
      " 0   address    object \n",
      " 1   year       int64  \n",
      " 2   day        int64  \n",
      " 3   length     int64  \n",
      " 4   weight     float64\n",
      " 5   count      int64  \n",
      " 6   looped     int64  \n",
      " 7   neighbors  int64  \n",
      " 8   income     float64\n",
      " 9   label      object \n",
      "dtypes: float64(2), int64(6), object(2)\n",
      "memory usage: 222.5+ MB\n"
     ]
    }
   ],
   "source": [
    "data.info()"
   ]
  },
  {
   "cell_type": "code",
   "execution_count": 7,
   "id": "19cd5338",
   "metadata": {},
   "outputs": [
    {
     "data": {
      "text/html": [
       "<div>\n",
       "<style scoped>\n",
       "    .dataframe tbody tr th:only-of-type {\n",
       "        vertical-align: middle;\n",
       "    }\n",
       "\n",
       "    .dataframe tbody tr th {\n",
       "        vertical-align: top;\n",
       "    }\n",
       "\n",
       "    .dataframe thead th {\n",
       "        text-align: right;\n",
       "    }\n",
       "</style>\n",
       "<table border=\"1\" class=\"dataframe\">\n",
       "  <thead>\n",
       "    <tr style=\"text-align: right;\">\n",
       "      <th></th>\n",
       "      <th>address</th>\n",
       "      <th>year</th>\n",
       "      <th>day</th>\n",
       "      <th>length</th>\n",
       "      <th>weight</th>\n",
       "      <th>count</th>\n",
       "      <th>looped</th>\n",
       "      <th>neighbors</th>\n",
       "      <th>income</th>\n",
       "      <th>label</th>\n",
       "    </tr>\n",
       "  </thead>\n",
       "  <tbody>\n",
       "    <tr>\n",
       "      <th>0</th>\n",
       "      <td>111K8kZAEnJg245r2cM6y9zgJGHZtJPy6</td>\n",
       "      <td>2017</td>\n",
       "      <td>11</td>\n",
       "      <td>18</td>\n",
       "      <td>0.008333</td>\n",
       "      <td>1</td>\n",
       "      <td>0</td>\n",
       "      <td>2</td>\n",
       "      <td>100050000.0</td>\n",
       "      <td>princetonCerber</td>\n",
       "    </tr>\n",
       "    <tr>\n",
       "      <th>1</th>\n",
       "      <td>1123pJv8jzeFQaCV4w644pzQJzVWay2zcA</td>\n",
       "      <td>2016</td>\n",
       "      <td>132</td>\n",
       "      <td>44</td>\n",
       "      <td>0.000244</td>\n",
       "      <td>1</td>\n",
       "      <td>0</td>\n",
       "      <td>1</td>\n",
       "      <td>100000000.0</td>\n",
       "      <td>princetonLocky</td>\n",
       "    </tr>\n",
       "    <tr>\n",
       "      <th>2</th>\n",
       "      <td>112536im7hy6wtKbpH1qYDWtTyMRAcA2p7</td>\n",
       "      <td>2016</td>\n",
       "      <td>246</td>\n",
       "      <td>0</td>\n",
       "      <td>1.000000</td>\n",
       "      <td>1</td>\n",
       "      <td>0</td>\n",
       "      <td>2</td>\n",
       "      <td>200000000.0</td>\n",
       "      <td>princetonCerber</td>\n",
       "    </tr>\n",
       "    <tr>\n",
       "      <th>3</th>\n",
       "      <td>1126eDRw2wqSkWosjTCre8cjjQW8sSeWH7</td>\n",
       "      <td>2016</td>\n",
       "      <td>322</td>\n",
       "      <td>72</td>\n",
       "      <td>0.003906</td>\n",
       "      <td>1</td>\n",
       "      <td>0</td>\n",
       "      <td>2</td>\n",
       "      <td>71200000.0</td>\n",
       "      <td>princetonCerber</td>\n",
       "    </tr>\n",
       "    <tr>\n",
       "      <th>4</th>\n",
       "      <td>1129TSjKtx65E35GiUo4AYVeyo48twbrGX</td>\n",
       "      <td>2016</td>\n",
       "      <td>238</td>\n",
       "      <td>144</td>\n",
       "      <td>0.072848</td>\n",
       "      <td>456</td>\n",
       "      <td>0</td>\n",
       "      <td>1</td>\n",
       "      <td>200000000.0</td>\n",
       "      <td>princetonLocky</td>\n",
       "    </tr>\n",
       "  </tbody>\n",
       "</table>\n",
       "</div>"
      ],
      "text/plain": [
       "                              address  year  day  length    weight  count  \\\n",
       "0   111K8kZAEnJg245r2cM6y9zgJGHZtJPy6  2017   11      18  0.008333      1   \n",
       "1  1123pJv8jzeFQaCV4w644pzQJzVWay2zcA  2016  132      44  0.000244      1   \n",
       "2  112536im7hy6wtKbpH1qYDWtTyMRAcA2p7  2016  246       0  1.000000      1   \n",
       "3  1126eDRw2wqSkWosjTCre8cjjQW8sSeWH7  2016  322      72  0.003906      1   \n",
       "4  1129TSjKtx65E35GiUo4AYVeyo48twbrGX  2016  238     144  0.072848    456   \n",
       "\n",
       "   looped  neighbors       income            label  \n",
       "0       0          2  100050000.0  princetonCerber  \n",
       "1       0          1  100000000.0   princetonLocky  \n",
       "2       0          2  200000000.0  princetonCerber  \n",
       "3       0          2   71200000.0  princetonCerber  \n",
       "4       0          1  200000000.0   princetonLocky  "
      ]
     },
     "execution_count": 7,
     "metadata": {},
     "output_type": "execute_result"
    }
   ],
   "source": [
    "data.head()"
   ]
  },
  {
   "cell_type": "code",
   "execution_count": 8,
   "id": "99719ffa",
   "metadata": {},
   "outputs": [
    {
     "data": {
      "text/html": [
       "<div>\n",
       "<style scoped>\n",
       "    .dataframe tbody tr th:only-of-type {\n",
       "        vertical-align: middle;\n",
       "    }\n",
       "\n",
       "    .dataframe tbody tr th {\n",
       "        vertical-align: top;\n",
       "    }\n",
       "\n",
       "    .dataframe thead th {\n",
       "        text-align: right;\n",
       "    }\n",
       "</style>\n",
       "<table border=\"1\" class=\"dataframe\">\n",
       "  <thead>\n",
       "    <tr style=\"text-align: right;\">\n",
       "      <th></th>\n",
       "      <th>address</th>\n",
       "      <th>year</th>\n",
       "      <th>day</th>\n",
       "      <th>length</th>\n",
       "      <th>weight</th>\n",
       "      <th>count</th>\n",
       "      <th>looped</th>\n",
       "      <th>neighbors</th>\n",
       "      <th>income</th>\n",
       "      <th>label</th>\n",
       "    </tr>\n",
       "  </thead>\n",
       "  <tbody>\n",
       "    <tr>\n",
       "      <th>2006148</th>\n",
       "      <td>1F4NUHu4JUvYtucouRfwLSZZJcH7PNg6fP</td>\n",
       "      <td>2016</td>\n",
       "      <td>150</td>\n",
       "      <td>78</td>\n",
       "      <td>3.906250e-03</td>\n",
       "      <td>1</td>\n",
       "      <td>0</td>\n",
       "      <td>2</td>\n",
       "      <td>60069027.0</td>\n",
       "      <td>white</td>\n",
       "    </tr>\n",
       "    <tr>\n",
       "      <th>1124905</th>\n",
       "      <td>1BbxRrKL8Qn3LZ29EXMw2kKoybKPvq9V2M</td>\n",
       "      <td>2013</td>\n",
       "      <td>364</td>\n",
       "      <td>144</td>\n",
       "      <td>4.167522e-10</td>\n",
       "      <td>810</td>\n",
       "      <td>1</td>\n",
       "      <td>1</td>\n",
       "      <td>67855000.0</td>\n",
       "      <td>white</td>\n",
       "    </tr>\n",
       "    <tr>\n",
       "      <th>2201141</th>\n",
       "      <td>3DVGK1afPJcPq88dA64no6BFqhjYERykqk</td>\n",
       "      <td>2016</td>\n",
       "      <td>345</td>\n",
       "      <td>2</td>\n",
       "      <td>8.333333e-02</td>\n",
       "      <td>1</td>\n",
       "      <td>0</td>\n",
       "      <td>7</td>\n",
       "      <td>41073306.0</td>\n",
       "      <td>white</td>\n",
       "    </tr>\n",
       "    <tr>\n",
       "      <th>2585298</th>\n",
       "      <td>1Gpfxx1A2XEj1rJPcBY3UVyWKUu2iCyaHY</td>\n",
       "      <td>2017</td>\n",
       "      <td>364</td>\n",
       "      <td>16</td>\n",
       "      <td>4.166667e-04</td>\n",
       "      <td>1</td>\n",
       "      <td>0</td>\n",
       "      <td>2</td>\n",
       "      <td>88691572.0</td>\n",
       "      <td>white</td>\n",
       "    </tr>\n",
       "    <tr>\n",
       "      <th>1943698</th>\n",
       "      <td>3FEzNJiu1bVqFTAiGaixiFnsbpceusFFbG</td>\n",
       "      <td>2016</td>\n",
       "      <td>88</td>\n",
       "      <td>144</td>\n",
       "      <td>2.359284e-03</td>\n",
       "      <td>654</td>\n",
       "      <td>0</td>\n",
       "      <td>2</td>\n",
       "      <td>158836377.0</td>\n",
       "      <td>white</td>\n",
       "    </tr>\n",
       "  </tbody>\n",
       "</table>\n",
       "</div>"
      ],
      "text/plain": [
       "                                    address  year  day  length        weight  \\\n",
       "2006148  1F4NUHu4JUvYtucouRfwLSZZJcH7PNg6fP  2016  150      78  3.906250e-03   \n",
       "1124905  1BbxRrKL8Qn3LZ29EXMw2kKoybKPvq9V2M  2013  364     144  4.167522e-10   \n",
       "2201141  3DVGK1afPJcPq88dA64no6BFqhjYERykqk  2016  345       2  8.333333e-02   \n",
       "2585298  1Gpfxx1A2XEj1rJPcBY3UVyWKUu2iCyaHY  2017  364      16  4.166667e-04   \n",
       "1943698  3FEzNJiu1bVqFTAiGaixiFnsbpceusFFbG  2016   88     144  2.359284e-03   \n",
       "\n",
       "         count  looped  neighbors       income  label  \n",
       "2006148      1       0          2   60069027.0  white  \n",
       "1124905    810       1          1   67855000.0  white  \n",
       "2201141      1       0          7   41073306.0  white  \n",
       "2585298      1       0          2   88691572.0  white  \n",
       "1943698    654       0          2  158836377.0  white  "
      ]
     },
     "execution_count": 8,
     "metadata": {},
     "output_type": "execute_result"
    }
   ],
   "source": [
    "data.sample(5)"
   ]
  },
  {
   "cell_type": "code",
   "execution_count": 9,
   "id": "4da64766",
   "metadata": {},
   "outputs": [
    {
     "data": {
      "text/html": [
       "<div>\n",
       "<style scoped>\n",
       "    .dataframe tbody tr th:only-of-type {\n",
       "        vertical-align: middle;\n",
       "    }\n",
       "\n",
       "    .dataframe tbody tr th {\n",
       "        vertical-align: top;\n",
       "    }\n",
       "\n",
       "    .dataframe thead th {\n",
       "        text-align: right;\n",
       "    }\n",
       "</style>\n",
       "<table border=\"1\" class=\"dataframe\">\n",
       "  <thead>\n",
       "    <tr style=\"text-align: right;\">\n",
       "      <th></th>\n",
       "      <th>address</th>\n",
       "      <th>year</th>\n",
       "      <th>day</th>\n",
       "      <th>length</th>\n",
       "      <th>weight</th>\n",
       "      <th>count</th>\n",
       "      <th>looped</th>\n",
       "      <th>neighbors</th>\n",
       "      <th>income</th>\n",
       "      <th>label</th>\n",
       "    </tr>\n",
       "  </thead>\n",
       "  <tbody>\n",
       "    <tr>\n",
       "      <th>2916692</th>\n",
       "      <td>12D3trgho1vJ4mGtWBRPyHdMJK96TRYSry</td>\n",
       "      <td>2018</td>\n",
       "      <td>330</td>\n",
       "      <td>0</td>\n",
       "      <td>0.111111</td>\n",
       "      <td>1</td>\n",
       "      <td>0</td>\n",
       "      <td>1</td>\n",
       "      <td>1.255809e+09</td>\n",
       "      <td>white</td>\n",
       "    </tr>\n",
       "    <tr>\n",
       "      <th>2916693</th>\n",
       "      <td>1P7PputTcVkhXBmXBvSD9MJ3UYPsiou1u2</td>\n",
       "      <td>2018</td>\n",
       "      <td>330</td>\n",
       "      <td>0</td>\n",
       "      <td>1.000000</td>\n",
       "      <td>1</td>\n",
       "      <td>0</td>\n",
       "      <td>1</td>\n",
       "      <td>4.409699e+07</td>\n",
       "      <td>white</td>\n",
       "    </tr>\n",
       "    <tr>\n",
       "      <th>2916694</th>\n",
       "      <td>1KYiKJEfdJtap9QX2v9BXJMpz2SfU4pgZw</td>\n",
       "      <td>2018</td>\n",
       "      <td>330</td>\n",
       "      <td>2</td>\n",
       "      <td>12.000000</td>\n",
       "      <td>6</td>\n",
       "      <td>6</td>\n",
       "      <td>35</td>\n",
       "      <td>2.398267e+09</td>\n",
       "      <td>white</td>\n",
       "    </tr>\n",
       "    <tr>\n",
       "      <th>2916695</th>\n",
       "      <td>15iPUJsRNZQZHmZZVwmQ63srsmughCXV4a</td>\n",
       "      <td>2018</td>\n",
       "      <td>330</td>\n",
       "      <td>0</td>\n",
       "      <td>0.500000</td>\n",
       "      <td>1</td>\n",
       "      <td>0</td>\n",
       "      <td>1</td>\n",
       "      <td>1.780427e+08</td>\n",
       "      <td>white</td>\n",
       "    </tr>\n",
       "    <tr>\n",
       "      <th>2916696</th>\n",
       "      <td>3LFFBxp15h9KSFtaw55np8eP5fv6kdK17e</td>\n",
       "      <td>2018</td>\n",
       "      <td>330</td>\n",
       "      <td>144</td>\n",
       "      <td>0.073972</td>\n",
       "      <td>6800</td>\n",
       "      <td>0</td>\n",
       "      <td>2</td>\n",
       "      <td>1.123500e+08</td>\n",
       "      <td>white</td>\n",
       "    </tr>\n",
       "  </tbody>\n",
       "</table>\n",
       "</div>"
      ],
      "text/plain": [
       "                                    address  year  day  length     weight  \\\n",
       "2916692  12D3trgho1vJ4mGtWBRPyHdMJK96TRYSry  2018  330       0   0.111111   \n",
       "2916693  1P7PputTcVkhXBmXBvSD9MJ3UYPsiou1u2  2018  330       0   1.000000   \n",
       "2916694  1KYiKJEfdJtap9QX2v9BXJMpz2SfU4pgZw  2018  330       2  12.000000   \n",
       "2916695  15iPUJsRNZQZHmZZVwmQ63srsmughCXV4a  2018  330       0   0.500000   \n",
       "2916696  3LFFBxp15h9KSFtaw55np8eP5fv6kdK17e  2018  330     144   0.073972   \n",
       "\n",
       "         count  looped  neighbors        income  label  \n",
       "2916692      1       0          1  1.255809e+09  white  \n",
       "2916693      1       0          1  4.409699e+07  white  \n",
       "2916694      6       6         35  2.398267e+09  white  \n",
       "2916695      1       0          1  1.780427e+08  white  \n",
       "2916696   6800       0          2  1.123500e+08  white  "
      ]
     },
     "execution_count": 9,
     "metadata": {},
     "output_type": "execute_result"
    }
   ],
   "source": [
    "data.tail()"
   ]
  },
  {
   "cell_type": "code",
   "execution_count": 10,
   "id": "f7a4f4e6",
   "metadata": {},
   "outputs": [
    {
     "name": "stdout",
     "output_type": "stream",
     "text": [
      "Data has 2916697 rows and 10 columns\n"
     ]
    }
   ],
   "source": [
    "print('Data has {} rows and {} columns'.format(data.shape[0], data.shape[1]))"
   ]
  },
  {
   "cell_type": "code",
   "execution_count": 11,
   "id": "6ec23bde",
   "metadata": {},
   "outputs": [
    {
     "name": "stdout",
     "output_type": "stream",
     "text": [
      "Data columns: \n",
      "['address', 'year', 'day', 'length', 'weight', 'count', 'looped', 'neighbors', 'income']\n"
     ]
    }
   ],
   "source": [
    "print('Data columns: \\n{}'.format(list(data.columns)[:-1]))"
   ]
  },
  {
   "cell_type": "markdown",
   "id": "9115bd2b",
   "metadata": {},
   "source": [
    "## Checking for NaN"
   ]
  },
  {
   "cell_type": "code",
   "execution_count": 12,
   "id": "8cc29c05",
   "metadata": {},
   "outputs": [
    {
     "data": {
      "text/plain": [
       "False"
      ]
     },
     "execution_count": 12,
     "metadata": {},
     "output_type": "execute_result"
    }
   ],
   "source": [
    "data.isnull().values.any()"
   ]
  },
  {
   "cell_type": "markdown",
   "id": "fd4a8f74",
   "metadata": {},
   "source": [
    "## Droping any duplicates "
   ]
  },
  {
   "cell_type": "code",
   "execution_count": 13,
   "id": "750d60f5",
   "metadata": {},
   "outputs": [],
   "source": [
    "data = data.drop_duplicates()"
   ]
  },
  {
   "cell_type": "code",
   "execution_count": 14,
   "id": "36a10417",
   "metadata": {},
   "outputs": [
    {
     "data": {
      "text/plain": [
       "(2916697, 10)"
      ]
     },
     "execution_count": 14,
     "metadata": {},
     "output_type": "execute_result"
    }
   ],
   "source": [
    "data.shape"
   ]
  },
  {
   "cell_type": "markdown",
   "id": "06719d47",
   "metadata": {},
   "source": [
    "## Rename "
   ]
  },
  {
   "cell_type": "markdown",
   "id": "6d4e66e0",
   "metadata": {},
   "source": [
    "The count column may confuse the computer with the count() function,\n",
    "so lets rename it."
   ]
  },
  {
   "cell_type": "code",
   "execution_count": 15,
   "id": "c67376a4",
   "metadata": {},
   "outputs": [],
   "source": [
    "data.rename(columns={'count':'counted'},inplace=True)"
   ]
  },
  {
   "cell_type": "markdown",
   "id": "0e9fb7b3",
   "metadata": {},
   "source": [
    "##  Distribution of the features"
   ]
  },
  {
   "cell_type": "code",
   "execution_count": 16,
   "id": "7a9726a6",
   "metadata": {},
   "outputs": [
    {
     "name": "stderr",
     "output_type": "stream",
     "text": [
      "C:\\Users\\user\\anaconda3\\lib\\site-packages\\seaborn\\distributions.py:2557: FutureWarning: `distplot` is a deprecated function and will be removed in a future version. Please adapt your code to use either `displot` (a figure-level function with similar flexibility) or `histplot` (an axes-level function for histograms).\n",
      "  warnings.warn(msg, FutureWarning)\n",
      "C:\\Users\\user\\anaconda3\\lib\\site-packages\\seaborn\\distributions.py:2557: FutureWarning: `distplot` is a deprecated function and will be removed in a future version. Please adapt your code to use either `displot` (a figure-level function with similar flexibility) or `histplot` (an axes-level function for histograms).\n",
      "  warnings.warn(msg, FutureWarning)\n",
      "C:\\Users\\user\\anaconda3\\lib\\site-packages\\seaborn\\distributions.py:2557: FutureWarning: `distplot` is a deprecated function and will be removed in a future version. Please adapt your code to use either `displot` (a figure-level function with similar flexibility) or `histplot` (an axes-level function for histograms).\n",
      "  warnings.warn(msg, FutureWarning)\n",
      "C:\\Users\\user\\anaconda3\\lib\\site-packages\\seaborn\\distributions.py:2557: FutureWarning: `distplot` is a deprecated function and will be removed in a future version. Please adapt your code to use either `displot` (a figure-level function with similar flexibility) or `histplot` (an axes-level function for histograms).\n",
      "  warnings.warn(msg, FutureWarning)\n",
      "C:\\Users\\user\\anaconda3\\lib\\site-packages\\seaborn\\distributions.py:2557: FutureWarning: `distplot` is a deprecated function and will be removed in a future version. Please adapt your code to use either `displot` (a figure-level function with similar flexibility) or `histplot` (an axes-level function for histograms).\n",
      "  warnings.warn(msg, FutureWarning)\n",
      "C:\\Users\\user\\anaconda3\\lib\\site-packages\\seaborn\\distributions.py:2557: FutureWarning: `distplot` is a deprecated function and will be removed in a future version. Please adapt your code to use either `displot` (a figure-level function with similar flexibility) or `histplot` (an axes-level function for histograms).\n",
      "  warnings.warn(msg, FutureWarning)\n",
      "C:\\Users\\user\\anaconda3\\lib\\site-packages\\seaborn\\distributions.py:2557: FutureWarning: `distplot` is a deprecated function and will be removed in a future version. Please adapt your code to use either `displot` (a figure-level function with similar flexibility) or `histplot` (an axes-level function for histograms).\n",
      "  warnings.warn(msg, FutureWarning)\n"
     ]
    },
    {
     "data": {
      "text/plain": [
       "(30000000.0, 49964398238996.0)"
      ]
     },
     "execution_count": 16,
     "metadata": {},
     "output_type": "execute_result"
    },
    {
     "data": {
      "image/png": "[encoded data removed]",
      "text/plain": [
       "<Figure size 1152x1152 with 7 Axes>"
      ]
     },
     "metadata": {
      "needs_background": "light"
     },
     "output_type": "display_data"
    }
   ],
   "source": [
    "# distplot to show how the data is distributed.\n",
    "\n",
    "fig, ax = plt.subplots(7, 1,figsize=(16,16))\n",
    "fig.tight_layout()\n",
    "\n",
    "day_val       = data.day.values\n",
    "length_val    = data.length.values\n",
    "weight_val    = data.weight.values\n",
    "counted_val   = data.counted.values\n",
    "looped_val    = data.looped.values\n",
    "neighbors_val = data.neighbors.values\n",
    "income_val    = data.income.values\n",
    "\n",
    "sns.distplot(day_val, ax=ax[0],color='red')\n",
    "ax[0].set_title('Distribution of Day', fontsize=14)\n",
    "ax[0].set_xlim([min(day_val), max(day_val)])\n",
    "\n",
    "sns.distplot(length_val, ax=ax[1],color='orange')\n",
    "ax[1].set_title('Distribution of Length', fontsize=14)\n",
    "ax[1].set_xlim([min(length_val), max(length_val)])\n",
    "\n",
    "sns.distplot(weight_val, ax=ax[2],color='yellow')\n",
    "ax[2].set_title('Distribution of Weight', fontsize=14)\n",
    "ax[2].set_xlim([min(weight_val), max(weight_val)])\n",
    "\n",
    "sns.distplot(counted_val, ax=ax[3],color='green')\n",
    "ax[3].set_title('Distribution of Counted', fontsize=14)\n",
    "ax[3].set_xlim([min(counted_val), max(counted_val)])\n",
    "\n",
    "sns.distplot(looped_val, ax=ax[4],color='blue')\n",
    "ax[4].set_title('Distribution of Looped', fontsize=14)\n",
    "ax[4].set_xlim([min(looped_val), max(looped_val)])\n",
    "\n",
    "sns.distplot(neighbors_val, ax=ax[5],color='indigo')\n",
    "ax[5].set_title('Distribution of Neighbors', fontsize=14)\n",
    "ax[5].set_xlim([min(neighbors_val), max(neighbors_val)])\n",
    "\n",
    "sns.distplot(income_val, ax=ax[6],color='purple')\n",
    "ax[6].set_title('Distribution of Income', fontsize=14)\n",
    "ax[6].set_xlim([min(income_val), max(income_val)])"
   ]
  },
  {
   "cell_type": "markdown",
   "id": "89a3461a",
   "metadata": {},
   "source": [
    "Since the data is not in normal distribution, we will perform the Box-Cox transformation to transforms our data so that it closely resembles a normal distribution.\n",
    "you will see later how the Box-Cox you change the distribution."
   ]
  },
  {
   "cell_type": "markdown",
   "id": "456cb447",
   "metadata": {},
   "source": [
    "##  Classes preparing"
   ]
  },
  {
   "cell_type": "markdown",
   "id": "5f331a4d",
   "metadata": {},
   "source": [
    "The positive class is any kind of \"ransomware label\" will takes '1' as value.  \n",
    "The negative class is the \"White label\" will takes '0' as value. "
   ]
  },
  {
   "cell_type": "code",
   "execution_count": 17,
   "id": "d9ff2439",
   "metadata": {},
   "outputs": [
    {
     "data": {
      "application/vnd.jupyter.widget-view+json": {
       "model_id": "81702eaabd204b519b6219f17b32e5fa",
       "version_major": 2,
       "version_minor": 0
      },
      "text/plain": [
       "  0%|          | 0/2916697 [00:00<?, ?it/s]"
      ]
     },
     "metadata": {},
     "output_type": "display_data"
    }
   ],
   "source": [
    "labels = np.array([])\n",
    "for label_i in tqdm(data['label']):\n",
    "    if label_i == 'white':\n",
    "        labels = np.append(labels, 0) #not ransomware\n",
    "    else:\n",
    "        #all non-white (i.e. families of ransomware) will be binned under one class\n",
    "        labels = np.append(labels, 1) #ransomware"
   ]
  },
  {
   "cell_type": "code",
   "execution_count": 18,
   "id": "38a76602",
   "metadata": {},
   "outputs": [
    {
     "name": "stdout",
     "output_type": "stream",
     "text": [
      "Number of white (non-ransomware) datapoints: 2875284\n",
      "Number of ransomware datapoints: 41413\n"
     ]
    }
   ],
   "source": [
    "print('Number of white (non-ransomware) datapoints: {}\\nNumber of ransomware datapoints: {}'\\\n",
    "      .format(data['label'].value_counts()[0], \n",
    "              sum(data['label'].value_counts()[1:])\n",
    "             ))"
   ]
  },
  {
   "cell_type": "code",
   "execution_count": 19,
   "id": "bd2f609b",
   "metadata": {},
   "outputs": [
    {
     "name": "stdout",
     "output_type": "stream",
     "text": [
      "Percentage of data-points belonging to ransomware class: 1.4198595191752863\n"
     ]
    }
   ],
   "source": [
    "print('Percentage of data-points belonging to ransomware class: {}'.format((sum(labels) / len(labels)) * 100))"
   ]
  },
  {
   "cell_type": "markdown",
   "id": "eb59bdf6",
   "metadata": {},
   "source": [
    "## Train test split"
   ]
  },
  {
   "cell_type": "code",
   "execution_count": 23,
   "id": "6b67a6e6",
   "metadata": {},
   "outputs": [],
   "source": [
    "X_train, X_test, y_train, y_test = train_test_split(\n",
    "    data.drop(['label'], axis=1), \n",
    "    labels,\n",
    "    stratify = labels, #Having equal number of positive class in both training and testing\n",
    "    random_state = 42,\n",
    "    test_size = 0.2\n",
    ")"
   ]
  },
  {
   "cell_type": "code",
   "execution_count": 24,
   "id": "47d4ecc9",
   "metadata": {},
   "outputs": [],
   "source": [
    "#storing the stock dataframes for later use\n",
    "X_train_stock = X_train.copy()\n",
    "X_test_stock  = X_test.copy()"
   ]
  },
  {
   "cell_type": "markdown",
   "id": "14e872e1",
   "metadata": {},
   "source": [
    "# Feature engineering"
   ]
  },
  {
   "cell_type": "markdown",
   "id": "95a0cf4d",
   "metadata": {},
   "source": [
    "Extract features from raw data via data mining techniques,  \n",
    "these features can be used to improve the performance of machine learning algorithms."
   ]
  },
  {
   "cell_type": "markdown",
   "id": "0f1ee9ac",
   "metadata": {},
   "source": [
    "### 1. n_address_feature"
   ]
  },
  {
   "cell_type": "markdown",
   "id": "f303dbb7",
   "metadata": {},
   "source": [
    "The feature contains the number of times the address has been seen in the training set  \n",
    "(boxcox transformation applied)"
   ]
  },
  {
   "cell_type": "code",
   "execution_count": 25,
   "id": "2788cc18",
   "metadata": {},
   "outputs": [
    {
     "data": {
      "text/plain": [
       "1LXrSb67EaH1LGc6d6kWHq8rgv4ZBQAcpU    348\n",
       "16cVG72goMe4sNqZhnpmnqfCMZ1uSFbUit    206\n",
       "12wQZTDmA8onM3sEt4jwcvzDxnNXxD8Vza    174\n",
       "12YursV58dRT2c9iuZg3jEWfwgTDamBcnd    147\n",
       "1CVWpTNwNYGdKgZRohiiVFrnFNbw8anG9     147\n",
       "                                     ... \n",
       "18zvFQa7J5tchrhT96L9nsnwQqXdayr7UP      1\n",
       "19GoHVARPHydHjHPuypjSMcfsD4Pbjf9FD      1\n",
       "32x4VTzffhdSuXf9PC6HFDg3goYfBZjAfQ      1\n",
       "12VBYQ1xR3FMa5GU3famRX9WKpWmEJzZyG      1\n",
       "1E4wpSDSwgeP5pNkJEZ1jf3SEbahsVjxH9      1\n",
       "Name: address, Length: 2121750, dtype: int64"
      ]
     },
     "execution_count": 25,
     "metadata": {},
     "output_type": "execute_result"
    }
   ],
   "source": [
    "X_train['address'].value_counts()"
   ]
  },
  {
   "cell_type": "code",
   "execution_count": 26,
   "id": "4cb30e7c",
   "metadata": {},
   "outputs": [],
   "source": [
    "n_addresses = list(X_train['address'].value_counts())"
   ]
  },
  {
   "cell_type": "code",
   "execution_count": 27,
   "id": "aee45d0b",
   "metadata": {},
   "outputs": [
    {
     "name": "stdout",
     "output_type": "stream",
     "text": [
      "An address is repeated an average of 1.0997322964533993 number of times\n"
     ]
    }
   ],
   "source": [
    "print('An address is repeated an average of {} number of times'.format(np.mean(n_addresses)))"
   ]
  },
  {
   "cell_type": "code",
   "execution_count": 28,
   "id": "af9e5c39",
   "metadata": {},
   "outputs": [
    {
     "name": "stderr",
     "output_type": "stream",
     "text": [
      "C:\\Users\\user\\anaconda3\\lib\\site-packages\\seaborn\\distributions.py:2557: FutureWarning: `distplot` is a deprecated function and will be removed in a future version. Please adapt your code to use either `displot` (a figure-level function with similar flexibility) or `histplot` (an axes-level function for histograms).\n",
      "  warnings.warn(msg, FutureWarning)\n"
     ]
    },
    {
     "data": {
      "image/png": "[encoded data removed]",
      "text/plain": [
       "<Figure size 432x288 with 1 Axes>"
      ]
     },
     "metadata": {
      "needs_background": "light"
     },
     "output_type": "display_data"
    }
   ],
   "source": [
    "#plot to print distribution of n_addresses\n",
    "\n",
    "plt.title('Distribution plot of n_addresses')\n",
    "sns.distplot(n_addresses)\n",
    "plt.xlabel('n_addresses')\n",
    "plt.ylabel('PDF')\n",
    "plt.show()"
   ]
  },
  {
   "cell_type": "code",
   "execution_count": 29,
   "id": "4bfc1c96",
   "metadata": {},
   "outputs": [],
   "source": [
    "dict_n_address = dict(X_train['address'].value_counts())\n",
    "#dict_n_address contains a dictionary of addresses and the number of times they appear in training set\n",
    "\n",
    "n_address = boxcox(np.array(list(dict_n_address.values())))[0]\n",
    "#Applying boxcox over all the number of times each address apears"
   ]
  },
  {
   "cell_type": "code",
   "execution_count": 30,
   "id": "20311590",
   "metadata": {},
   "outputs": [
    {
     "name": "stderr",
     "output_type": "stream",
     "text": [
      "C:\\Users\\user\\anaconda3\\lib\\site-packages\\seaborn\\distributions.py:2557: FutureWarning: `distplot` is a deprecated function and will be removed in a future version. Please adapt your code to use either `displot` (a figure-level function with similar flexibility) or `histplot` (an axes-level function for histograms).\n",
      "  warnings.warn(msg, FutureWarning)\n"
     ]
    },
    {
     "data": {
      "image/png": "[encoded data removed]",
      "text/plain": [
       "<Figure size 432x288 with 1 Axes>"
      ]
     },
     "metadata": {
      "needs_background": "light"
     },
     "output_type": "display_data"
    }
   ],
   "source": [
    "sns.distplot(n_address)\n",
    "plt.title('Distribution of boxcox of number of times each address appears in training set')\n",
    "plt.show()"
   ]
  },
  {
   "cell_type": "code",
   "execution_count": 32,
   "id": "7f7d6d60",
   "metadata": {},
   "outputs": [
    {
     "data": {
      "text/plain": [
       "True"
      ]
     },
     "execution_count": 32,
     "metadata": {},
     "output_type": "execute_result"
    }
   ],
   "source": [
    "len(n_address) == len(np.array(list(dict_n_address.values()))) #just a sanity check"
   ]
  },
  {
   "cell_type": "code",
   "execution_count": 33,
   "id": "f61fbaff",
   "metadata": {},
   "outputs": [
    {
     "data": {
      "application/vnd.jupyter.widget-view+json": {
       "model_id": "222da7b2287f4cb283ce2287946b4564",
       "version_major": 2,
       "version_minor": 0
      },
      "text/plain": [
       "0it [00:00, ?it/s]"
      ]
     },
     "metadata": {},
     "output_type": "display_data"
    }
   ],
   "source": [
    "for index, key in tqdm(enumerate(dict_n_address.keys())):\n",
    "    #We are updating the dictionary with number of times each address appears with\n",
    "    #the boxcox transformation applied to fix the skewness\n",
    "    updated = {key: n_address[index]}\n",
    "    dict_n_address.update(updated)"
   ]
  },
  {
   "cell_type": "code",
   "execution_count": 34,
   "id": "46aaa84b",
   "metadata": {},
   "outputs": [
    {
     "data": {
      "text/plain": [
       "0.000000    2046548\n",
       "0.038124      43000\n",
       "0.038124      19373\n",
       "0.038124      12829\n",
       "dtype: int64"
      ]
     },
     "execution_count": 34,
     "metadata": {},
     "output_type": "execute_result"
    }
   ],
   "source": [
    "pd.Series(list(dict_n_address.values())).value_counts()"
   ]
  },
  {
   "cell_type": "code",
   "execution_count": 35,
   "id": "d4985dc3",
   "metadata": {},
   "outputs": [
    {
     "data": {
      "application/vnd.jupyter.widget-view+json": {
       "model_id": "d470fdbc988149d9b46a62cc391b1532",
       "version_major": 2,
       "version_minor": 0
      },
      "text/plain": [
       "  0%|          | 0/2333357 [00:00<?, ?it/s]"
      ]
     },
     "metadata": {},
     "output_type": "display_data"
    }
   ],
   "source": [
    "n_address_feature_train = np.array([])\n",
    "\n",
    "for index, row in tqdm(X_train.iterrows(), total=X_train.shape[0]):\n",
    "    #We are getting a list of the new values\n",
    "    #For each address in the training set we are appending its corresponding boxcox'd\n",
    "    #number of times its appeared in training set\n",
    "\n",
    "    n_address_i = dict_n_address.get(X_train.loc[index]['address']) \n",
    "    n_address_feature_train = np.append(n_address_feature_train, n_address_i)"
   ]
  },
  {
   "cell_type": "code",
   "execution_count": 36,
   "id": "04ddd090",
   "metadata": {},
   "outputs": [
    {
     "data": {
      "application/vnd.jupyter.widget-view+json": {
       "model_id": "849e6163cab34278924f62055c2bd44c",
       "version_major": 2,
       "version_minor": 0
      },
      "text/plain": [
       "  0%|          | 0/583340 [00:00<?, ?it/s]"
      ]
     },
     "metadata": {},
     "output_type": "display_data"
    }
   ],
   "source": [
    "n_address_feature_test = np.array([])\n",
    "min_dict_n_address = min(list(dict_n_address.values()))\n",
    "\n",
    "for index, row in tqdm(X_test.iterrows(), total=X_test.shape[0]):\n",
    "    try:\n",
    "        #we do the same as above\n",
    "\n",
    "        n_address_i = dict_n_address[X_test.loc[index]['address']]\n",
    "    except KeyError:\n",
    "        #KeyError arises when the addreses in training set has not been seen before (i.e cold start)\n",
    "        #For this, we assign the minimum value to it\n",
    "\n",
    "        n_address_i = min_dict_n_address #Addressing cold start\n",
    "    n_address_feature_test = np.append(n_address_feature_test, n_address_i)"
   ]
  },
  {
   "cell_type": "markdown",
   "id": "c26148f1",
   "metadata": {},
   "source": [
    "### 2. quarter_number"
   ]
  },
  {
   "cell_type": "markdown",
   "id": "e3625c50",
   "metadata": {},
   "source": [
    "Feature indicates which quarter of the year the day number belongs to."
   ]
  },
  {
   "cell_type": "code",
   "execution_count": 38,
   "id": "f97b67b3",
   "metadata": {},
   "outputs": [],
   "source": [
    "def get_quarter(day):\n",
    "    if day <= 91:\n",
    "        #First 3 months, so we return quarter number = 1\n",
    "        return 1\n",
    "    elif day <= 91 * 2:\n",
    "        #Next 3 months, quarter number = 2\n",
    "        return 2\n",
    "    elif day <= 91 * 3:\n",
    "        #Next 3 months, quarter number = 3\n",
    "        return 3\n",
    "    else:\n",
    "        #Last 4 months, quarter nubmer = 4\n",
    "        return 4"
   ]
  },
  {
   "cell_type": "code",
   "execution_count": 39,
   "id": "b389f597",
   "metadata": {},
   "outputs": [
    {
     "data": {
      "application/vnd.jupyter.widget-view+json": {
       "model_id": "ddb88b934c2743038152ca8fbea5a106",
       "version_major": 2,
       "version_minor": 0
      },
      "text/plain": [
       "  0%|          | 0/2333357 [00:00<?, ?it/s]"
      ]
     },
     "metadata": {},
     "output_type": "display_data"
    }
   ],
   "source": [
    "quarter_number_feature_train = np.array([])\n",
    "day_train = X_train['day']\n",
    "\n",
    "for day in tqdm(day_train):\n",
    "    #For each day, we append its correspoding quarter number\n",
    "\n",
    "    quarter_number_feature_train = np.append(quarter_number_feature_train, get_quarter(day))"
   ]
  },
  {
   "cell_type": "code",
   "execution_count": 40,
   "id": "472ada52",
   "metadata": {},
   "outputs": [
    {
     "data": {
      "application/vnd.jupyter.widget-view+json": {
       "model_id": "e507dfb3a8ab4cecab5db159de81a794",
       "version_major": 2,
       "version_minor": 0
      },
      "text/plain": [
       "  0%|          | 0/583340 [00:00<?, ?it/s]"
      ]
     },
     "metadata": {},
     "output_type": "display_data"
    }
   ],
   "source": [
    "quarter_number_feature_test = np.array([])\n",
    "day_test = X_test['day']\n",
    "\n",
    "for day in tqdm(day_test):\n",
    "    #Doing the same for test set\n",
    "\n",
    "    quarter_number_feature_test = np.append(quarter_number_feature_test, get_quarter(day))"
   ]
  },
  {
   "cell_type": "markdown",
   "id": "2170159c",
   "metadata": {},
   "source": [
    "### 3. is_close_to_holiday"
   ]
  },
  {
   "cell_type": "markdown",
   "id": "202cbb0e",
   "metadata": {},
   "source": [
    "Feature indicates if the day number was close to a major public holiday in America."
   ]
  },
  {
   "cell_type": "code",
   "execution_count": 41,
   "id": "e2ba1f69",
   "metadata": {},
   "outputs": [],
   "source": [
    "public_holidays = [\n",
    "    1, #New Year’s Day, January 1\n",
    "    15, #Birthday of Martin Luther King, Jr, 15 January\n",
    "    53, #Washington's birthday February 22\n",
    "    151, #Memorial day, May 31\n",
    "    185, #Independence day, July 4\n",
    "    121, #Labor day, May 1\n",
    "    285, #Columbus day, October 12\n",
    "    315, #Veteran's day, November 11\n",
    "    330, #Thanksgiving day, November 26\n",
    "    360, #Christmas day, December 25\n",
    "]"
   ]
  },
  {
   "cell_type": "code",
   "execution_count": 42,
   "id": "fa2eed88",
   "metadata": {},
   "outputs": [],
   "source": [
    "def is_close(holiday, day):\n",
    "    #if the day is within 1 week leading upto the holiday or after the holiday return True\n",
    "    if np.abs(holiday - day) > 7:\n",
    "        return 0\n",
    "    return 1"
   ]
  },
  {
   "cell_type": "code",
   "execution_count": 43,
   "id": "45d65455",
   "metadata": {},
   "outputs": [
    {
     "data": {
      "application/vnd.jupyter.widget-view+json": {
       "model_id": "21b8d946053d41748f7baf1b72c3d101",
       "version_major": 2,
       "version_minor": 0
      },
      "text/plain": [
       "0it [00:00, ?it/s]"
      ]
     },
     "metadata": {},
     "output_type": "display_data"
    }
   ],
   "source": [
    "is_close_to_holiday_train = np.array([], dtype=int)\n",
    "for index, day in tqdm(enumerate(X_train['day'])):\n",
    "    #For each day, we check if its close to any major holiday; if so, we append 1 else 0\n",
    "\n",
    "    is_close_to_holiday_train = np.append(is_close_to_holiday_train, any([is_close(holiday, day) for holiday in public_holidays]))"
   ]
  },
  {
   "cell_type": "code",
   "execution_count": 44,
   "id": "3393e76f",
   "metadata": {},
   "outputs": [
    {
     "data": {
      "application/vnd.jupyter.widget-view+json": {
       "model_id": "8db109e640dc40febdbf5fdd0f517f1e",
       "version_major": 2,
       "version_minor": 0
      },
      "text/plain": [
       "0it [00:00, ?it/s]"
      ]
     },
     "metadata": {},
     "output_type": "display_data"
    }
   ],
   "source": [
    "is_close_to_holiday_test = np.array([], dtype=int)\n",
    "for index, day in tqdm(enumerate(X_test['day'])):\n",
    "    #Same as above but for test set\n",
    "\n",
    "    is_close_to_holiday_test = np.append(is_close_to_holiday_test, any([is_close(holiday, day) for holiday in public_holidays]))"
   ]
  },
  {
   "cell_type": "markdown",
   "id": "4cfc0178",
   "metadata": {},
   "source": [
    "### 4. day_of_the_week"
   ]
  },
  {
   "cell_type": "markdown",
   "id": "d387485e",
   "metadata": {},
   "source": [
    "Feature indicates the number of the weekday (for eg: 0 for Monday and 6 for Sunday).  \n",
    "The hypothesis is that the day of the week might correlate with the nature of the transaction."
   ]
  },
  {
   "cell_type": "code",
   "execution_count": 45,
   "id": "43144f44",
   "metadata": {},
   "outputs": [],
   "source": [
    "def get_day_number(first_day, day_i):\n",
    "    #return day number (0 for monday, 6 for sunday) for day_i\n",
    "    return (first_day + day_i - 1) % 7"
   ]
  },
  {
   "cell_type": "code",
   "execution_count": 46,
   "id": "c3616090",
   "metadata": {},
   "outputs": [
    {
     "data": {
      "application/vnd.jupyter.widget-view+json": {
       "model_id": "8e50de44be5b406a8835a33c91373747",
       "version_major": 2,
       "version_minor": 0
      },
      "text/plain": [
       "0it [00:00, ?it/s]"
      ]
     },
     "metadata": {},
     "output_type": "display_data"
    }
   ],
   "source": [
    "day_of_week_train = np.array([])\n",
    "for index, row in tqdm(X_train.iterrows()):\n",
    "    #For each data-point, we consider its year and day and calculate what day of the week (Monday, Tuesday, etc)\n",
    "    #it was when the transaction happened\n",
    "    \n",
    "    #datetime.datetime(year, 1, 1).weekday() returns the first day of the year in the year = year\n",
    "    #using this information, we can calculate the present day\n",
    "\n",
    "    year_i, day_i = row['year'], row['day']\n",
    "    day_of_week_train = np.append(day_of_week_train, get_day_number(datetime.datetime(year_i, 1, 1).weekday(), day_i))"
   ]
  },
  {
   "cell_type": "code",
   "execution_count": 47,
   "id": "4a5f6448",
   "metadata": {},
   "outputs": [
    {
     "data": {
      "application/vnd.jupyter.widget-view+json": {
       "model_id": "ae195d8bf11645c2a78526759ff4d51a",
       "version_major": 2,
       "version_minor": 0
      },
      "text/plain": [
       "0it [00:00, ?it/s]"
      ]
     },
     "metadata": {},
     "output_type": "display_data"
    }
   ],
   "source": [
    "day_of_week_test = np.array([])\n",
    "for index, row in tqdm(X_test.iterrows()):\n",
    "    #same as above but for test set\n",
    "\n",
    "    year_i, day_i = row['year'], row['day']\n",
    "    day_of_week_test = np.append(day_of_week_test, get_day_number(datetime.datetime(year_i, 1, 1).weekday(), day_i))"
   ]
  },
  {
   "cell_type": "markdown",
   "id": "e45b34e8",
   "metadata": {},
   "source": [
    "### 5. gaussian_length"
   ]
  },
  {
   "cell_type": "code",
   "execution_count": 48,
   "id": "06159ea9",
   "metadata": {},
   "outputs": [
    {
     "name": "stderr",
     "output_type": "stream",
     "text": [
      "C:\\Users\\user\\anaconda3\\lib\\site-packages\\seaborn\\distributions.py:2557: FutureWarning: `distplot` is a deprecated function and will be removed in a future version. Please adapt your code to use either `displot` (a figure-level function with similar flexibility) or `histplot` (an axes-level function for histograms).\n",
      "  warnings.warn(msg, FutureWarning)\n"
     ]
    },
    {
     "data": {
      "text/plain": [
       "[]"
      ]
     },
     "execution_count": 48,
     "metadata": {},
     "output_type": "execute_result"
    },
    {
     "data": {
      "image/png": "[encoded data removed]",
      "text/plain": [
       "<Figure size 432x288 with 1 Axes>"
      ]
     },
     "metadata": {
      "needs_background": "light"
     },
     "output_type": "display_data"
    }
   ],
   "source": [
    "# Looking at its distribution\n",
    "\n",
    "sns.distplot(X_train['length'])\n",
    "plt.title('Distribution of length')\n",
    "plt.plot()"
   ]
  },
  {
   "cell_type": "markdown",
   "id": "5184f25a",
   "metadata": {},
   "source": [
    "Feature tries to fix the skewness of the length variable.   \n",
    "This is done by applying complex functions over the length feature and then performing a boxcox operation on it."
   ]
  },
  {
   "cell_type": "code",
   "execution_count": 49,
   "id": "1be4a6d7",
   "metadata": {},
   "outputs": [
    {
     "name": "stderr",
     "output_type": "stream",
     "text": [
      "C:\\Users\\user\\anaconda3\\lib\\site-packages\\seaborn\\distributions.py:2557: FutureWarning: `distplot` is a deprecated function and will be removed in a future version. Please adapt your code to use either `displot` (a figure-level function with similar flexibility) or `histplot` (an axes-level function for histograms).\n",
      "  warnings.warn(msg, FutureWarning)\n"
     ]
    },
    {
     "data": {
      "image/png": "[encoded data removed]",
      "text/plain": [
       "<Figure size 432x288 with 1 Axes>"
      ]
     },
     "metadata": {
      "needs_background": "light"
     },
     "output_type": "display_data"
    }
   ],
   "source": [
    "# applying box-cox transformation\n",
    "\n",
    "sns.distplot(boxcox(np.array(X_train['length']) + 1e-6)[0])\n",
    "plt.title('Distribution of boxcox transformation over length')\n",
    "plt.show()"
   ]
  },
  {
   "cell_type": "code",
   "execution_count": 50,
   "id": "40e73bea",
   "metadata": {},
   "outputs": [
    {
     "name": "stderr",
     "output_type": "stream",
     "text": [
      "C:\\Users\\user\\anaconda3\\lib\\site-packages\\seaborn\\distributions.py:2557: FutureWarning: `distplot` is a deprecated function and will be removed in a future version. Please adapt your code to use either `displot` (a figure-level function with similar flexibility) or `histplot` (an axes-level function for histograms).\n",
      "  warnings.warn(msg, FutureWarning)\n"
     ]
    },
    {
     "data": {
      "image/png": "[encoded data removed]",
      "text/plain": [
       "<Figure size 432x288 with 1 Axes>"
      ]
     },
     "metadata": {
      "needs_background": "light"
     },
     "output_type": "display_data"
    }
   ],
   "source": [
    "#We can see a sort of 'cyclic' waveform in the above graph. it appears that we have an\n",
    "#alternating pattern of high and low values. maybe sin transform might help?\n",
    "\n",
    "sns.distplot(boxcox((np.sin(np.log(np.sqrt(np.array(X_train['length']) + 1e-6)))) ** 2)[0])\n",
    "plt.title('Trignometric and Transcendental functions on length ')\n",
    "plt.show()"
   ]
  },
  {
   "cell_type": "markdown",
   "id": "b96e6d1d",
   "metadata": {},
   "source": [
    "These transformations make the distribution more gaussian and thus, will help during modelling."
   ]
  },
  {
   "cell_type": "code",
   "execution_count": 51,
   "id": "de81158a",
   "metadata": {},
   "outputs": [],
   "source": [
    "gaussian_length_train = boxcox((np.sin(np.log(np.sqrt(np.array(X_train['length']) + 1e-6)))) ** 2)[0]\n",
    "gaussian_length_test  = boxcox((np.sin(np.log(np.sqrt(np.array(X_test['length']) + 1e-6)))) ** 2)[0]"
   ]
  },
  {
   "cell_type": "markdown",
   "id": "a48b36ab",
   "metadata": {},
   "source": [
    "### 6. gaussian_weight"
   ]
  },
  {
   "cell_type": "code",
   "execution_count": 52,
   "id": "67b4dcbc",
   "metadata": {},
   "outputs": [
    {
     "name": "stderr",
     "output_type": "stream",
     "text": [
      "C:\\Users\\user\\anaconda3\\lib\\site-packages\\seaborn\\distributions.py:2557: FutureWarning: `distplot` is a deprecated function and will be removed in a future version. Please adapt your code to use either `displot` (a figure-level function with similar flexibility) or `histplot` (an axes-level function for histograms).\n",
      "  warnings.warn(msg, FutureWarning)\n"
     ]
    },
    {
     "data": {
      "image/png": "[encoded data removed]",
      "text/plain": [
       "<Figure size 432x288 with 1 Axes>"
      ]
     },
     "metadata": {
      "needs_background": "light"
     },
     "output_type": "display_data"
    }
   ],
   "source": [
    "# Looking at its distribution\n",
    "\n",
    "sns.distplot(X_train['weight'])\n",
    "plt.title('Distribution of weight')\n",
    "plt.show()"
   ]
  },
  {
   "cell_type": "markdown",
   "id": "3823fd9b",
   "metadata": {},
   "source": [
    "Feature corrects for the skewedness in weight."
   ]
  },
  {
   "cell_type": "code",
   "execution_count": 53,
   "id": "a77b74dd",
   "metadata": {},
   "outputs": [
    {
     "name": "stderr",
     "output_type": "stream",
     "text": [
      "C:\\Users\\user\\anaconda3\\lib\\site-packages\\numpy\\core\\_methods.py:232: RuntimeWarning: overflow encountered in multiply\n",
      "  x = um.multiply(x, x, out=x)\n",
      "C:\\Users\\user\\anaconda3\\lib\\site-packages\\seaborn\\distributions.py:2557: FutureWarning: `distplot` is a deprecated function and will be removed in a future version. Please adapt your code to use either `displot` (a figure-level function with similar flexibility) or `histplot` (an axes-level function for histograms).\n",
      "  warnings.warn(msg, FutureWarning)\n"
     ]
    },
    {
     "data": {
      "image/png": "[encoded data removed]",
      "text/plain": [
       "<Figure size 432x288 with 1 Axes>"
      ]
     },
     "metadata": {
      "needs_background": "light"
     },
     "output_type": "display_data"
    }
   ],
   "source": [
    "sns.distplot(boxcox(np.array(X_train['weight'], dtype=np.longdouble))[0])\n",
    "plt.title('Boxcox transformation of weight')\n",
    "plt.show()"
   ]
  },
  {
   "cell_type": "markdown",
   "id": "ba77c615",
   "metadata": {},
   "source": [
    "Box-cox transformation over weight gives us a much more normal distribution."
   ]
  },
  {
   "cell_type": "code",
   "execution_count": 54,
   "id": "fdaedb69",
   "metadata": {},
   "outputs": [
    {
     "name": "stderr",
     "output_type": "stream",
     "text": [
      "C:\\Users\\user\\anaconda3\\lib\\site-packages\\numpy\\core\\_methods.py:232: RuntimeWarning: overflow encountered in multiply\n",
      "  x = um.multiply(x, x, out=x)\n"
     ]
    }
   ],
   "source": [
    "#Apply boxcox transform on weight\n",
    "gaussian_weight_train = np.array(boxcox(np.array(X_train['weight'],  dtype=float))[0])\n",
    "#for test set as well\n",
    "gaussian_weight_test  = np.array(boxcox(np.array(X_test['weight'],  dtype=float))[0])"
   ]
  },
  {
   "cell_type": "markdown",
   "id": "1d5d613a",
   "metadata": {},
   "source": [
    "### 7. log_counted"
   ]
  },
  {
   "cell_type": "code",
   "execution_count": 57,
   "id": "bae0fd0d",
   "metadata": {},
   "outputs": [
    {
     "name": "stderr",
     "output_type": "stream",
     "text": [
      "C:\\Users\\user\\anaconda3\\lib\\site-packages\\seaborn\\distributions.py:2557: FutureWarning: `distplot` is a deprecated function and will be removed in a future version. Please adapt your code to use either `displot` (a figure-level function with similar flexibility) or `histplot` (an axes-level function for histograms).\n",
      "  warnings.warn(msg, FutureWarning)\n"
     ]
    },
    {
     "data": {
      "image/png": "[encoded data removed]",
      "text/plain": [
       "<Figure size 432x288 with 1 Axes>"
      ]
     },
     "metadata": {
      "needs_background": "light"
     },
     "output_type": "display_data"
    }
   ],
   "source": [
    "# Looking at its distribution\n",
    "\n",
    "sns.distplot(X_train['counted'])\n",
    "plt.title('Distribution of counted')\n",
    "plt.show()"
   ]
  },
  {
   "cell_type": "markdown",
   "id": "0fd866b6",
   "metadata": {},
   "source": [
    "Performing log-transformation to fix skewedness."
   ]
  },
  {
   "cell_type": "code",
   "execution_count": 59,
   "id": "1ba5c4e6",
   "metadata": {},
   "outputs": [
    {
     "name": "stderr",
     "output_type": "stream",
     "text": [
      "C:\\Users\\user\\anaconda3\\lib\\site-packages\\seaborn\\distributions.py:2557: FutureWarning: `distplot` is a deprecated function and will be removed in a future version. Please adapt your code to use either `displot` (a figure-level function with similar flexibility) or `histplot` (an axes-level function for histograms).\n",
      "  warnings.warn(msg, FutureWarning)\n"
     ]
    },
    {
     "data": {
      "image/png": "[encoded data removed]",
      "text/plain": [
       "<Figure size 432x288 with 1 Axes>"
      ]
     },
     "metadata": {
      "needs_background": "light"
     },
     "output_type": "display_data"
    }
   ],
   "source": [
    "sns.distplot(np.log(np.array(X_train['counted']) + 1e-6))\n",
    "plt.title('Log transform of counted')\n",
    "plt.show()"
   ]
  },
  {
   "cell_type": "markdown",
   "id": "b658bafc",
   "metadata": {},
   "source": [
    "While performing log to get a normal-distribution still gives us a skewed distribution, \n",
    "it is certainly better than the vanilla feature"
   ]
  },
  {
   "cell_type": "code",
   "execution_count": 60,
   "id": "d8d63abb",
   "metadata": {},
   "outputs": [],
   "source": [
    "#apply log-transform on training\n",
    "\n",
    "log_count_train = np.log(np.array(X_train['counted']) + 1e-6)\n",
    "\n",
    "#log transform for test\n",
    "\n",
    "log_count_test = np.log(np.array(X_test['counted']) + 1e-6)"
   ]
  },
  {
   "cell_type": "markdown",
   "id": "84cc6d42",
   "metadata": {},
   "source": [
    "### 8. sigmoid_looped"
   ]
  },
  {
   "cell_type": "code",
   "execution_count": 61,
   "id": "f7069143",
   "metadata": {},
   "outputs": [
    {
     "name": "stderr",
     "output_type": "stream",
     "text": [
      "C:\\Users\\user\\anaconda3\\lib\\site-packages\\seaborn\\distributions.py:2557: FutureWarning: `distplot` is a deprecated function and will be removed in a future version. Please adapt your code to use either `displot` (a figure-level function with similar flexibility) or `histplot` (an axes-level function for histograms).\n",
      "  warnings.warn(msg, FutureWarning)\n"
     ]
    },
    {
     "data": {
      "image/png": "[encoded data removed]",
      "text/plain": [
       "<Figure size 432x288 with 1 Axes>"
      ]
     },
     "metadata": {
      "needs_background": "light"
     },
     "output_type": "display_data"
    }
   ],
   "source": [
    "# Looking at its distribution\n",
    "\n",
    "sns.distplot(X_train['looped'])\n",
    "plt.title('Distribution of looped')\n",
    "plt.show()\n"
   ]
  },
  {
   "cell_type": "markdown",
   "id": "e886cdb9",
   "metadata": {},
   "source": [
    "Performing sigmoid operation to fix skewedness."
   ]
  },
  {
   "cell_type": "code",
   "execution_count": 62,
   "id": "77efa966",
   "metadata": {},
   "outputs": [],
   "source": [
    "def sigmoid(x):\n",
    "    #returns the logistic function of x\n",
    "    \n",
    "    return 1 / (1 + np.exp(-x))"
   ]
  },
  {
   "cell_type": "code",
   "execution_count": 63,
   "id": "0d34329d",
   "metadata": {},
   "outputs": [
    {
     "name": "stderr",
     "output_type": "stream",
     "text": [
      "C:\\Users\\user\\anaconda3\\lib\\site-packages\\seaborn\\distributions.py:2557: FutureWarning: `distplot` is a deprecated function and will be removed in a future version. Please adapt your code to use either `displot` (a figure-level function with similar flexibility) or `histplot` (an axes-level function for histograms).\n",
      "  warnings.warn(msg, FutureWarning)\n"
     ]
    },
    {
     "data": {
      "image/png": "[encoded data removed]",
      "text/plain": [
       "<Figure size 432x288 with 1 Axes>"
      ]
     },
     "metadata": {
      "needs_background": "light"
     },
     "output_type": "display_data"
    }
   ],
   "source": [
    "sns.distplot(sigmoid(np.array(X_train['looped'])))\n",
    "plt.title('Sigmoid of looped')\n",
    "plt.show()"
   ]
  },
  {
   "cell_type": "markdown",
   "id": "8b1fe5a1",
   "metadata": {},
   "source": [
    "Sigmoidal transformation gives the models a better distribution to work with.\n"
   ]
  },
  {
   "cell_type": "code",
   "execution_count": 64,
   "id": "483c826f",
   "metadata": {},
   "outputs": [],
   "source": [
    "#Applying logistic function on each element of looped\n",
    "\n",
    "sigmoid_looped_train = sigmoid(np.array(X_train['looped']))\n",
    "#Same for test\n",
    "\n",
    "sigmoid_looped_test  = sigmoid(np.array(X_test['looped']))"
   ]
  },
  {
   "cell_type": "markdown",
   "id": "80ab293e",
   "metadata": {},
   "source": [
    "### 9. gaussian_neighbors"
   ]
  },
  {
   "cell_type": "code",
   "execution_count": 65,
   "id": "002fcd16",
   "metadata": {},
   "outputs": [
    {
     "name": "stderr",
     "output_type": "stream",
     "text": [
      "C:\\Users\\user\\anaconda3\\lib\\site-packages\\seaborn\\distributions.py:2557: FutureWarning: `distplot` is a deprecated function and will be removed in a future version. Please adapt your code to use either `displot` (a figure-level function with similar flexibility) or `histplot` (an axes-level function for histograms).\n",
      "  warnings.warn(msg, FutureWarning)\n"
     ]
    },
    {
     "data": {
      "image/png": "[encoded data removed]",
      "text/plain": [
       "<Figure size 432x288 with 1 Axes>"
      ]
     },
     "metadata": {
      "needs_background": "light"
     },
     "output_type": "display_data"
    }
   ],
   "source": [
    "# Looking at its distribution\n",
    "\n",
    "sns.distplot(X_train['neighbors'])\n",
    "plt.title('Distribution of neighbors')\n",
    "plt.show()"
   ]
  },
  {
   "cell_type": "markdown",
   "id": "95da16b2",
   "metadata": {},
   "source": [
    "Feature tries to account for the extreme skewedness of neighbors by applying boxcox transformation.\n"
   ]
  },
  {
   "cell_type": "code",
   "execution_count": 66,
   "id": "a40c5c1a",
   "metadata": {},
   "outputs": [
    {
     "name": "stderr",
     "output_type": "stream",
     "text": [
      "C:\\Users\\user\\anaconda3\\lib\\site-packages\\seaborn\\distributions.py:2557: FutureWarning: `distplot` is a deprecated function and will be removed in a future version. Please adapt your code to use either `displot` (a figure-level function with similar flexibility) or `histplot` (an axes-level function for histograms).\n",
      "  warnings.warn(msg, FutureWarning)\n"
     ]
    },
    {
     "data": {
      "image/png": "[encoded data removed]",
      "text/plain": [
       "<Figure size 432x288 with 1 Axes>"
      ]
     },
     "metadata": {
      "needs_background": "light"
     },
     "output_type": "display_data"
    }
   ],
   "source": [
    "sns.distplot(boxcox(np.array(X_train['neighbors']) + 1e-6)[0])\n",
    "plt.title('Boxcox of neighbors')\n",
    "plt.show()"
   ]
  },
  {
   "cell_type": "markdown",
   "id": "69eb8e65",
   "metadata": {},
   "source": [
    "Boxcox transformation over Neighbors gives us a slighly more gaussian distribution."
   ]
  },
  {
   "cell_type": "code",
   "execution_count": 67,
   "id": "6348ac39",
   "metadata": {},
   "outputs": [],
   "source": [
    "#Applying boxcox transform for neighbors\n",
    "\n",
    "gaussian_neighbors_train = boxcox(np.array(X_train['neighbors']) + 1e-6)[0]\n",
    "#Same for test\n",
    "\n",
    "gaussian_neighbors_test  = boxcox(np.array(X_test['neighbors']) + 1e-6)[0]"
   ]
  },
  {
   "cell_type": "markdown",
   "id": "268fb558",
   "metadata": {},
   "source": [
    "### 10. gaussian_income"
   ]
  },
  {
   "cell_type": "code",
   "execution_count": 68,
   "id": "84120d39",
   "metadata": {},
   "outputs": [
    {
     "name": "stderr",
     "output_type": "stream",
     "text": [
      "C:\\Users\\user\\anaconda3\\lib\\site-packages\\seaborn\\distributions.py:2557: FutureWarning: `distplot` is a deprecated function and will be removed in a future version. Please adapt your code to use either `displot` (a figure-level function with similar flexibility) or `histplot` (an axes-level function for histograms).\n",
      "  warnings.warn(msg, FutureWarning)\n"
     ]
    },
    {
     "data": {
      "image/png": "[encoded data removed]",
      "text/plain": [
       "<Figure size 432x288 with 1 Axes>"
      ]
     },
     "metadata": {
      "needs_background": "light"
     },
     "output_type": "display_data"
    }
   ],
   "source": [
    "# Looking at its distribution\n",
    "\n",
    "sns.distplot(X_train['income'])\n",
    "plt.title('Distribution of income')\n",
    "plt.show()"
   ]
  },
  {
   "cell_type": "markdown",
   "id": "28352488",
   "metadata": {},
   "source": [
    "Feature tries to account for the extreme skewedness of income by applying boxcox transformation."
   ]
  },
  {
   "cell_type": "code",
   "execution_count": 69,
   "id": "f921815f",
   "metadata": {},
   "outputs": [
    {
     "name": "stderr",
     "output_type": "stream",
     "text": [
      "C:\\Users\\user\\anaconda3\\lib\\site-packages\\seaborn\\distributions.py:2557: FutureWarning: `distplot` is a deprecated function and will be removed in a future version. Please adapt your code to use either `displot` (a figure-level function with similar flexibility) or `histplot` (an axes-level function for histograms).\n",
      "  warnings.warn(msg, FutureWarning)\n"
     ]
    },
    {
     "data": {
      "image/png": "[encoded data removed]",
      "text/plain": [
       "<Figure size 432x288 with 1 Axes>"
      ]
     },
     "metadata": {
      "needs_background": "light"
     },
     "output_type": "display_data"
    }
   ],
   "source": [
    "sns.distplot(boxcox(np.array(X_train['income']) + 1e-6)[0])\n",
    "plt.title('Boxcox of income')\n",
    "plt.show()"
   ]
  },
  {
   "cell_type": "markdown",
   "id": "828f3b79",
   "metadata": {},
   "source": [
    "Boxcox transformation over Income gives us a psuedo-gaussian distribution."
   ]
  },
  {
   "cell_type": "code",
   "execution_count": 70,
   "id": "f37bf612",
   "metadata": {},
   "outputs": [],
   "source": [
    "#Applying boxcox on income\n",
    "\n",
    "gaussian_income_train = boxcox(np.array(X_train['income']) + 1e-6)[0]\n",
    "gaussian_income_test  = boxcox(np.array(X_test['income']) + 1e-6)[0]"
   ]
  },
  {
   "cell_type": "markdown",
   "id": "e48fc854",
   "metadata": {},
   "source": [
    "## Interaction features"
   ]
  },
  {
   "cell_type": "markdown",
   "id": "8b0a7ce9",
   "metadata": {},
   "source": [
    "### 11. Interaction_length_weight"
   ]
  },
  {
   "cell_type": "code",
   "execution_count": 71,
   "id": "889070e9",
   "metadata": {},
   "outputs": [],
   "source": [
    "# Between length and weight\n",
    "\n",
    "median_length = np.median(X_train['length'])\n",
    "median_weight = np.median(X_train['weight'])\n",
    "\n",
    "def get_length_weight(length_i, weight_i):\n",
    "    #If length and weight are greater than the median, we will return 0\n",
    "    #If just length is greater than the median we return 1\n",
    "    #return 2 if length is lesser than median\n",
    "    \n",
    "    if length_i > median_length:\n",
    "        if weight_i > median_weight:\n",
    "            return 0\n",
    "        else:\n",
    "            return 1\n",
    "    return 2"
   ]
  },
  {
   "cell_type": "code",
   "execution_count": 72,
   "id": "a1d97e85",
   "metadata": {},
   "outputs": [
    {
     "data": {
      "application/vnd.jupyter.widget-view+json": {
       "model_id": "0f2c48dcab7e48ac88284fc480dc74d9",
       "version_major": 2,
       "version_minor": 0
      },
      "text/plain": [
       "  0%|          | 0/2333357 [00:00<?, ?it/s]"
      ]
     },
     "metadata": {},
     "output_type": "display_data"
    }
   ],
   "source": [
    "#Constructing the interaction feature for train\n",
    "\n",
    "interaction_length_weight_train = np.array([])\n",
    "for index, row in tqdm(X_train.iterrows(), total=X_train.shape[0]):\n",
    "    interaction_length_weight_train = np.append(interaction_length_weight_train, get_length_weight(row['length'], row['weight']))"
   ]
  },
  {
   "cell_type": "code",
   "execution_count": 73,
   "id": "bd0d10d8",
   "metadata": {},
   "outputs": [
    {
     "data": {
      "application/vnd.jupyter.widget-view+json": {
       "model_id": "a76f16a17d3d4aa29bd0c49ef14090fc",
       "version_major": 2,
       "version_minor": 0
      },
      "text/plain": [
       "  0%|          | 0/583340 [00:00<?, ?it/s]"
      ]
     },
     "metadata": {},
     "output_type": "display_data"
    }
   ],
   "source": [
    "#Same for test\n",
    "\n",
    "interaction_length_weight_test = np.array([])\n",
    "for index, row in tqdm(X_test.iterrows(), total=X_test.shape[0]):\n",
    "    interaction_length_weight_test = np.append(interaction_length_weight_test, get_length_weight(row['length'], row['weight']))"
   ]
  },
  {
   "cell_type": "markdown",
   "id": "0f939ed2",
   "metadata": {},
   "source": [
    "### 12. Interaction_count_income "
   ]
  },
  {
   "cell_type": "code",
   "execution_count": 74,
   "id": "847f1467",
   "metadata": {},
   "outputs": [],
   "source": [
    "# Between log-count and gaussian-income\n",
    "\n",
    "median_count = np.median(log_count_train)\n",
    "median_income = np.median(gaussian_income_train)\n",
    "\n",
    "def get_count_income(log_count_i, gaussian_income_i):\n",
    "    #Return 0 if both log_count and gaussian_income are greater than their medians\n",
    "    #return 1 if just log_count is\n",
    "    #return 2 if log count is lesser than median\n",
    "    \n",
    "    if log_count_i > median_count:\n",
    "        if gaussian_income_i > median_income:\n",
    "            return 0\n",
    "        else:\n",
    "            return 1\n",
    "    return 2"
   ]
  },
  {
   "cell_type": "code",
   "execution_count": 75,
   "id": "2ff55d50",
   "metadata": {},
   "outputs": [
    {
     "data": {
      "application/vnd.jupyter.widget-view+json": {
       "model_id": "96c89490aec242cba23b0e4f52f0a64e",
       "version_major": 2,
       "version_minor": 0
      },
      "text/plain": [
       "  0%|          | 0/2333357 [00:00<?, ?it/s]"
      ]
     },
     "metadata": {},
     "output_type": "display_data"
    }
   ],
   "source": [
    "#construct the interaction feature\n",
    "    \n",
    "interaction_count_income_train = np.array([])\n",
    "for i in tqdm(range(len(log_count_train))):\n",
    "    interaction_count_income_train = np.append(interaction_count_income_train, get_count_income(log_count_train[i], gaussian_income_train[i]))"
   ]
  },
  {
   "cell_type": "code",
   "execution_count": 76,
   "id": "a4566e91",
   "metadata": {},
   "outputs": [
    {
     "data": {
      "application/vnd.jupyter.widget-view+json": {
       "model_id": "23cf9719371841df95ce18649748a0b1",
       "version_major": 2,
       "version_minor": 0
      },
      "text/plain": [
       "  0%|          | 0/583340 [00:00<?, ?it/s]"
      ]
     },
     "metadata": {},
     "output_type": "display_data"
    }
   ],
   "source": [
    "#Same for test\n",
    "\n",
    "interaction_count_income_test = np.array([])\n",
    "for i in tqdm(range(len(log_count_test))):\n",
    "    interaction_count_income_test = np.append(interaction_count_income_test, get_count_income(log_count_test[i], gaussian_income_test[i]))"
   ]
  },
  {
   "cell_type": "markdown",
   "id": "451383b2",
   "metadata": {},
   "source": [
    "## Loading all the features into the datasets"
   ]
  },
  {
   "cell_type": "code",
   "execution_count": 77,
   "id": "4d41a68c",
   "metadata": {},
   "outputs": [],
   "source": [
    "#training\n",
    "\n",
    "#Adding the features\n",
    "\n",
    "X_train['n_address'] = n_address_feature_train #1\n",
    "X_train['day_of_week'] = day_of_week_train #2\n",
    "X_train['is_close_to_holiday'] = is_close_to_holiday_train #3\n",
    "X_train['quarter_number'] = quarter_number_feature_train #4\n",
    "X_train['gaussian_income'] = gaussian_income_train #5\n",
    "X_train['gaussian_neighbors'] = gaussian_neighbors_train #6\n",
    "X_train['gaussian_weight'] = gaussian_weight_train #7\n",
    "X_train['gaussian_length'] = gaussian_length_train #8\n",
    "X_train['log_count'] = log_count_train #9\n",
    "X_train['sigmoid_looped'] = sigmoid_looped_train #10\n",
    "X_train['interaction_count_income'] = interaction_count_income_train #11\n",
    "X_train['interaction_length_weight'] = interaction_length_weight_train #12"
   ]
  },
  {
   "cell_type": "code",
   "execution_count": 78,
   "id": "219c39b1",
   "metadata": {},
   "outputs": [
    {
     "data": {
      "text/html": [
       "<div>\n",
       "<style scoped>\n",
       "    .dataframe tbody tr th:only-of-type {\n",
       "        vertical-align: middle;\n",
       "    }\n",
       "\n",
       "    .dataframe tbody tr th {\n",
       "        vertical-align: top;\n",
       "    }\n",
       "\n",
       "    .dataframe thead th {\n",
       "        text-align: right;\n",
       "    }\n",
       "</style>\n",
       "<table border=\"1\" class=\"dataframe\">\n",
       "  <thead>\n",
       "    <tr style=\"text-align: right;\">\n",
       "      <th></th>\n",
       "      <th>address</th>\n",
       "      <th>year</th>\n",
       "      <th>day</th>\n",
       "      <th>length</th>\n",
       "      <th>weight</th>\n",
       "      <th>counted</th>\n",
       "      <th>looped</th>\n",
       "      <th>neighbors</th>\n",
       "      <th>income</th>\n",
       "      <th>n_address</th>\n",
       "      <th>...</th>\n",
       "      <th>is_close_to_holiday</th>\n",
       "      <th>quarter_number</th>\n",
       "      <th>gaussian_income</th>\n",
       "      <th>gaussian_neighbors</th>\n",
       "      <th>gaussian_weight</th>\n",
       "      <th>gaussian_length</th>\n",
       "      <th>log_count</th>\n",
       "      <th>sigmoid_looped</th>\n",
       "      <th>interaction_count_income</th>\n",
       "      <th>interaction_length_weight</th>\n",
       "    </tr>\n",
       "  </thead>\n",
       "  <tbody>\n",
       "    <tr>\n",
       "      <th>2264511</th>\n",
       "      <td>366ZrW8BbPeK21L7bwTJkzKqEfKJceJpKm</td>\n",
       "      <td>2017</td>\n",
       "      <td>43</td>\n",
       "      <td>0</td>\n",
       "      <td>0.500000</td>\n",
       "      <td>1</td>\n",
       "      <td>0</td>\n",
       "      <td>2</td>\n",
       "      <td>31515644.0</td>\n",
       "      <td>0.0</td>\n",
       "      <td>...</td>\n",
       "      <td>0</td>\n",
       "      <td>1.0</td>\n",
       "      <td>4.098487</td>\n",
       "      <td>5.841690e-01</td>\n",
       "      <td>-0.651137</td>\n",
       "      <td>-0.895193</td>\n",
       "      <td>9.999995e-07</td>\n",
       "      <td>0.5</td>\n",
       "      <td>2.0</td>\n",
       "      <td>2.0</td>\n",
       "    </tr>\n",
       "    <tr>\n",
       "      <th>1289376</th>\n",
       "      <td>1Nyy3jRxjmt9dCWPe5LvnSZhArnSfjAykR</td>\n",
       "      <td>2014</td>\n",
       "      <td>163</td>\n",
       "      <td>4</td>\n",
       "      <td>0.040000</td>\n",
       "      <td>1</td>\n",
       "      <td>0</td>\n",
       "      <td>2</td>\n",
       "      <td>100000000.0</td>\n",
       "      <td>0.0</td>\n",
       "      <td>...</td>\n",
       "      <td>0</td>\n",
       "      <td>2.0</td>\n",
       "      <td>4.114446</td>\n",
       "      <td>5.841690e-01</td>\n",
       "      <td>-2.434900</td>\n",
       "      <td>-0.769382</td>\n",
       "      <td>9.999995e-07</td>\n",
       "      <td>0.5</td>\n",
       "      <td>2.0</td>\n",
       "      <td>2.0</td>\n",
       "    </tr>\n",
       "    <tr>\n",
       "      <th>1046802</th>\n",
       "      <td>1B9zENZjbkFxwdjHSmAyqXrPq5FLb9vDmZ</td>\n",
       "      <td>2013</td>\n",
       "      <td>286</td>\n",
       "      <td>2</td>\n",
       "      <td>0.500000</td>\n",
       "      <td>1</td>\n",
       "      <td>0</td>\n",
       "      <td>1</td>\n",
       "      <td>81050000.0</td>\n",
       "      <td>0.0</td>\n",
       "      <td>...</td>\n",
       "      <td>1</td>\n",
       "      <td>4.0</td>\n",
       "      <td>4.111862</td>\n",
       "      <td>9.999992e-07</td>\n",
       "      <td>-0.651137</td>\n",
       "      <td>-1.517133</td>\n",
       "      <td>9.999995e-07</td>\n",
       "      <td>0.5</td>\n",
       "      <td>2.0</td>\n",
       "      <td>2.0</td>\n",
       "    </tr>\n",
       "    <tr>\n",
       "      <th>2335966</th>\n",
       "      <td>35hfQ92WkncKrupG9NVtSmScvKXXkBfnPD</td>\n",
       "      <td>2017</td>\n",
       "      <td>115</td>\n",
       "      <td>92</td>\n",
       "      <td>1.016858</td>\n",
       "      <td>72</td>\n",
       "      <td>0</td>\n",
       "      <td>2</td>\n",
       "      <td>100030000.0</td>\n",
       "      <td>0.0</td>\n",
       "      <td>...</td>\n",
       "      <td>1</td>\n",
       "      <td>2.0</td>\n",
       "      <td>4.114450</td>\n",
       "      <td>5.841690e-01</td>\n",
       "      <td>0.016743</td>\n",
       "      <td>-0.475286</td>\n",
       "      <td>4.276666e+00</td>\n",
       "      <td>0.5</td>\n",
       "      <td>1.0</td>\n",
       "      <td>0.0</td>\n",
       "    </tr>\n",
       "    <tr>\n",
       "      <th>1214724</th>\n",
       "      <td>1Bmm4KkZuzdzEjKtVmtTVyQoVKEE1J4wmz</td>\n",
       "      <td>2014</td>\n",
       "      <td>89</td>\n",
       "      <td>144</td>\n",
       "      <td>0.028767</td>\n",
       "      <td>1189</td>\n",
       "      <td>1187</td>\n",
       "      <td>4</td>\n",
       "      <td>184953990.0</td>\n",
       "      <td>0.0</td>\n",
       "      <td>...</td>\n",
       "      <td>0</td>\n",
       "      <td>1.0</td>\n",
       "      <td>4.121303</td>\n",
       "      <td>9.948198e-01</td>\n",
       "      <td>-2.612813</td>\n",
       "      <td>-0.835022</td>\n",
       "      <td>7.080868e+00</td>\n",
       "      <td>1.0</td>\n",
       "      <td>1.0</td>\n",
       "      <td>1.0</td>\n",
       "    </tr>\n",
       "  </tbody>\n",
       "</table>\n",
       "<p>5 rows × 21 columns</p>\n",
       "</div>"
      ],
      "text/plain": [
       "                                    address  year  day  length    weight  \\\n",
       "2264511  366ZrW8BbPeK21L7bwTJkzKqEfKJceJpKm  2017   43       0  0.500000   \n",
       "1289376  1Nyy3jRxjmt9dCWPe5LvnSZhArnSfjAykR  2014  163       4  0.040000   \n",
       "1046802  1B9zENZjbkFxwdjHSmAyqXrPq5FLb9vDmZ  2013  286       2  0.500000   \n",
       "2335966  35hfQ92WkncKrupG9NVtSmScvKXXkBfnPD  2017  115      92  1.016858   \n",
       "1214724  1Bmm4KkZuzdzEjKtVmtTVyQoVKEE1J4wmz  2014   89     144  0.028767   \n",
       "\n",
       "         counted  looped  neighbors       income  n_address  ...  \\\n",
       "2264511        1       0          2   31515644.0        0.0  ...   \n",
       "1289376        1       0          2  100000000.0        0.0  ...   \n",
       "1046802        1       0          1   81050000.0        0.0  ...   \n",
       "2335966       72       0          2  100030000.0        0.0  ...   \n",
       "1214724     1189    1187          4  184953990.0        0.0  ...   \n",
       "\n",
       "         is_close_to_holiday  quarter_number  gaussian_income  \\\n",
       "2264511                    0             1.0         4.098487   \n",
       "1289376                    0             2.0         4.114446   \n",
       "1046802                    1             4.0         4.111862   \n",
       "2335966                    1             2.0         4.114450   \n",
       "1214724                    0             1.0         4.121303   \n",
       "\n",
       "         gaussian_neighbors  gaussian_weight  gaussian_length     log_count  \\\n",
       "2264511        5.841690e-01        -0.651137        -0.895193  9.999995e-07   \n",
       "1289376        5.841690e-01        -2.434900        -0.769382  9.999995e-07   \n",
       "1046802        9.999992e-07        -0.651137        -1.517133  9.999995e-07   \n",
       "2335966        5.841690e-01         0.016743        -0.475286  4.276666e+00   \n",
       "1214724        9.948198e-01        -2.612813        -0.835022  7.080868e+00   \n",
       "\n",
       "         sigmoid_looped  interaction_count_income  interaction_length_weight  \n",
       "2264511             0.5                       2.0                        2.0  \n",
       "1289376             0.5                       2.0                        2.0  \n",
       "1046802             0.5                       2.0                        2.0  \n",
       "2335966             0.5                       1.0                        0.0  \n",
       "1214724             1.0                       1.0                        1.0  \n",
       "\n",
       "[5 rows x 21 columns]"
      ]
     },
     "execution_count": 78,
     "metadata": {},
     "output_type": "execute_result"
    }
   ],
   "source": [
    "X_train.head()"
   ]
  },
  {
   "cell_type": "code",
   "execution_count": 79,
   "id": "d6eef7e1",
   "metadata": {},
   "outputs": [],
   "source": [
    "#testing\n",
    "\n",
    "#Adding the features\n",
    "\n",
    "X_test['n_address'] = n_address_feature_test #1\n",
    "X_test['day_of_week'] = day_of_week_test #2\n",
    "X_test['is_close_to_holiday'] = is_close_to_holiday_test #3\n",
    "X_test['quarter_number'] = quarter_number_feature_test #4\n",
    "X_test['gaussian_income'] = gaussian_income_test #5\n",
    "X_test['gaussian_neighbors'] = gaussian_neighbors_test #6\n",
    "X_test['gaussian_weight'] = gaussian_weight_test #7\n",
    "X_test['gaussian_length'] = gaussian_length_test #8\n",
    "X_test['log_count'] = log_count_test #9\n",
    "X_test['sigmoid_looped'] = sigmoid_looped_test #10\n",
    "X_test['interaction_count_income'] = interaction_count_income_test #11\n",
    "X_test['interaction_length_weight'] = interaction_length_weight_test #12"
   ]
  },
  {
   "cell_type": "code",
   "execution_count": 80,
   "id": "bedbc0b6",
   "metadata": {},
   "outputs": [
    {
     "data": {
      "text/html": [
       "<div>\n",
       "<style scoped>\n",
       "    .dataframe tbody tr th:only-of-type {\n",
       "        vertical-align: middle;\n",
       "    }\n",
       "\n",
       "    .dataframe tbody tr th {\n",
       "        vertical-align: top;\n",
       "    }\n",
       "\n",
       "    .dataframe thead th {\n",
       "        text-align: right;\n",
       "    }\n",
       "</style>\n",
       "<table border=\"1\" class=\"dataframe\">\n",
       "  <thead>\n",
       "    <tr style=\"text-align: right;\">\n",
       "      <th></th>\n",
       "      <th>address</th>\n",
       "      <th>year</th>\n",
       "      <th>day</th>\n",
       "      <th>length</th>\n",
       "      <th>weight</th>\n",
       "      <th>counted</th>\n",
       "      <th>looped</th>\n",
       "      <th>neighbors</th>\n",
       "      <th>income</th>\n",
       "      <th>n_address</th>\n",
       "      <th>...</th>\n",
       "      <th>is_close_to_holiday</th>\n",
       "      <th>quarter_number</th>\n",
       "      <th>gaussian_income</th>\n",
       "      <th>gaussian_neighbors</th>\n",
       "      <th>gaussian_weight</th>\n",
       "      <th>gaussian_length</th>\n",
       "      <th>log_count</th>\n",
       "      <th>sigmoid_looped</th>\n",
       "      <th>interaction_count_income</th>\n",
       "      <th>interaction_length_weight</th>\n",
       "    </tr>\n",
       "  </thead>\n",
       "  <tbody>\n",
       "    <tr>\n",
       "      <th>428885</th>\n",
       "      <td>18z5kGrm7e3NNq9WXjcKbTCfpEvsBrGsfP</td>\n",
       "      <td>2012</td>\n",
       "      <td>33</td>\n",
       "      <td>4</td>\n",
       "      <td>0.019033</td>\n",
       "      <td>71</td>\n",
       "      <td>0</td>\n",
       "      <td>1</td>\n",
       "      <td>3.020000e+08</td>\n",
       "      <td>0.000000</td>\n",
       "      <td>...</td>\n",
       "      <td>0</td>\n",
       "      <td>1.0</td>\n",
       "      <td>4.143602</td>\n",
       "      <td>9.999992e-07</td>\n",
       "      <td>-2.822421</td>\n",
       "      <td>-0.769659</td>\n",
       "      <td>4.262680e+00</td>\n",
       "      <td>0.5</td>\n",
       "      <td>0.0</td>\n",
       "      <td>2.0</td>\n",
       "    </tr>\n",
       "    <tr>\n",
       "      <th>1819947</th>\n",
       "      <td>1EDjBMxZec3q9PqHyoM6hZDPVtDwRDfCe</td>\n",
       "      <td>2015</td>\n",
       "      <td>329</td>\n",
       "      <td>144</td>\n",
       "      <td>0.009070</td>\n",
       "      <td>3897</td>\n",
       "      <td>0</td>\n",
       "      <td>2</td>\n",
       "      <td>1.000000e+08</td>\n",
       "      <td>0.038124</td>\n",
       "      <td>...</td>\n",
       "      <td>1</td>\n",
       "      <td>4.0</td>\n",
       "      <td>4.131723</td>\n",
       "      <td>5.842852e-01</td>\n",
       "      <td>-3.159500</td>\n",
       "      <td>-0.835351</td>\n",
       "      <td>8.267962e+00</td>\n",
       "      <td>0.5</td>\n",
       "      <td>0.0</td>\n",
       "      <td>1.0</td>\n",
       "    </tr>\n",
       "    <tr>\n",
       "      <th>739086</th>\n",
       "      <td>115gn63LBwn4qMcex3dvr8RVbSisyDW1ji</td>\n",
       "      <td>2012</td>\n",
       "      <td>343</td>\n",
       "      <td>142</td>\n",
       "      <td>0.165386</td>\n",
       "      <td>1609</td>\n",
       "      <td>1609</td>\n",
       "      <td>4</td>\n",
       "      <td>2.566676e+09</td>\n",
       "      <td>0.000000</td>\n",
       "      <td>...</td>\n",
       "      <td>0</td>\n",
       "      <td>4.0</td>\n",
       "      <td>4.159332</td>\n",
       "      <td>9.951913e-01</td>\n",
       "      <td>-1.534421</td>\n",
       "      <td>-0.822532</td>\n",
       "      <td>7.383368e+00</td>\n",
       "      <td>1.0</td>\n",
       "      <td>0.0</td>\n",
       "      <td>1.0</td>\n",
       "    </tr>\n",
       "    <tr>\n",
       "      <th>172467</th>\n",
       "      <td>1NWuBnXkQqHJb8SahQNtDP4a9eLAf4ZPXx</td>\n",
       "      <td>2011</td>\n",
       "      <td>141</td>\n",
       "      <td>10</td>\n",
       "      <td>0.130682</td>\n",
       "      <td>23</td>\n",
       "      <td>0</td>\n",
       "      <td>1</td>\n",
       "      <td>2.180000e+08</td>\n",
       "      <td>0.038124</td>\n",
       "      <td>...</td>\n",
       "      <td>0</td>\n",
       "      <td>2.0</td>\n",
       "      <td>4.140419</td>\n",
       "      <td>9.999992e-07</td>\n",
       "      <td>-1.700557</td>\n",
       "      <td>-0.175795</td>\n",
       "      <td>3.135494e+00</td>\n",
       "      <td>0.5</td>\n",
       "      <td>0.0</td>\n",
       "      <td>1.0</td>\n",
       "    </tr>\n",
       "    <tr>\n",
       "      <th>2691839</th>\n",
       "      <td>1HM4s2JFbhkqDWBMhQFW6NSMGZVK2vgvdE</td>\n",
       "      <td>2018</td>\n",
       "      <td>106</td>\n",
       "      <td>0</td>\n",
       "      <td>1.000000</td>\n",
       "      <td>1</td>\n",
       "      <td>0</td>\n",
       "      <td>2</td>\n",
       "      <td>3.227901e+08</td>\n",
       "      <td>0.000000</td>\n",
       "      <td>...</td>\n",
       "      <td>0</td>\n",
       "      <td>2.0</td>\n",
       "      <td>4.144222</td>\n",
       "      <td>5.842852e-01</td>\n",
       "      <td>0.000000</td>\n",
       "      <td>-0.895575</td>\n",
       "      <td>9.999995e-07</td>\n",
       "      <td>0.5</td>\n",
       "      <td>2.0</td>\n",
       "      <td>2.0</td>\n",
       "    </tr>\n",
       "  </tbody>\n",
       "</table>\n",
       "<p>5 rows × 21 columns</p>\n",
       "</div>"
      ],
      "text/plain": [
       "                                    address  year  day  length    weight  \\\n",
       "428885   18z5kGrm7e3NNq9WXjcKbTCfpEvsBrGsfP  2012   33       4  0.019033   \n",
       "1819947   1EDjBMxZec3q9PqHyoM6hZDPVtDwRDfCe  2015  329     144  0.009070   \n",
       "739086   115gn63LBwn4qMcex3dvr8RVbSisyDW1ji  2012  343     142  0.165386   \n",
       "172467   1NWuBnXkQqHJb8SahQNtDP4a9eLAf4ZPXx  2011  141      10  0.130682   \n",
       "2691839  1HM4s2JFbhkqDWBMhQFW6NSMGZVK2vgvdE  2018  106       0  1.000000   \n",
       "\n",
       "         counted  looped  neighbors        income  n_address  ...  \\\n",
       "428885        71       0          1  3.020000e+08   0.000000  ...   \n",
       "1819947     3897       0          2  1.000000e+08   0.038124  ...   \n",
       "739086      1609    1609          4  2.566676e+09   0.000000  ...   \n",
       "172467        23       0          1  2.180000e+08   0.038124  ...   \n",
       "2691839        1       0          2  3.227901e+08   0.000000  ...   \n",
       "\n",
       "         is_close_to_holiday  quarter_number  gaussian_income  \\\n",
       "428885                     0             1.0         4.143602   \n",
       "1819947                    1             4.0         4.131723   \n",
       "739086                     0             4.0         4.159332   \n",
       "172467                     0             2.0         4.140419   \n",
       "2691839                    0             2.0         4.144222   \n",
       "\n",
       "         gaussian_neighbors  gaussian_weight  gaussian_length     log_count  \\\n",
       "428885         9.999992e-07        -2.822421        -0.769659  4.262680e+00   \n",
       "1819947        5.842852e-01        -3.159500        -0.835351  8.267962e+00   \n",
       "739086         9.951913e-01        -1.534421        -0.822532  7.383368e+00   \n",
       "172467         9.999992e-07        -1.700557        -0.175795  3.135494e+00   \n",
       "2691839        5.842852e-01         0.000000        -0.895575  9.999995e-07   \n",
       "\n",
       "         sigmoid_looped  interaction_count_income  interaction_length_weight  \n",
       "428885              0.5                       0.0                        2.0  \n",
       "1819947             0.5                       0.0                        1.0  \n",
       "739086              1.0                       0.0                        1.0  \n",
       "172467              0.5                       0.0                        1.0  \n",
       "2691839             0.5                       2.0                        2.0  \n",
       "\n",
       "[5 rows x 21 columns]"
      ]
     },
     "execution_count": 80,
     "metadata": {},
     "output_type": "execute_result"
    }
   ],
   "source": [
    "X_test.head()"
   ]
  },
  {
   "cell_type": "markdown",
   "id": "684831e4",
   "metadata": {},
   "source": [
    "# Strore the Datasets as csv files"
   ]
  },
  {
   "cell_type": "markdown",
   "id": "7a99fcec",
   "metadata": {},
   "source": [
    "- X_train   , X_test"
   ]
  },
  {
   "cell_type": "code",
   "execution_count": 103,
   "id": "b2ecc089",
   "metadata": {},
   "outputs": [],
   "source": [
    "X_train.to_csv('X_train.csv', index=False)\n",
    "X_test.to_csv('X_tes.csv', index=False)"
   ]
  },
  {
   "cell_type": "markdown",
   "id": "950b11d8",
   "metadata": {},
   "source": [
    "- y_train , y_test "
   ]
  },
  {
   "cell_type": "code",
   "execution_count": 102,
   "id": "107720e6",
   "metadata": {},
   "outputs": [],
   "source": [
    "y_train = pd.DataFrame(y_train)\n",
    "y_test  = pd.DataFrame(y_test)"
   ]
  },
  {
   "cell_type": "code",
   "execution_count": 104,
   "id": "6bb79b34",
   "metadata": {},
   "outputs": [],
   "source": [
    "y_train.to_csv('y_train.csv', index=False)\n",
    "y_test.to_csv('y_test.csv', index=False)"
   ]
  },
  {
   "cell_type": "markdown",
   "id": "fb842bed",
   "metadata": {},
   "source": [
    "- X_tain_stock , X_test_stock"
   ]
  },
  {
   "cell_type": "code",
   "execution_count": 105,
   "id": "d9cb3f8f",
   "metadata": {},
   "outputs": [],
   "source": [
    "X_train_stock.to_csv('X_train_stock.csv', index=False)\n",
    "X_test_stock.to_csv('X_test_stock.csv', index=False) "
   ]
  }
 ],
 "metadata": {
  "kernelspec": {
   "display_name": "Python 3",
   "language": "python",
   "name": "python3"
  },
  "language_info": {
   "codemirror_mode": {
    "name": "ipython",
    "version": 3
   },
   "file_extension": ".py",
   "mimetype": "text/x-python",
   "name": "python",
   "nbconvert_exporter": "python",
   "pygments_lexer": "ipython3",
   "version": "3.8.8"
  }
 },
 "nbformat": 4,
 "nbformat_minor": 5
}
