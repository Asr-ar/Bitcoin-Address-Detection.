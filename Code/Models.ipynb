{
 "cells": [
  {
   "cell_type": "markdown",
   "id": "bb234ed8",
   "metadata": {},
   "source": [
    "# Goal of this project"
   ]
  },
  {
   "cell_type": "markdown",
   "id": "ca933812",
   "metadata": {},
   "source": [
    "Given a bitcoin address along with some meta-data pertaining to that address,  \n",
    "we are challenged to predict if that address has been used to receive ransoms in the past."
   ]
  },
  {
   "cell_type": "markdown",
   "id": "d920350b",
   "metadata": {},
   "source": [
    "## Setup"
   ]
  },
  {
   "cell_type": "markdown",
   "id": "9e0b6896",
   "metadata": {},
   "source": [
    "#### Data manipulation libraries:"
   ]
  },
  {
   "cell_type": "code",
   "execution_count": 1,
   "id": "6594c44f",
   "metadata": {},
   "outputs": [],
   "source": [
    "import pandas as pd\n",
    "import numpy  as np"
   ]
  },
  {
   "cell_type": "markdown",
   "id": "e7c7a88b",
   "metadata": {},
   "source": [
    "#### Visualization libraries:"
   ]
  },
  {
   "cell_type": "code",
   "execution_count": 2,
   "id": "1999b7c8",
   "metadata": {},
   "outputs": [],
   "source": [
    "import matplotlib.pyplot as plt\n",
    "import seaborn as sns\n",
    "plt.style.use('fivethirtyeight')\n",
    "\n",
    "%matplotlib inline"
   ]
  },
  {
   "cell_type": "markdown",
   "id": "8e2c60bc",
   "metadata": {},
   "source": [
    "#### Storage libraries:"
   ]
  },
  {
   "cell_type": "code",
   "execution_count": 3,
   "id": "f6556c0e",
   "metadata": {},
   "outputs": [],
   "source": [
    "import pickle"
   ]
  },
  {
   "cell_type": "markdown",
   "id": "2c91bc27",
   "metadata": {},
   "source": [
    "#### Pre-processing libraries:"
   ]
  },
  {
   "cell_type": "code",
   "execution_count": 4,
   "id": "99e34e58",
   "metadata": {},
   "outputs": [],
   "source": [
    "from sklearn.preprocessing    import StandardScaler\n",
    "from sklearn.model_selection  import GridSearchCV\n",
    "from sklearn.model_selection  import train_test_split"
   ]
  },
  {
   "cell_type": "code",
   "execution_count": 5,
   "id": "b8228fca",
   "metadata": {},
   "outputs": [],
   "source": [
    "from sklearn                  import decomposition\n",
    "from sklearn.pipeline         import Pipeline"
   ]
  },
  {
   "cell_type": "markdown",
   "id": "bab2578a",
   "metadata": {},
   "source": [
    "#### Classifier Libraries:"
   ]
  },
  {
   "cell_type": "code",
   "execution_count": 6,
   "id": "7a609296",
   "metadata": {},
   "outputs": [],
   "source": [
    "from sklearn.neighbors     import KNeighborsClassifier\n",
    "from sklearn.linear_model  import LogisticRegression \n",
    "from sklearn.ensemble      import RandomForestClassifier, ExtraTreesClassifier, VotingClassifier\n",
    "from sklearn.naive_bayes   import BernoulliNB, MultinomialNB, GaussianNB\n",
    "from mlxtend.classifier    import StackingClassifier\n"
   ]
  },
  {
   "cell_type": "code",
   "execution_count": 7,
   "id": "921c3ea5",
   "metadata": {},
   "outputs": [],
   "source": [
    "from sklearn.metrics       import recall_score, precision_score, f1_score, accuracy_score, log_loss,plot_roc_curve "
   ]
  },
  {
   "cell_type": "code",
   "execution_count": 8,
   "id": "f2a99ac3",
   "metadata": {},
   "outputs": [],
   "source": [
    " from sklearn.metrics      import confusion_matrix ,fbeta_score"
   ]
  },
  {
   "cell_type": "markdown",
   "id": "fdf4eea0",
   "metadata": {},
   "source": [
    "## Data-set"
   ]
  },
  {
   "cell_type": "code",
   "execution_count": 9,
   "id": "52f62939",
   "metadata": {},
   "outputs": [],
   "source": [
    "file_path = 'under_sample_Data 2.csv'\n",
    "\n",
    "data = pd.read_csv(file_path)"
   ]
  },
  {
   "cell_type": "markdown",
   "id": "bdd166ad",
   "metadata": {},
   "source": [
    "### Split the data"
   ]
  },
  {
   "cell_type": "code",
   "execution_count": 10,
   "id": "8dace738",
   "metadata": {},
   "outputs": [],
   "source": [
    "X = data.drop('label',axis=1)\n",
    "y = data.label\n",
    "\n",
    "to_be_dropped = ['address']\n",
    "X = X.drop(to_be_dropped, axis=1, errors='ignore')\n",
    "\n",
    "std_scale = StandardScaler()\n",
    "X_sc = std_scale.fit_transform(X) "
   ]
  },
  {
   "cell_type": "code",
   "execution_count": 11,
   "id": "209315d0",
   "metadata": {},
   "outputs": [],
   "source": [
    "X_train, X_test, y_train, y_test = train_test_split(X_sc, y,test_size = 0.2, random_state=42)"
   ]
  },
  {
   "cell_type": "markdown",
   "id": "dc6888ae",
   "metadata": {},
   "source": [
    "# Baseline"
   ]
  },
  {
   "cell_type": "code",
   "execution_count": 12,
   "id": "6407ed6c",
   "metadata": {},
   "outputs": [
    {
     "name": "stdout",
     "output_type": "stream",
     "text": [
      "The score for logistic regression is\n",
      "Training:  75.74%\n",
      "Test set:  74.66%\n",
      "confusion matrix: \n",
      "\n",
      " [[6824 1463]\n",
      " [2734 5545]]\n"
     ]
    }
   ],
   "source": [
    "logit = LogisticRegression(C = 1000) # c=comblictiy , to deal with regularaization. , take c from gridsearch.\n",
    "logit.fit(X_train, y_train)\n",
    "print(\"The score for logistic regression is\")\n",
    "print(\"Training: {:6.2f}%\".format(100*logit.score(X_train, y_train)))\n",
    "print(\"Test set: {:6.2f}%\".format(100*logit.score(X_test, y_test)))\n",
    "print(\"confusion matrix: \\n\\n\", confusion_matrix(y_test, logit.predict(X_test)))"
   ]
  },
  {
   "cell_type": "code",
   "execution_count": 13,
   "id": "ff66bc9b",
   "metadata": {},
   "outputs": [
    {
     "name": "stdout",
     "output_type": "stream",
     "text": [
      "Default threshold:\n",
      "Precision: 0.7912,   Recall: 0.6698\n",
      "F score:: 0.7254529992804343\n"
     ]
    }
   ],
   "source": [
    "y_predict = logit.predict(X_test)\n",
    "\n",
    "print(\"Default threshold:\")\n",
    "print(\"Precision: {:6.4f},   Recall: {:6.4f}\".format(precision_score(y_test, y_predict), \n",
    "                                                     recall_score(y_test, y_predict)))\n",
    "\n",
    "print(\"F score::\", f1_score(y_test,y_predict))"
   ]
  },
  {
   "cell_type": "code",
   "execution_count": 14,
   "id": "80076b33",
   "metadata": {},
   "outputs": [
    {
     "name": "stderr",
     "output_type": "stream",
     "text": [
      "/Users/macbookproretina13inch/opt/anaconda3/lib/python3.8/site-packages/sklearn/utils/validation.py:70: FutureWarning: Pass beta=2 as keyword args. From version 1.0 (renaming of 0.25) passing these as positional arguments will result in an error\n",
      "  warnings.warn(f\"Pass {args_msg} as keyword args. From version \"\n"
     ]
    },
    {
     "data": {
      "text/plain": [
       "0.6909829528461767"
      ]
     },
     "execution_count": 14,
     "metadata": {},
     "output_type": "execute_result"
    }
   ],
   "source": [
    "fbeta_score(y_test,y_predict,2)"
   ]
  },
  {
   "cell_type": "markdown",
   "id": "81203e7d",
   "metadata": {},
   "source": [
    "## Metrics Functions"
   ]
  },
  {
   "cell_type": "code",
   "execution_count": 15,
   "id": "1c2f8525",
   "metadata": {},
   "outputs": [],
   "source": [
    "def accuracy(actuals, preds):\n",
    "    return np.mean(actuals == preds)\n",
    "\n",
    "def precision(actuals, preds):\n",
    "    tp = np.sum((actuals == 1) & (preds == 1))\n",
    "    fp = np.sum((actuals == 0) & (preds == 1))\n",
    "    return tp / (tp + fp)\n",
    "\n",
    "def recall(actuals, preds):\n",
    "    tp = np.sum((actuals == 1) & (preds == 1))\n",
    "    fn = np.sum((actuals == 1) & (preds == 0))\n",
    "    return tp / (tp + fn)\n",
    "\n",
    "def F1(actuals, preds):\n",
    "    p, r = precision(actuals, preds), recall(actuals, preds)\n",
    "    return 2*p*r / (p + r)"
   ]
  },
  {
   "cell_type": "markdown",
   "id": "06c25bb1",
   "metadata": {},
   "source": [
    "## CLassifier list"
   ]
  },
  {
   "cell_type": "code",
   "execution_count": 16,
   "id": "5421d83c",
   "metadata": {},
   "outputs": [],
   "source": [
    "lr_model  = LogisticRegression(solver=\"lbfgs\", random_state=1)\n",
    "knn_model = KNeighborsClassifier(n_neighbors=13, weights='uniform')\n",
    "rf_model  = RandomForestClassifier(n_estimators=100, random_state=1)\n",
    "et_model  = ExtraTreesClassifier(n_estimators=100, random_state=1)\n",
    "Br_model  = BernoulliNB()\n",
    "Gn_model  = GaussianNB()\n",
    "\n",
    "\n",
    "\n",
    "models = [\"lr_model\", \"knn_model\", \"rf_model\", \"et_model\",\"Br_model\",\"Gn_model\"]"
   ]
  },
  {
   "cell_type": "markdown",
   "id": "742a7075",
   "metadata": {},
   "source": [
    "# Models:"
   ]
  },
  {
   "cell_type": "code",
   "execution_count": 17,
   "id": "16d5857c",
   "metadata": {},
   "outputs": [],
   "source": [
    "for model_name in models:\n",
    "    \n",
    "    curr_model = eval(model_name)\n",
    "    \n",
    "    curr_model.fit(X_train, y_train)"
   ]
  },
  {
   "cell_type": "code",
   "execution_count": 18,
   "id": "114bdb51",
   "metadata": {},
   "outputs": [],
   "source": [
    "model_names = [\"lr_model\", \"knn_model\", \"rf_model\", \"et_model\",\"Br_model\",\"Gn_model\"]\n",
    "\n",
    "model_vars = [eval(n) for n in model_names]\n",
    "model_list = list(zip(model_names, model_vars))"
   ]
  },
  {
   "cell_type": "code",
   "execution_count": 19,
   "id": "1434d007",
   "metadata": {},
   "outputs": [
    {
     "data": {
      "text/plain": [
       "[('lr_model', LogisticRegression(random_state=1)),\n",
       " ('knn_model', KNeighborsClassifier(n_neighbors=13)),\n",
       " ('rf_model', RandomForestClassifier(random_state=1)),\n",
       " ('et_model', ExtraTreesClassifier(random_state=1)),\n",
       " ('Br_model', BernoulliNB()),\n",
       " ('Gn_model', GaussianNB())]"
      ]
     },
     "execution_count": 19,
     "metadata": {},
     "output_type": "execute_result"
    }
   ],
   "source": [
    "model_list"
   ]
  },
  {
   "cell_type": "code",
   "execution_count": 20,
   "id": "2e31fe56",
   "metadata": {},
   "outputs": [
    {
     "name": "stdout",
     "output_type": "stream",
     "text": [
      "lr_model score: 0.7465893999758542\n",
      "knn_model score: 0.891283351442714\n",
      "rf_model score: 0.95508873596523\n",
      "et_model score: 0.9476638898949656\n",
      "Br_model score: 0.756549559338404\n",
      "Gn_model score: 0.6005070626584571\n"
     ]
    }
   ],
   "source": [
    "# Quick peek at each model performance\n",
    "\n",
    "for model_name in model_names:\n",
    "    curr_model = eval(model_name)\n",
    "    print(f'{model_name} score: {curr_model.score(X_test, y_test)}')"
   ]
  },
  {
   "cell_type": "code",
   "execution_count": 21,
   "id": "500c0835",
   "metadata": {},
   "outputs": [
    {
     "name": "stdout",
     "output_type": "stream",
     "text": [
      "Precision: 0.7912,   Recall: 0.6696\n",
      "F score:: 0.725369619259453\n"
     ]
    }
   ],
   "source": [
    "y_predict = lr_model.predict(X_test)\n",
    "print(\"Precision: {:6.4f},   Recall: {:6.4f}\".format(precision_score(y_test, y_predict), \n",
    "                                                     recall_score(y_test, y_predict)))\n",
    "print(\"F score::\", f1_score(y_test,y_predict))"
   ]
  },
  {
   "cell_type": "code",
   "execution_count": 22,
   "id": "25d2b2ae",
   "metadata": {},
   "outputs": [
    {
     "name": "stderr",
     "output_type": "stream",
     "text": [
      "/Users/macbookproretina13inch/opt/anaconda3/lib/python3.8/site-packages/sklearn/utils/validation.py:70: FutureWarning: Pass beta=2 as keyword args. From version 1.0 (renaming of 0.25) passing these as positional arguments will result in an error\n",
      "  warnings.warn(f\"Pass {args_msg} as keyword args. From version \"\n"
     ]
    },
    {
     "data": {
      "text/plain": [
       "0.6908755576601948"
      ]
     },
     "execution_count": 22,
     "metadata": {},
     "output_type": "execute_result"
    }
   ],
   "source": [
    "fbeta_score(y_test,y_predict,2)"
   ]
  },
  {
   "cell_type": "code",
   "execution_count": 23,
   "id": "c4beb92c",
   "metadata": {},
   "outputs": [
    {
     "name": "stdout",
     "output_type": "stream",
     "text": [
      "Precision: 0.8575,   Recall: 0.9384\n",
      "F score:: 0.896130111309764\n"
     ]
    }
   ],
   "source": [
    "y_predict = knn_model.predict(X_test)\n",
    "print(\"Precision: {:6.4f},   Recall: {:6.4f}\".format(precision_score(y_test, y_predict), \n",
    "                                                     recall_score(y_test, y_predict)))\n",
    "print(\"F score::\", f1_score(y_test,y_predict))"
   ]
  },
  {
   "cell_type": "code",
   "execution_count": 24,
   "id": "c1cb8603",
   "metadata": {},
   "outputs": [
    {
     "name": "stderr",
     "output_type": "stream",
     "text": [
      "/Users/macbookproretina13inch/opt/anaconda3/lib/python3.8/site-packages/sklearn/utils/validation.py:70: FutureWarning: Pass beta=2 as keyword args. From version 1.0 (renaming of 0.25) passing these as positional arguments will result in an error\n",
      "  warnings.warn(f\"Pass {args_msg} as keyword args. From version \"\n"
     ]
    },
    {
     "data": {
      "text/plain": [
       "0.9210214339908953"
      ]
     },
     "execution_count": 24,
     "metadata": {},
     "output_type": "execute_result"
    }
   ],
   "source": [
    "fbeta_score(y_test,y_predict,2)"
   ]
  },
  {
   "cell_type": "code",
   "execution_count": 25,
   "id": "e543162b",
   "metadata": {},
   "outputs": [
    {
     "name": "stdout",
     "output_type": "stream",
     "text": [
      "Precision: 0.9547,   Recall: 0.9554\n",
      "F score:: 0.9550833132093697\n"
     ]
    }
   ],
   "source": [
    "y_predict = rf_model.predict(X_test)\n",
    "print(\"Precision: {:6.4f},   Recall: {:6.4f}\".format(precision_score(y_test, y_predict), \n",
    "                                                     recall_score(y_test, y_predict)))\n",
    "print(\"F score::\", f1_score(y_test,y_predict))"
   ]
  },
  {
   "cell_type": "code",
   "execution_count": 26,
   "id": "08fc6314",
   "metadata": {},
   "outputs": [
    {
     "name": "stderr",
     "output_type": "stream",
     "text": [
      "/Users/macbookproretina13inch/opt/anaconda3/lib/python3.8/site-packages/sklearn/utils/validation.py:70: FutureWarning: Pass beta=2 as keyword args. From version 1.0 (renaming of 0.25) passing these as positional arguments will result in an error\n",
      "  warnings.warn(f\"Pass {args_msg} as keyword args. From version \"\n"
     ]
    },
    {
     "data": {
      "text/plain": [
       "0.9552909350015701"
      ]
     },
     "execution_count": 26,
     "metadata": {},
     "output_type": "execute_result"
    }
   ],
   "source": [
    "fbeta_score(y_test,y_predict,2)"
   ]
  },
  {
   "cell_type": "code",
   "execution_count": 27,
   "id": "fe7eb6ca",
   "metadata": {},
   "outputs": [
    {
     "name": "stdout",
     "output_type": "stream",
     "text": [
      "Precision: 0.9459,   Recall: 0.9496\n",
      "F score:: 0.9477427520945092\n"
     ]
    }
   ],
   "source": [
    "y_predict = et_model.predict(X_test)\n",
    "print(\"Precision: {:6.4f},   Recall: {:6.4f}\".format(precision_score(y_test, y_predict), \n",
    "                                                     recall_score(y_test, y_predict)))\n",
    "print(\"F score::\", f1_score(y_test,y_predict))"
   ]
  },
  {
   "cell_type": "code",
   "execution_count": 28,
   "id": "3bada67b",
   "metadata": {},
   "outputs": [
    {
     "name": "stderr",
     "output_type": "stream",
     "text": [
      "/Users/macbookproretina13inch/opt/anaconda3/lib/python3.8/site-packages/sklearn/utils/validation.py:70: FutureWarning: Pass beta=2 as keyword args. From version 1.0 (renaming of 0.25) passing these as positional arguments will result in an error\n",
      "  warnings.warn(f\"Pass {args_msg} as keyword args. From version \"\n"
     ]
    },
    {
     "data": {
      "text/plain": [
       "0.9488751568987158"
      ]
     },
     "execution_count": 28,
     "metadata": {},
     "output_type": "execute_result"
    }
   ],
   "source": [
    "fbeta_score(y_test,y_predict,2)"
   ]
  },
  {
   "cell_type": "code",
   "execution_count": 29,
   "id": "23d084b0",
   "metadata": {},
   "outputs": [
    {
     "name": "stdout",
     "output_type": "stream",
     "text": [
      "Precision: 0.8377,   Recall: 0.6361\n",
      "F score:: 0.7231033299004462\n"
     ]
    }
   ],
   "source": [
    "y_predict = Br_model.predict(X_test)\n",
    "print(\"Precision: {:6.4f},   Recall: {:6.4f}\".format(precision_score(y_test, y_predict), \n",
    "                                                     recall_score(y_test, y_predict)))\n",
    "print(\"F score::\", f1_score(y_test,y_predict))"
   ]
  },
  {
   "cell_type": "code",
   "execution_count": 30,
   "id": "6493a32e",
   "metadata": {},
   "outputs": [
    {
     "name": "stderr",
     "output_type": "stream",
     "text": [
      "/Users/macbookproretina13inch/opt/anaconda3/lib/python3.8/site-packages/sklearn/utils/validation.py:70: FutureWarning: Pass beta=2 as keyword args. From version 1.0 (renaming of 0.25) passing these as positional arguments will result in an error\n",
      "  warnings.warn(f\"Pass {args_msg} as keyword args. From version \"\n"
     ]
    },
    {
     "data": {
      "text/plain": [
       "0.6682401908532561"
      ]
     },
     "execution_count": 30,
     "metadata": {},
     "output_type": "execute_result"
    }
   ],
   "source": [
    "fbeta_score(y_test,y_predict,2)"
   ]
  },
  {
   "cell_type": "code",
   "execution_count": 31,
   "id": "1a3b4f23",
   "metadata": {},
   "outputs": [
    {
     "name": "stdout",
     "output_type": "stream",
     "text": [
      "Precision: 0.5572,   Recall: 0.9768\n",
      "F score:: 0.7096349596349596\n"
     ]
    }
   ],
   "source": [
    "y_predict = Gn_model.predict(X_test)\n",
    "print(\"Precision: {:6.4f},   Recall: {:6.4f}\".format(precision_score(y_test, y_predict), \n",
    "                                                     recall_score(y_test, y_predict)))\n",
    "print(\"F score::\", f1_score(y_test,y_predict))"
   ]
  },
  {
   "cell_type": "code",
   "execution_count": 32,
   "id": "1f6059fe",
   "metadata": {},
   "outputs": [
    {
     "name": "stderr",
     "output_type": "stream",
     "text": [
      "/Users/macbookproretina13inch/opt/anaconda3/lib/python3.8/site-packages/sklearn/utils/validation.py:70: FutureWarning: Pass beta=2 as keyword args. From version 1.0 (renaming of 0.25) passing these as positional arguments will result in an error\n",
      "  warnings.warn(f\"Pass {args_msg} as keyword args. From version \"\n"
     ]
    },
    {
     "data": {
      "text/plain": [
       "0.8489575678683154"
      ]
     },
     "execution_count": 32,
     "metadata": {},
     "output_type": "execute_result"
    }
   ],
   "source": [
    "fbeta_score(y_test,y_predict,2)"
   ]
  },
  {
   "cell_type": "markdown",
   "id": "c4758468",
   "metadata": {},
   "source": [
    "# Voting Methods"
   ]
  },
  {
   "cell_type": "markdown",
   "id": "0c327049",
   "metadata": {},
   "source": [
    "### Max Voting"
   ]
  },
  {
   "cell_type": "code",
   "execution_count": 54,
   "id": "6b653387",
   "metadata": {},
   "outputs": [
    {
     "data": {
      "text/plain": [
       "VotingClassifier(estimators=[('lr_model', LogisticRegression(random_state=1)),\n",
       "                             ('knn_model',\n",
       "                              KNeighborsClassifier(n_neighbors=13)),\n",
       "                             ('rf_model',\n",
       "                              RandomForestClassifier(random_state=1)),\n",
       "                             ('et_model', ExtraTreesClassifier(random_state=1)),\n",
       "                             ('Br_model', BernoulliNB()),\n",
       "                             ('Gn_model', GaussianNB())],\n",
       "                 n_jobs=-1)"
      ]
     },
     "execution_count": 54,
     "metadata": {},
     "output_type": "execute_result"
    }
   ],
   "source": [
    "# create voting classifier\n",
    "voting_classifer = VotingClassifier(estimators= model_list,\n",
    "                                    voting='hard', #<-- sklearn calls this hard voting\n",
    "                                    n_jobs=-1)\n",
    "voting_classifer.fit(X_train, y_train)"
   ]
  },
  {
   "cell_type": "code",
   "execution_count": 55,
   "id": "9ba3c678",
   "metadata": {},
   "outputs": [
    {
     "data": {
      "text/plain": [
       "0.9305807074731377"
      ]
     },
     "execution_count": 55,
     "metadata": {},
     "output_type": "execute_result"
    }
   ],
   "source": [
    "# get accuracy (model to beat: ETC with 0.0.947 accuracy)\n",
    "y_pred = voting_classifer.predict(X_test)\n",
    "accuracy_score(y_test, y_pred)"
   ]
  },
  {
   "cell_type": "code",
   "execution_count": 56,
   "id": "f16d2a35",
   "metadata": {},
   "outputs": [
    {
     "name": "stdout",
     "output_type": "stream",
     "text": [
      "Precision: 0.9376,   Recall: 0.9225\n",
      "F score:: 0.929980516317584\n"
     ]
    }
   ],
   "source": [
    "y_predict = voting_classifer.predict(X_test)\n",
    "print(\"Precision: {:6.4f},   Recall: {:6.4f}\".format(precision_score(y_test, y_predict), \n",
    "                                                     recall_score(y_test, y_predict)))\n",
    "print(\"F score::\", f1_score(y_test,y_predict))"
   ]
  },
  {
   "cell_type": "code",
   "execution_count": 57,
   "id": "11780b18",
   "metadata": {},
   "outputs": [
    {
     "name": "stderr",
     "output_type": "stream",
     "text": [
      "/Users/macbookproretina13inch/opt/anaconda3/lib/python3.8/site-packages/sklearn/utils/validation.py:70: FutureWarning: Pass beta=2 as keyword args. From version 1.0 (renaming of 0.25) passing these as positional arguments will result in an error\n",
      "  warnings.warn(f\"Pass {args_msg} as keyword args. From version \"\n"
     ]
    },
    {
     "data": {
      "text/plain": [
       "0.925450182981508"
      ]
     },
     "execution_count": 57,
     "metadata": {},
     "output_type": "execute_result"
    }
   ],
   "source": [
    "fbeta_score(y_test,y_predict,2)"
   ]
  },
  {
   "cell_type": "markdown",
   "id": "bfe11631",
   "metadata": {},
   "source": [
    "### Average Voting"
   ]
  },
  {
   "cell_type": "code",
   "execution_count": 58,
   "id": "ea9fbb0e",
   "metadata": {},
   "outputs": [
    {
     "data": {
      "text/plain": [
       "VotingClassifier(estimators=[('lr_model', LogisticRegression(random_state=1)),\n",
       "                             ('knn_model',\n",
       "                              KNeighborsClassifier(n_neighbors=13)),\n",
       "                             ('rf_model',\n",
       "                              RandomForestClassifier(random_state=1)),\n",
       "                             ('et_model', ExtraTreesClassifier(random_state=1)),\n",
       "                             ('Br_model', BernoulliNB()),\n",
       "                             ('Gn_model', GaussianNB())],\n",
       "                 n_jobs=-1, voting='soft')"
      ]
     },
     "execution_count": 58,
     "metadata": {},
     "output_type": "execute_result"
    }
   ],
   "source": [
    "# create voting classifier\n",
    "voting_classifer = VotingClassifier(estimators=model_list,\n",
    "                                    voting='soft', #<-- sklearn calls this soft voting\n",
    "                                    n_jobs=-1)\n",
    "voting_classifer.fit(X_train, y_train)"
   ]
  },
  {
   "cell_type": "code",
   "execution_count": 59,
   "id": "706bcaed",
   "metadata": {},
   "outputs": [
    {
     "data": {
      "text/plain": [
       "0.9305203428709404"
      ]
     },
     "execution_count": 59,
     "metadata": {},
     "output_type": "execute_result"
    }
   ],
   "source": [
    "# get accuracy (model to beat: ETC with 0.0.947 accuracy)\n",
    "y_pred = voting_classifer.predict(X_test)\n",
    "accuracy_score(y_test, y_pred)"
   ]
  },
  {
   "cell_type": "code",
   "execution_count": 60,
   "id": "8e42f11f",
   "metadata": {},
   "outputs": [
    {
     "name": "stdout",
     "output_type": "stream",
     "text": [
      "Precision: 0.9102,   Recall: 0.9552\n",
      "F score:: 0.9321624329580951\n"
     ]
    }
   ],
   "source": [
    "y_predict = voting_classifer.predict(X_test)\n",
    "print(\"Precision: {:6.4f},   Recall: {:6.4f}\".format(precision_score(y_test, y_predict), \n",
    "                                                     recall_score(y_test, y_predict)))\n",
    "print(\"F score::\", f1_score(y_test,y_predict))"
   ]
  },
  {
   "cell_type": "code",
   "execution_count": 61,
   "id": "76639826",
   "metadata": {},
   "outputs": [
    {
     "name": "stderr",
     "output_type": "stream",
     "text": [
      "/Users/macbookproretina13inch/opt/anaconda3/lib/python3.8/site-packages/sklearn/utils/validation.py:70: FutureWarning: Pass beta=2 as keyword args. From version 1.0 (renaming of 0.25) passing these as positional arguments will result in an error\n",
      "  warnings.warn(f\"Pass {args_msg} as keyword args. From version \"\n"
     ]
    },
    {
     "data": {
      "text/plain": [
       "0.9458425031097502"
      ]
     },
     "execution_count": 61,
     "metadata": {},
     "output_type": "execute_result"
    }
   ],
   "source": [
    "fbeta_score(y_test,y_predict,2)"
   ]
  },
  {
   "cell_type": "markdown",
   "id": "c1cb050c",
   "metadata": {},
   "source": [
    "### Weighted Voting"
   ]
  },
  {
   "cell_type": "code",
   "execution_count": 62,
   "id": "ceb87d08",
   "metadata": {},
   "outputs": [
    {
     "data": {
      "text/plain": [
       "VotingClassifier(estimators=[('lr_model', LogisticRegression(random_state=1)),\n",
       "                             ('knn_model',\n",
       "                              KNeighborsClassifier(n_neighbors=13)),\n",
       "                             ('rf_model',\n",
       "                              RandomForestClassifier(random_state=1)),\n",
       "                             ('et_model', ExtraTreesClassifier(random_state=1)),\n",
       "                             ('Br_model', BernoulliNB()),\n",
       "                             ('Gn_model', GaussianNB())],\n",
       "                 n_jobs=-1, voting='soft',\n",
       "                 weights=[1.5, 3.8, 4.2, 2.2, 3.1, 2.4])"
      ]
     },
     "execution_count": 62,
     "metadata": {},
     "output_type": "execute_result"
    }
   ],
   "source": [
    "# create voting classifier\n",
    "weights = [1.5,3.8,4.2,2.2,3.1,2.4]\n",
    "voting_model = VotingClassifier(estimators=model_list,\n",
    "                                    voting='soft', \n",
    "                                    weights = weights,  #include weights\n",
    "                                    n_jobs=-1)\n",
    "voting_model.fit(X_train, y_train)"
   ]
  },
  {
   "cell_type": "code",
   "execution_count": 63,
   "id": "51152ebe",
   "metadata": {},
   "outputs": [
    {
     "data": {
      "text/plain": [
       "0.9369793553060485"
      ]
     },
     "execution_count": 63,
     "metadata": {},
     "output_type": "execute_result"
    }
   ],
   "source": [
    "# Get accuracy (model to beat: RF with 0.8136 accuracy)\n",
    "y_pred = voting_model.predict(X_test)\n",
    "accuracy_score(y_test, y_pred)"
   ]
  },
  {
   "cell_type": "code",
   "execution_count": 64,
   "id": "afbec74e",
   "metadata": {},
   "outputs": [
    {
     "name": "stdout",
     "output_type": "stream",
     "text": [
      "Precision: 0.9102,   Recall: 0.9552\n",
      "F score:: 0.9321624329580951\n"
     ]
    }
   ],
   "source": [
    "y_predict = voting_classifer.predict(X_test)\n",
    "print(\"Precision: {:6.4f},   Recall: {:6.4f}\".format(precision_score(y_test, y_predict), \n",
    "                                                     recall_score(y_test, y_predict)))\n",
    "print(\"F score::\", f1_score(y_test,y_predict))"
   ]
  },
  {
   "cell_type": "code",
   "execution_count": 65,
   "id": "b04241c7",
   "metadata": {},
   "outputs": [
    {
     "name": "stderr",
     "output_type": "stream",
     "text": [
      "/Users/macbookproretina13inch/opt/anaconda3/lib/python3.8/site-packages/sklearn/utils/validation.py:70: FutureWarning: Pass beta=2 as keyword args. From version 1.0 (renaming of 0.25) passing these as positional arguments will result in an error\n",
      "  warnings.warn(f\"Pass {args_msg} as keyword args. From version \"\n"
     ]
    },
    {
     "data": {
      "text/plain": [
       "0.9458425031097502"
      ]
     },
     "execution_count": 65,
     "metadata": {},
     "output_type": "execute_result"
    }
   ],
   "source": [
    "fbeta_score(y_test,y_predict,2)"
   ]
  },
  {
   "cell_type": "markdown",
   "id": "54b8d985",
   "metadata": {},
   "source": [
    "### Stacking Classifier"
   ]
  },
  {
   "cell_type": "code",
   "execution_count": 45,
   "id": "2a81f70d",
   "metadata": {},
   "outputs": [],
   "source": [
    "stacked = StackingClassifier(\n",
    "    classifiers=model_vars, meta_classifier=RandomForestClassifier(), use_probas=False)"
   ]
  },
  {
   "cell_type": "code",
   "execution_count": 46,
   "id": "922395ba",
   "metadata": {},
   "outputs": [
    {
     "data": {
      "text/plain": [
       "StackingClassifier(classifiers=[LogisticRegression(random_state=1),\n",
       "                                KNeighborsClassifier(n_neighbors=13),\n",
       "                                RandomForestClassifier(random_state=1),\n",
       "                                ExtraTreesClassifier(random_state=1),\n",
       "                                BernoulliNB(), GaussianNB()],\n",
       "                   meta_classifier=RandomForestClassifier())"
      ]
     },
     "execution_count": 46,
     "metadata": {},
     "output_type": "execute_result"
    }
   ],
   "source": [
    "stacked.fit(X_train, y_train)"
   ]
  },
  {
   "cell_type": "code",
   "execution_count": 47,
   "id": "2606b20e",
   "metadata": {},
   "outputs": [
    {
     "data": {
      "text/plain": [
       "0.9500181093806592"
      ]
     },
     "execution_count": 47,
     "metadata": {},
     "output_type": "execute_result"
    }
   ],
   "source": [
    "y_pred = stacked.predict(X_test)\n",
    "accuracy_score(y_test, y_pred)"
   ]
  },
  {
   "cell_type": "code",
   "execution_count": 48,
   "id": "90e4fddf",
   "metadata": {},
   "outputs": [
    {
     "name": "stdout",
     "output_type": "stream",
     "text": [
      "Precision: 0.5572,   Recall: 0.9768\n",
      "F score:: 0.7096349596349596\n"
     ]
    }
   ],
   "source": [
    "print(\"Precision: {:6.4f},   Recall: {:6.4f}\".format(precision_score(y_test, y_predict), \n",
    "                                                     recall_score(y_test, y_predict)))\n",
    "print(\"F score::\", f1_score(y_test,y_predict))"
   ]
  },
  {
   "cell_type": "code",
   "execution_count": 49,
   "id": "80f140d2",
   "metadata": {},
   "outputs": [
    {
     "name": "stderr",
     "output_type": "stream",
     "text": [
      "/Users/macbookproretina13inch/opt/anaconda3/lib/python3.8/site-packages/sklearn/utils/validation.py:70: FutureWarning: Pass beta=2 as keyword args. From version 1.0 (renaming of 0.25) passing these as positional arguments will result in an error\n",
      "  warnings.warn(f\"Pass {args_msg} as keyword args. From version \"\n"
     ]
    },
    {
     "data": {
      "text/plain": [
       "0.8489575678683154"
      ]
     },
     "execution_count": 49,
     "metadata": {},
     "output_type": "execute_result"
    }
   ],
   "source": [
    "fbeta_score(y_test,y_predict,2)"
   ]
  },
  {
   "cell_type": "code",
   "execution_count": 50,
   "id": "13744e44",
   "metadata": {},
   "outputs": [],
   "source": [
    "from sklearn.metrics import roc_auc_score, roc_curve\n",
    "\n",
    "fpr, tpr, thresholds = roc_curve(y_test, stacked.predict_proba(X_test)[:,1])"
   ]
  },
  {
   "cell_type": "code",
   "execution_count": 51,
   "id": "95572220",
   "metadata": {},
   "outputs": [
    {
     "name": "stdout",
     "output_type": "stream",
     "text": [
      "ROC AUC score =  0.9606547395668729\n"
     ]
    },
    {
     "data": {
      "image/png": "[encoded data removed]",
      "text/plain": [
       "<Figure size 432x288 with 1 Axes>"
      ]
     },
     "metadata": {
      "needs_background": "light"
     },
     "output_type": "display_data"
    }
   ],
   "source": [
    "plt.plot(fpr, tpr,lw=2)\n",
    "plt.plot([0,1],[0,1],c='violet',ls='--')\n",
    "plt.xlim([-0.05,1.05])\n",
    "plt.ylim([-0.05,1.05])\n",
    "\n",
    "\n",
    "plt.xlabel('False positive rate')\n",
    "plt.ylabel('True positive rate')\n",
    "plt.title('ROC curve for Ransomware problem');\n",
    "print(\"ROC AUC score = \", roc_auc_score(y_test, stacked.predict_proba(X_test)[:,1]))"
   ]
  },
  {
   "cell_type": "code",
   "execution_count": 52,
   "id": "4171e500",
   "metadata": {},
   "outputs": [],
   "source": [
    "def make_confusion_matrix(model, threshold=0.5):\n",
    "    # Predict class 1 if probability of being in class 1 is greater than threshold\n",
    "    # (model.predict(X_test) does this automatically with a threshold of 0.5)\n",
    "    y_predict = (model.predict_proba(X_test)[:, 1] >= threshold)\n",
    "    fraud_confusion = confusion_matrix(y_test, y_predict)\n",
    "    plt.figure(dpi=80)\n",
    "    sns.heatmap(fraud_confusion, cmap=plt.cm.Blues, annot=True, square=True, fmt='d',\n",
    "           xticklabels=['White', 'Ransomware'],\n",
    "           yticklabels=['White', 'Ransomware']);\n",
    "    plt.xlabel('prediction')\n",
    "    plt.ylabel('actual')"
   ]
  },
  {
   "cell_type": "code",
   "execution_count": 53,
   "id": "29da085c",
   "metadata": {},
   "outputs": [
    {
     "data": {
      "image/png": "[encoded data removed]",
      "text/plain": [
       "<Figure size 480x320 with 2 Axes>"
      ]
     },
     "metadata": {
      "needs_background": "light"
     },
     "output_type": "display_data"
    }
   ],
   "source": [
    "make_confusion_matrix(stacked)"
   ]
  },
  {
   "cell_type": "markdown",
   "id": "21f323ef",
   "metadata": {},
   "source": [
    "### Store the models in Pickle files"
   ]
  },
  {
   "cell_type": "code",
   "execution_count": null,
   "id": "cec1ef51",
   "metadata": {},
   "outputs": [],
   "source": [
    "for model in model_names:\n",
    "    pickle.dump(model, open('model.pkl', 'wb'))"
   ]
  }
 ],
 "metadata": {
  "kernelspec": {
   "display_name": "Python 3",
   "language": "python",
   "name": "python3"
  },
  "language_info": {
   "codemirror_mode": {
    "name": "ipython",
    "version": 3
   },
   "file_extension": ".py",
   "mimetype": "text/x-python",
   "name": "python",
   "nbconvert_exporter": "python",
   "pygments_lexer": "ipython3",
   "version": "3.8.8"
  }
 },
 "nbformat": 4,
 "nbformat_minor": 5
}
