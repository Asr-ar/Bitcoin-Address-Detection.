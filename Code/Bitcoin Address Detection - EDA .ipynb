{
 "cells": [
  {
   "cell_type": "markdown",
   "id": "690d1127",
   "metadata": {},
   "source": [
    "# 1. EDA Workflow"
   ]
  },
  {
   "cell_type": "markdown",
   "id": "f4f2995d",
   "metadata": {},
   "source": [
    "## Setup"
   ]
  },
  {
   "cell_type": "markdown",
   "id": "d79e131e",
   "metadata": {},
   "source": [
    "Data manipulation libraries:"
   ]
  },
  {
   "cell_type": "code",
   "execution_count": 32,
   "id": "c92ab828",
   "metadata": {},
   "outputs": [],
   "source": [
    "import pandas as pd\n",
    "import numpy  as np"
   ]
  },
  {
   "cell_type": "markdown",
   "id": "30463093",
   "metadata": {},
   "source": [
    "Visualization libraries:"
   ]
  },
  {
   "cell_type": "code",
   "execution_count": null,
   "id": "d80c0ff5",
   "metadata": {},
   "outputs": [],
   "source": [
    "import matplotlib.pyplot  as plt\n",
    "import seaborn            as sns\n",
    "\n",
    "plt.style.use('fivethirtyeight')\n",
    "\n",
    "%matplotlib inline"
   ]
  },
  {
   "cell_type": "markdown",
   "id": "dca80cf3",
   "metadata": {},
   "source": [
    "Pre-processing libraries:"
   ]
  },
  {
   "cell_type": "code",
   "execution_count": null,
   "id": "a254e0bd",
   "metadata": {},
   "outputs": [],
   "source": [
    "from sklearn.model_selection  import train_test_split\n",
    "\n",
    "from scipy.stats              import boxcox \n",
    "from tqdm.notebook            import tqdm\n",
    "\n",
    "import datetime"
   ]
  },
  {
   "cell_type": "markdown",
   "id": "f965d571",
   "metadata": {},
   "source": [
    "## Data-set"
   ]
  },
  {
   "cell_type": "code",
   "execution_count": 4,
   "id": "92089345",
   "metadata": {},
   "outputs": [],
   "source": [
    "file_path = 'BitcoinHeistData.csv'\n",
    "\n",
    "data = pd.read_csv(file_path)"
   ]
  },
  {
   "cell_type": "markdown",
   "id": "608315d1",
   "metadata": {},
   "source": [
    "## Data Overview"
   ]
  },
  {
   "cell_type": "code",
   "execution_count": 34,
   "id": "5f77fd72",
   "metadata": {},
   "outputs": [
    {
     "name": "stdout",
     "output_type": "stream",
     "text": [
      "<class 'pandas.core.frame.DataFrame'>\n",
      "RangeIndex: 2916697 entries, 0 to 2916696\n",
      "Data columns (total 10 columns):\n",
      " #   Column     Dtype  \n",
      "---  ------     -----  \n",
      " 0   address    object \n",
      " 1   year       int64  \n",
      " 2   day        int64  \n",
      " 3   length     int64  \n",
      " 4   weight     float64\n",
      " 5   counted    int64  \n",
      " 6   looped     int64  \n",
      " 7   neighbors  int64  \n",
      " 8   income     float64\n",
      " 9   label      int64  \n",
      "dtypes: float64(2), int64(7), object(1)\n",
      "memory usage: 222.5+ MB\n"
     ]
    }
   ],
   "source": [
    "data.info()"
   ]
  },
  {
   "cell_type": "code",
   "execution_count": 35,
   "id": "eb252ba1",
   "metadata": {},
   "outputs": [
    {
     "data": {
      "text/html": [
       "<div>\n",
       "<style scoped>\n",
       "    .dataframe tbody tr th:only-of-type {\n",
       "        vertical-align: middle;\n",
       "    }\n",
       "\n",
       "    .dataframe tbody tr th {\n",
       "        vertical-align: top;\n",
       "    }\n",
       "\n",
       "    .dataframe thead th {\n",
       "        text-align: right;\n",
       "    }\n",
       "</style>\n",
       "<table border=\"1\" class=\"dataframe\">\n",
       "  <thead>\n",
       "    <tr style=\"text-align: right;\">\n",
       "      <th></th>\n",
       "      <th>address</th>\n",
       "      <th>year</th>\n",
       "      <th>day</th>\n",
       "      <th>length</th>\n",
       "      <th>weight</th>\n",
       "      <th>counted</th>\n",
       "      <th>looped</th>\n",
       "      <th>neighbors</th>\n",
       "      <th>income</th>\n",
       "      <th>label</th>\n",
       "    </tr>\n",
       "  </thead>\n",
       "  <tbody>\n",
       "    <tr>\n",
       "      <th>0</th>\n",
       "      <td>111K8kZAEnJg245r2cM6y9zgJGHZtJPy6</td>\n",
       "      <td>2017</td>\n",
       "      <td>11</td>\n",
       "      <td>18</td>\n",
       "      <td>0.008333</td>\n",
       "      <td>1</td>\n",
       "      <td>0</td>\n",
       "      <td>2</td>\n",
       "      <td>100050000.0</td>\n",
       "      <td>1</td>\n",
       "    </tr>\n",
       "    <tr>\n",
       "      <th>1</th>\n",
       "      <td>1123pJv8jzeFQaCV4w644pzQJzVWay2zcA</td>\n",
       "      <td>2016</td>\n",
       "      <td>132</td>\n",
       "      <td>44</td>\n",
       "      <td>0.000244</td>\n",
       "      <td>1</td>\n",
       "      <td>0</td>\n",
       "      <td>1</td>\n",
       "      <td>100000000.0</td>\n",
       "      <td>1</td>\n",
       "    </tr>\n",
       "    <tr>\n",
       "      <th>2</th>\n",
       "      <td>112536im7hy6wtKbpH1qYDWtTyMRAcA2p7</td>\n",
       "      <td>2016</td>\n",
       "      <td>246</td>\n",
       "      <td>0</td>\n",
       "      <td>1.000000</td>\n",
       "      <td>1</td>\n",
       "      <td>0</td>\n",
       "      <td>2</td>\n",
       "      <td>200000000.0</td>\n",
       "      <td>1</td>\n",
       "    </tr>\n",
       "    <tr>\n",
       "      <th>3</th>\n",
       "      <td>1126eDRw2wqSkWosjTCre8cjjQW8sSeWH7</td>\n",
       "      <td>2016</td>\n",
       "      <td>322</td>\n",
       "      <td>72</td>\n",
       "      <td>0.003906</td>\n",
       "      <td>1</td>\n",
       "      <td>0</td>\n",
       "      <td>2</td>\n",
       "      <td>71200000.0</td>\n",
       "      <td>1</td>\n",
       "    </tr>\n",
       "    <tr>\n",
       "      <th>4</th>\n",
       "      <td>1129TSjKtx65E35GiUo4AYVeyo48twbrGX</td>\n",
       "      <td>2016</td>\n",
       "      <td>238</td>\n",
       "      <td>144</td>\n",
       "      <td>0.072848</td>\n",
       "      <td>456</td>\n",
       "      <td>0</td>\n",
       "      <td>1</td>\n",
       "      <td>200000000.0</td>\n",
       "      <td>1</td>\n",
       "    </tr>\n",
       "  </tbody>\n",
       "</table>\n",
       "</div>"
      ],
      "text/plain": [
       "                              address  year  day  length    weight  counted  \\\n",
       "0   111K8kZAEnJg245r2cM6y9zgJGHZtJPy6  2017   11      18  0.008333        1   \n",
       "1  1123pJv8jzeFQaCV4w644pzQJzVWay2zcA  2016  132      44  0.000244        1   \n",
       "2  112536im7hy6wtKbpH1qYDWtTyMRAcA2p7  2016  246       0  1.000000        1   \n",
       "3  1126eDRw2wqSkWosjTCre8cjjQW8sSeWH7  2016  322      72  0.003906        1   \n",
       "4  1129TSjKtx65E35GiUo4AYVeyo48twbrGX  2016  238     144  0.072848      456   \n",
       "\n",
       "   looped  neighbors       income  label  \n",
       "0       0          2  100050000.0      1  \n",
       "1       0          1  100000000.0      1  \n",
       "2       0          2  200000000.0      1  \n",
       "3       0          2   71200000.0      1  \n",
       "4       0          1  200000000.0      1  "
      ]
     },
     "execution_count": 35,
     "metadata": {},
     "output_type": "execute_result"
    }
   ],
   "source": [
    "data.head()"
   ]
  },
  {
   "cell_type": "code",
   "execution_count": 36,
   "id": "631a034b",
   "metadata": {},
   "outputs": [
    {
     "data": {
      "text/html": [
       "<div>\n",
       "<style scoped>\n",
       "    .dataframe tbody tr th:only-of-type {\n",
       "        vertical-align: middle;\n",
       "    }\n",
       "\n",
       "    .dataframe tbody tr th {\n",
       "        vertical-align: top;\n",
       "    }\n",
       "\n",
       "    .dataframe thead th {\n",
       "        text-align: right;\n",
       "    }\n",
       "</style>\n",
       "<table border=\"1\" class=\"dataframe\">\n",
       "  <thead>\n",
       "    <tr style=\"text-align: right;\">\n",
       "      <th></th>\n",
       "      <th>address</th>\n",
       "      <th>year</th>\n",
       "      <th>day</th>\n",
       "      <th>length</th>\n",
       "      <th>weight</th>\n",
       "      <th>counted</th>\n",
       "      <th>looped</th>\n",
       "      <th>neighbors</th>\n",
       "      <th>income</th>\n",
       "      <th>label</th>\n",
       "    </tr>\n",
       "  </thead>\n",
       "  <tbody>\n",
       "    <tr>\n",
       "      <th>2678250</th>\n",
       "      <td>38oizctkGYbJuGWePs9Dwhi1JSWBWJLo9n</td>\n",
       "      <td>2018</td>\n",
       "      <td>92</td>\n",
       "      <td>0</td>\n",
       "      <td>1.00</td>\n",
       "      <td>1</td>\n",
       "      <td>0</td>\n",
       "      <td>2</td>\n",
       "      <td>1.261885e+09</td>\n",
       "      <td>0</td>\n",
       "    </tr>\n",
       "    <tr>\n",
       "      <th>804877</th>\n",
       "      <td>1EWLpAobsMVuCwk9zzdzm4N9MsumxsNsoK</td>\n",
       "      <td>2013</td>\n",
       "      <td>44</td>\n",
       "      <td>0</td>\n",
       "      <td>0.50</td>\n",
       "      <td>1</td>\n",
       "      <td>0</td>\n",
       "      <td>1</td>\n",
       "      <td>5.000000e+09</td>\n",
       "      <td>0</td>\n",
       "    </tr>\n",
       "    <tr>\n",
       "      <th>2402424</th>\n",
       "      <td>1BJkLumTHk9MzcMQC3YaZEnR3zX3ehozUA</td>\n",
       "      <td>2017</td>\n",
       "      <td>181</td>\n",
       "      <td>0</td>\n",
       "      <td>1.00</td>\n",
       "      <td>1</td>\n",
       "      <td>0</td>\n",
       "      <td>2</td>\n",
       "      <td>9.981900e+07</td>\n",
       "      <td>0</td>\n",
       "    </tr>\n",
       "    <tr>\n",
       "      <th>884908</th>\n",
       "      <td>1JrEqa1JssEVbcxq3yfSQ15ipe56S14rGF</td>\n",
       "      <td>2013</td>\n",
       "      <td>124</td>\n",
       "      <td>0</td>\n",
       "      <td>1.00</td>\n",
       "      <td>1</td>\n",
       "      <td>0</td>\n",
       "      <td>2</td>\n",
       "      <td>4.999750e+09</td>\n",
       "      <td>0</td>\n",
       "    </tr>\n",
       "    <tr>\n",
       "      <th>176914</th>\n",
       "      <td>1NvwCmwtPGWHwUpJwM5g4pDFopiaTcDNLc</td>\n",
       "      <td>2011</td>\n",
       "      <td>146</td>\n",
       "      <td>2</td>\n",
       "      <td>0.25</td>\n",
       "      <td>1</td>\n",
       "      <td>0</td>\n",
       "      <td>1</td>\n",
       "      <td>4.500000e+07</td>\n",
       "      <td>0</td>\n",
       "    </tr>\n",
       "  </tbody>\n",
       "</table>\n",
       "</div>"
      ],
      "text/plain": [
       "                                    address  year  day  length  weight  \\\n",
       "2678250  38oizctkGYbJuGWePs9Dwhi1JSWBWJLo9n  2018   92       0    1.00   \n",
       "804877   1EWLpAobsMVuCwk9zzdzm4N9MsumxsNsoK  2013   44       0    0.50   \n",
       "2402424  1BJkLumTHk9MzcMQC3YaZEnR3zX3ehozUA  2017  181       0    1.00   \n",
       "884908   1JrEqa1JssEVbcxq3yfSQ15ipe56S14rGF  2013  124       0    1.00   \n",
       "176914   1NvwCmwtPGWHwUpJwM5g4pDFopiaTcDNLc  2011  146       2    0.25   \n",
       "\n",
       "         counted  looped  neighbors        income  label  \n",
       "2678250        1       0          2  1.261885e+09      0  \n",
       "804877         1       0          1  5.000000e+09      0  \n",
       "2402424        1       0          2  9.981900e+07      0  \n",
       "884908         1       0          2  4.999750e+09      0  \n",
       "176914         1       0          1  4.500000e+07      0  "
      ]
     },
     "execution_count": 36,
     "metadata": {},
     "output_type": "execute_result"
    }
   ],
   "source": [
    "data.sample(5)"
   ]
  },
  {
   "cell_type": "code",
   "execution_count": 37,
   "id": "838bb980",
   "metadata": {},
   "outputs": [
    {
     "data": {
      "text/html": [
       "<div>\n",
       "<style scoped>\n",
       "    .dataframe tbody tr th:only-of-type {\n",
       "        vertical-align: middle;\n",
       "    }\n",
       "\n",
       "    .dataframe tbody tr th {\n",
       "        vertical-align: top;\n",
       "    }\n",
       "\n",
       "    .dataframe thead th {\n",
       "        text-align: right;\n",
       "    }\n",
       "</style>\n",
       "<table border=\"1\" class=\"dataframe\">\n",
       "  <thead>\n",
       "    <tr style=\"text-align: right;\">\n",
       "      <th></th>\n",
       "      <th>address</th>\n",
       "      <th>year</th>\n",
       "      <th>day</th>\n",
       "      <th>length</th>\n",
       "      <th>weight</th>\n",
       "      <th>counted</th>\n",
       "      <th>looped</th>\n",
       "      <th>neighbors</th>\n",
       "      <th>income</th>\n",
       "      <th>label</th>\n",
       "    </tr>\n",
       "  </thead>\n",
       "  <tbody>\n",
       "    <tr>\n",
       "      <th>2916692</th>\n",
       "      <td>12D3trgho1vJ4mGtWBRPyHdMJK96TRYSry</td>\n",
       "      <td>2018</td>\n",
       "      <td>330</td>\n",
       "      <td>0</td>\n",
       "      <td>0.111111</td>\n",
       "      <td>1</td>\n",
       "      <td>0</td>\n",
       "      <td>1</td>\n",
       "      <td>1.255809e+09</td>\n",
       "      <td>0</td>\n",
       "    </tr>\n",
       "    <tr>\n",
       "      <th>2916693</th>\n",
       "      <td>1P7PputTcVkhXBmXBvSD9MJ3UYPsiou1u2</td>\n",
       "      <td>2018</td>\n",
       "      <td>330</td>\n",
       "      <td>0</td>\n",
       "      <td>1.000000</td>\n",
       "      <td>1</td>\n",
       "      <td>0</td>\n",
       "      <td>1</td>\n",
       "      <td>4.409699e+07</td>\n",
       "      <td>0</td>\n",
       "    </tr>\n",
       "    <tr>\n",
       "      <th>2916694</th>\n",
       "      <td>1KYiKJEfdJtap9QX2v9BXJMpz2SfU4pgZw</td>\n",
       "      <td>2018</td>\n",
       "      <td>330</td>\n",
       "      <td>2</td>\n",
       "      <td>12.000000</td>\n",
       "      <td>6</td>\n",
       "      <td>6</td>\n",
       "      <td>35</td>\n",
       "      <td>2.398267e+09</td>\n",
       "      <td>0</td>\n",
       "    </tr>\n",
       "    <tr>\n",
       "      <th>2916695</th>\n",
       "      <td>15iPUJsRNZQZHmZZVwmQ63srsmughCXV4a</td>\n",
       "      <td>2018</td>\n",
       "      <td>330</td>\n",
       "      <td>0</td>\n",
       "      <td>0.500000</td>\n",
       "      <td>1</td>\n",
       "      <td>0</td>\n",
       "      <td>1</td>\n",
       "      <td>1.780427e+08</td>\n",
       "      <td>0</td>\n",
       "    </tr>\n",
       "    <tr>\n",
       "      <th>2916696</th>\n",
       "      <td>3LFFBxp15h9KSFtaw55np8eP5fv6kdK17e</td>\n",
       "      <td>2018</td>\n",
       "      <td>330</td>\n",
       "      <td>144</td>\n",
       "      <td>0.073972</td>\n",
       "      <td>6800</td>\n",
       "      <td>0</td>\n",
       "      <td>2</td>\n",
       "      <td>1.123500e+08</td>\n",
       "      <td>0</td>\n",
       "    </tr>\n",
       "  </tbody>\n",
       "</table>\n",
       "</div>"
      ],
      "text/plain": [
       "                                    address  year  day  length     weight  \\\n",
       "2916692  12D3trgho1vJ4mGtWBRPyHdMJK96TRYSry  2018  330       0   0.111111   \n",
       "2916693  1P7PputTcVkhXBmXBvSD9MJ3UYPsiou1u2  2018  330       0   1.000000   \n",
       "2916694  1KYiKJEfdJtap9QX2v9BXJMpz2SfU4pgZw  2018  330       2  12.000000   \n",
       "2916695  15iPUJsRNZQZHmZZVwmQ63srsmughCXV4a  2018  330       0   0.500000   \n",
       "2916696  3LFFBxp15h9KSFtaw55np8eP5fv6kdK17e  2018  330     144   0.073972   \n",
       "\n",
       "         counted  looped  neighbors        income  label  \n",
       "2916692        1       0          1  1.255809e+09      0  \n",
       "2916693        1       0          1  4.409699e+07      0  \n",
       "2916694        6       6         35  2.398267e+09      0  \n",
       "2916695        1       0          1  1.780427e+08      0  \n",
       "2916696     6800       0          2  1.123500e+08      0  "
      ]
     },
     "execution_count": 37,
     "metadata": {},
     "output_type": "execute_result"
    }
   ],
   "source": [
    "data.tail()"
   ]
  },
  {
   "cell_type": "code",
   "execution_count": 38,
   "id": "6fb0b755",
   "metadata": {},
   "outputs": [
    {
     "name": "stdout",
     "output_type": "stream",
     "text": [
      "Data has 2916697 rows and 10 columns\n"
     ]
    }
   ],
   "source": [
    "print('Data has {} rows and {} columns'.format(data.shape[0], data.shape[1]))"
   ]
  },
  {
   "cell_type": "code",
   "execution_count": 39,
   "id": "d111a46d",
   "metadata": {},
   "outputs": [
    {
     "name": "stdout",
     "output_type": "stream",
     "text": [
      "Data columns: \n",
      "['address', 'year', 'day', 'length', 'weight', 'counted', 'looped', 'neighbors', 'income']\n"
     ]
    }
   ],
   "source": [
    "print('Data columns: \\n{}'.format(list(data.columns)[:-1]))"
   ]
  },
  {
   "cell_type": "markdown",
   "id": "d579e643",
   "metadata": {},
   "source": [
    "## Checking for NaN"
   ]
  },
  {
   "cell_type": "code",
   "execution_count": 40,
   "id": "af25c9fa",
   "metadata": {},
   "outputs": [
    {
     "data": {
      "text/plain": [
       "False"
      ]
     },
     "execution_count": 40,
     "metadata": {},
     "output_type": "execute_result"
    }
   ],
   "source": [
    "data.isnull().values.any()"
   ]
  },
  {
   "cell_type": "markdown",
   "id": "f3c59722",
   "metadata": {},
   "source": [
    "## Droping any duplicates "
   ]
  },
  {
   "cell_type": "code",
   "execution_count": 41,
   "id": "74f35e68",
   "metadata": {},
   "outputs": [],
   "source": [
    "data = data.drop_duplicates()"
   ]
  },
  {
   "cell_type": "code",
   "execution_count": 42,
   "id": "1c21e3b3",
   "metadata": {},
   "outputs": [
    {
     "data": {
      "text/plain": [
       "(2916697, 10)"
      ]
     },
     "execution_count": 42,
     "metadata": {},
     "output_type": "execute_result"
    }
   ],
   "source": [
    "data.shape"
   ]
  },
  {
   "cell_type": "markdown",
   "id": "c9db45be",
   "metadata": {},
   "source": [
    "## Rename "
   ]
  },
  {
   "cell_type": "markdown",
   "id": "a5d1ed01",
   "metadata": {},
   "source": [
    "The count column may confuse the computer with the count() function,\n",
    "so lets rename it."
   ]
  },
  {
   "cell_type": "code",
   "execution_count": 6,
   "id": "4725deb7",
   "metadata": {},
   "outputs": [],
   "source": [
    "data.rename(columns={'count':'counted'},inplace=True)"
   ]
  },
  {
   "cell_type": "markdown",
   "id": "7e1849fc",
   "metadata": {},
   "source": [
    "##  Classes preparing"
   ]
  },
  {
   "cell_type": "markdown",
   "id": "d68b1897",
   "metadata": {},
   "source": [
    "The positive class is any kind of \"ransomware label\" will takes '1' as value.  \n",
    "The negative class is the \"White label\" will takes '0' as value. "
   ]
  },
  {
   "cell_type": "code",
   "execution_count": 7,
   "id": "e4e1db9a",
   "metadata": {},
   "outputs": [],
   "source": [
    "data['label'] = data['label'].apply(lambda x: 0 if x == 'white' else 1)"
   ]
  },
  {
   "cell_type": "code",
   "execution_count": 8,
   "id": "c0f92d1c",
   "metadata": {},
   "outputs": [
    {
     "name": "stdout",
     "output_type": "stream",
     "text": [
      "Number of white (non-ransomware) datapoints: 2875284\n",
      "Number of ransomware datapoints: 41413\n"
     ]
    }
   ],
   "source": [
    "print('Number of white (non-ransomware) datapoints: {}\\nNumber of ransomware datapoints: {}'\\\n",
    "      .format(data['label'].value_counts\n",
    "              ()[0], \n",
    "              sum(data['label'].value_counts()[1:])\n",
    "             ))"
   ]
  },
  {
   "cell_type": "code",
   "execution_count": 9,
   "id": "5b4529cb",
   "metadata": {},
   "outputs": [
    {
     "name": "stdout",
     "output_type": "stream",
     "text": [
      "Percentage of data-points belonging to ransomware class: 1.4198595191752863\n"
     ]
    }
   ],
   "source": [
    "print('Percentage of data-points belonging to ransomware class: {}'.format((sum(data['label'])\n",
    "                                                                            / len(data['label'])) * 100))"
   ]
  },
  {
   "cell_type": "code",
   "execution_count": 10,
   "id": "20934bcc",
   "metadata": {},
   "outputs": [
    {
     "data": {
      "text/plain": [
       "0    2875284\n",
       "1      41413\n",
       "Name: label, dtype: int64"
      ]
     },
     "execution_count": 10,
     "metadata": {},
     "output_type": "execute_result"
    }
   ],
   "source": [
    "data.label.value_counts()"
   ]
  },
  {
   "cell_type": "markdown",
   "id": "1fcd546b",
   "metadata": {},
   "source": [
    "#### We notes that the data is inbalance ..."
   ]
  },
  {
   "cell_type": "code",
   "execution_count": 11,
   "id": "f3021d02",
   "metadata": {},
   "outputs": [
    {
     "name": "stdout",
     "output_type": "stream",
     "text": [
      "\t Distribution of target variable with Imbalance data \n"
     ]
    },
    {
     "data": {
      "image/png": "[encoded data removed]",
      "text/plain": [
       "<Figure size 432x288 with 1 Axes>"
      ]
     },
     "metadata": {},
     "output_type": "display_data"
    },
    {
     "data": {
      "text/plain": [
       "<Figure size 1440x1440 with 0 Axes>"
      ]
     },
     "metadata": {},
     "output_type": "display_data"
    }
   ],
   "source": [
    "#code to print pie chart\n",
    "\n",
    "print('\\t Distribution of target variable with Imbalance data ')\n",
    "labels = ['White (0)', 'Ransomware (1)']\n",
    "sizes = [pd.Series(data.label).value_counts()[0], pd.Series(data.label).value_counts()[1]]\n",
    "explode = (0, 0.1)\n",
    "colors = ['#66b3ff','#ffcc99']\n",
    "fig1, ax1 = plt.subplots()\n",
    "ax1.pie(sizes, colors = colors, labels=labels, autopct='%1.1f%%', startangle=90)\n",
    "#draw circle\n",
    "centre_circle = plt.Circle((0,0),0.70,fc='white')\n",
    "fig = plt.gcf()\n",
    "fig.gca().add_artist(centre_circle)\n",
    "# Equal aspect ratio ensures that pie is drawn as a circle\n",
    "ax1.axis('equal')  \n",
    "plt.tight_layout()\n",
    "plt.show()\n",
    "plt.figure(figsize=(20,20))\n",
    "plt.savefig('Distribution of TV with Imbalance data.png', transparent=True, bbox_inches='tight')"
   ]
  },
  {
   "cell_type": "markdown",
   "id": "71c28aee",
   "metadata": {},
   "source": [
    "# handling Imbalance issue"
   ]
  },
  {
   "cell_type": "markdown",
   "id": "6e3adf40",
   "metadata": {},
   "source": [
    "####  1. Find Number of samples which are Ransomware"
   ]
  },
  {
   "cell_type": "code",
   "execution_count": 12,
   "id": "a540590e",
   "metadata": {},
   "outputs": [],
   "source": [
    "ransomware = len(data[data['label'] == 1])"
   ]
  },
  {
   "cell_type": "markdown",
   "id": "01cf39ed",
   "metadata": {},
   "source": [
    "#### 2. Get indices of non Ransomware samples"
   ]
  },
  {
   "cell_type": "code",
   "execution_count": 13,
   "id": "95fa5c1d",
   "metadata": {},
   "outputs": [],
   "source": [
    "non_ransomware_indices = data[data.label == 0].index"
   ]
  },
  {
   "cell_type": "markdown",
   "id": "8a2a37d7",
   "metadata": {},
   "source": [
    "#### 3. Random sample non Ransomware indices"
   ]
  },
  {
   "cell_type": "code",
   "execution_count": 14,
   "id": "4644f500",
   "metadata": {},
   "outputs": [],
   "source": [
    "random_indices = np.random.choice(non_ransomware_indices,ransomware, replace=False)"
   ]
  },
  {
   "cell_type": "markdown",
   "id": "e14fbcd6",
   "metadata": {},
   "source": [
    "#### 4. Find the indices of Ransomware samples"
   ]
  },
  {
   "cell_type": "code",
   "execution_count": 15,
   "id": "782a7129",
   "metadata": {},
   "outputs": [],
   "source": [
    "ransomware_indices = data[data.label == 1].index"
   ]
  },
  {
   "cell_type": "markdown",
   "id": "aa41146d",
   "metadata": {},
   "source": [
    "#### 5. Concat fraud indices with sample non-Ransomware ones"
   ]
  },
  {
   "cell_type": "code",
   "execution_count": 16,
   "id": "016793ea",
   "metadata": {},
   "outputs": [],
   "source": [
    "under_sample_indices = np.concatenate([ransomware_indices,random_indices])"
   ]
  },
  {
   "cell_type": "markdown",
   "id": "e0f244c8",
   "metadata": {},
   "source": [
    "#### 6. Get Balance Dataframe"
   ]
  },
  {
   "cell_type": "code",
   "execution_count": 17,
   "id": "e0203941",
   "metadata": {},
   "outputs": [],
   "source": [
    "under_sample = data.loc[under_sample_indices]"
   ]
  },
  {
   "cell_type": "code",
   "execution_count": 18,
   "id": "b3bc0ee2",
   "metadata": {},
   "outputs": [
    {
     "data": {
      "text/plain": [
       "0    41413\n",
       "1    41413\n",
       "Name: label, dtype: int64"
      ]
     },
     "execution_count": 18,
     "metadata": {},
     "output_type": "execute_result"
    }
   ],
   "source": [
    "under_sample.label.value_counts()"
   ]
  },
  {
   "cell_type": "code",
   "execution_count": 19,
   "id": "5e589380",
   "metadata": {},
   "outputs": [
    {
     "name": "stdout",
     "output_type": "stream",
     "text": [
      "\t Distribution of Target Variable with Balanced data\n"
     ]
    },
    {
     "data": {
      "image/png": "[encoded data removed]",
      "text/plain": [
       "<Figure size 432x288 with 1 Axes>"
      ]
     },
     "metadata": {},
     "output_type": "display_data"
    },
    {
     "data": {
      "text/plain": [
       "<Figure size 1440x1440 with 0 Axes>"
      ]
     },
     "metadata": {},
     "output_type": "display_data"
    }
   ],
   "source": [
    "#code to print pie chart\n",
    "\n",
    "print('\\t Distribution of Target Variable with Balanced data')\n",
    "labels = ['White (0)', 'Ransomware (1)']\n",
    "sizes = [pd.Series(under_sample.label).value_counts()[0], pd.Series(under_sample.label).value_counts()[1]]\n",
    "explode = (0, 0.1)\n",
    "colors = ['#66b3ff','#ffcc99']\n",
    "fig1, ax1 = plt.subplots()\n",
    "ax1.pie(sizes, colors = colors, labels=labels, autopct='%1.1f%%', startangle=90)\n",
    "#draw circle\n",
    "centre_circle = plt.Circle((0,0),0.70,fc='white')\n",
    "fig = plt.gcf()\n",
    "fig.gca().add_artist(centre_circle)\n",
    "# Equal aspect ratio ensures that pie is drawn as a circle\n",
    "ax1.axis('equal')  \n",
    "plt.tight_layout()\n",
    "plt.show()\n",
    "\n",
    "plt.figure(figsize=(20,20))\n",
    "plt.savefig('Distribution of TV with Balanced data.png', transparent=True, bbox_inches='tight')"
   ]
  },
  {
   "cell_type": "markdown",
   "id": "b844d052",
   "metadata": {},
   "source": [
    "## Baseline"
   ]
  },
  {
   "cell_type": "code",
   "execution_count": 53,
   "id": "744238d9",
   "metadata": {},
   "outputs": [],
   "source": [
    "from sklearn.preprocessing     import StandardScaler\n",
    "from sklearn.linear_model      import LogisticRegression\n",
    "from sklearn.model_selection   import train_test_split"
   ]
  },
  {
   "cell_type": "code",
   "execution_count": 48,
   "id": "d9ab8e46",
   "metadata": {},
   "outputs": [],
   "source": [
    "X = under_sample.drop('label',axis=1)\n",
    "y = under_sample.label\n",
    "\n",
    "to_be_dropped = ['address']\n",
    "X = X.drop(to_be_dropped, axis=1, errors='ignore')\n",
    "\n",
    "std_scale = StandardScaler()\n",
    "X_sc = std_scale.fit_transform(X) "
   ]
  },
  {
   "cell_type": "code",
   "execution_count": 49,
   "id": "9cbca551",
   "metadata": {},
   "outputs": [],
   "source": [
    "X_train, X_test, y_train, y_test = train_test_split(X_sc, y,test_size = 0.2, random_state=42)"
   ]
  },
  {
   "cell_type": "code",
   "execution_count": 50,
   "id": "f7b49626",
   "metadata": {},
   "outputs": [
    {
     "name": "stdout",
     "output_type": "stream",
     "text": [
      "The score for logistic regression is\n",
      "Training:  61.91%\n",
      "Test set:  61.35%\n"
     ]
    }
   ],
   "source": [
    "logit = LogisticRegression(C = 1000) # c=comblictiy , to deal with regularaization. , take c from gridsearch.\n",
    "logit.fit(X_train, y_train)\n",
    "print(\"The score for logistic regression is\")\n",
    "print(\"Training: {:6.2f}%\".format(100*logit.score(X_train, y_train)))\n",
    "print(\"Test set: {:6.2f}%\".format(100*logit.score(X_test, y_test)))"
   ]
  },
  {
   "cell_type": "code",
   "execution_count": 51,
   "id": "0bb731c2",
   "metadata": {},
   "outputs": [
    {
     "name": "stdout",
     "output_type": "stream",
     "text": [
      "confusion matrix: \n",
      "\n",
      " [[4271 4016]\n",
      " [2386 5893]]\n"
     ]
    }
   ],
   "source": [
    "print(\"confusion matrix: \\n\\n\", confusion_matrix(y_test, logit.predict(X_test)))"
   ]
  },
  {
   "cell_type": "code",
   "execution_count": 54,
   "id": "6756917e",
   "metadata": {},
   "outputs": [
    {
     "name": "stdout",
     "output_type": "stream",
     "text": [
      "Default threshold:\n",
      "Precision: 0.5947,   Recall: 0.7118\n"
     ]
    }
   ],
   "source": [
    "y_predict = logit.predict(X_test)\n",
    "\n",
    "print(\"Default threshold:\")\n",
    "print(\"Precision: {:6.4f},   Recall: {:6.4f}\".format(precision_score(y_test, y_predict), \n",
    "                                                     recall_score(y_test, y_predict)))"
   ]
  },
  {
   "cell_type": "code",
   "execution_count": 56,
   "id": "6a127019",
   "metadata": {},
   "outputs": [
    {
     "name": "stdout",
     "output_type": "stream",
     "text": [
      "F score:: 0.6480096767099186\n"
     ]
    }
   ],
   "source": [
    "y_predict=logit.predict(X_test)\n",
    "print(\"F score::\", f1_score(y_test,y_predict))"
   ]
  },
  {
   "cell_type": "markdown",
   "id": "f2803e55",
   "metadata": {},
   "source": [
    "## Feature  Distribution "
   ]
  },
  {
   "cell_type": "code",
   "execution_count": 57,
   "id": "583c9a83",
   "metadata": {},
   "outputs": [
    {
     "name": "stderr",
     "output_type": "stream",
     "text": [
      "C:\\Users\\user\\anaconda3\\lib\\site-packages\\seaborn\\distributions.py:2557: FutureWarning: `distplot` is a deprecated function and will be removed in a future version. Please adapt your code to use either `displot` (a figure-level function with similar flexibility) or `histplot` (an axes-level function for histograms).\n",
      "  warnings.warn(msg, FutureWarning)\n",
      "C:\\Users\\user\\anaconda3\\lib\\site-packages\\seaborn\\distributions.py:2557: FutureWarning: `distplot` is a deprecated function and will be removed in a future version. Please adapt your code to use either `displot` (a figure-level function with similar flexibility) or `histplot` (an axes-level function for histograms).\n",
      "  warnings.warn(msg, FutureWarning)\n",
      "C:\\Users\\user\\anaconda3\\lib\\site-packages\\seaborn\\distributions.py:2557: FutureWarning: `distplot` is a deprecated function and will be removed in a future version. Please adapt your code to use either `displot` (a figure-level function with similar flexibility) or `histplot` (an axes-level function for histograms).\n",
      "  warnings.warn(msg, FutureWarning)\n",
      "C:\\Users\\user\\anaconda3\\lib\\site-packages\\seaborn\\distributions.py:2557: FutureWarning: `distplot` is a deprecated function and will be removed in a future version. Please adapt your code to use either `displot` (a figure-level function with similar flexibility) or `histplot` (an axes-level function for histograms).\n",
      "  warnings.warn(msg, FutureWarning)\n",
      "C:\\Users\\user\\anaconda3\\lib\\site-packages\\seaborn\\distributions.py:2557: FutureWarning: `distplot` is a deprecated function and will be removed in a future version. Please adapt your code to use either `displot` (a figure-level function with similar flexibility) or `histplot` (an axes-level function for histograms).\n",
      "  warnings.warn(msg, FutureWarning)\n",
      "C:\\Users\\user\\anaconda3\\lib\\site-packages\\seaborn\\distributions.py:2557: FutureWarning: `distplot` is a deprecated function and will be removed in a future version. Please adapt your code to use either `displot` (a figure-level function with similar flexibility) or `histplot` (an axes-level function for histograms).\n",
      "  warnings.warn(msg, FutureWarning)\n",
      "C:\\Users\\user\\anaconda3\\lib\\site-packages\\seaborn\\distributions.py:2557: FutureWarning: `distplot` is a deprecated function and will be removed in a future version. Please adapt your code to use either `displot` (a figure-level function with similar flexibility) or `histplot` (an axes-level function for histograms).\n",
      "  warnings.warn(msg, FutureWarning)\n"
     ]
    },
    {
     "data": {
      "text/plain": [
       "(30000000.0, 35241663711300.0)"
      ]
     },
     "execution_count": 57,
     "metadata": {},
     "output_type": "execute_result"
    },
    {
     "data": {
      "image/png": "[encoded data removed]",
      "text/plain": [
       "<Figure size 1152x1152 with 7 Axes>"
      ]
     },
     "metadata": {
      "needs_background": "light"
     },
     "output_type": "display_data"
    }
   ],
   "source": [
    "# distplot to show how the data is distributed.\n",
    "\n",
    "fig, ax = plt.subplots(7, 1,figsize=(16,16))\n",
    "fig.tight_layout()\n",
    "\n",
    "day_val       = under_sample.day.values\n",
    "length_val    = under_sample.length.values\n",
    "weight_val    = under_sample.weight.values\n",
    "counted_val   = under_sample.counted.values\n",
    "looped_val    = under_sample.looped.values\n",
    "neighbors_val = under_sample.neighbors.values\n",
    "income_val    = under_sample.income.values\n",
    "\n",
    "sns.distplot(day_val, ax=ax[0],color='red')\n",
    "ax[0].set_title('Distribution of Day', fontsize=14)\n",
    "ax[0].set_xlim([min(day_val), max(day_val)])\n",
    "\n",
    "sns.distplot(length_val, ax=ax[1],color='orange')\n",
    "ax[1].set_title('Distribution of Length', fontsize=14)\n",
    "ax[1].set_xlim([min(length_val), max(length_val)])\n",
    "\n",
    "sns.distplot(weight_val, ax=ax[2],color='yellow')\n",
    "ax[2].set_title('Distribution of Weight', fontsize=14)\n",
    "ax[2].set_xlim([min(weight_val), max(weight_val)])\n",
    "\n",
    "sns.distplot(counted_val, ax=ax[3],color='green')\n",
    "ax[3].set_title('Distribution of Counted', fontsize=14)\n",
    "ax[3].set_xlim([min(counted_val), max(counted_val)])\n",
    "\n",
    "sns.distplot(looped_val, ax=ax[4],color='blue')\n",
    "ax[4].set_title('Distribution of Looped', fontsize=14)\n",
    "ax[4].set_xlim([min(looped_val), max(looped_val)])\n",
    "\n",
    "sns.distplot(neighbors_val, ax=ax[5],color='indigo')\n",
    "ax[5].set_title('Distribution of Neighbors', fontsize=14)\n",
    "ax[5].set_xlim([min(neighbors_val), max(neighbors_val)])\n",
    "\n",
    "sns.distplot(income_val, ax=ax[6],color='purple')\n",
    "ax[6].set_title('Distribution of Income', fontsize=14)\n",
    "ax[6].set_xlim([min(income_val), max(income_val)])"
   ]
  },
  {
   "cell_type": "markdown",
   "id": "fb57d3e5",
   "metadata": {},
   "source": [
    "Since the data is not in normal distribution, we will perform the Box-Cox transformation to transforms our data so that it closely resembles a normal distribution.\n",
    "you will see later how the Box-Cox you change the distribution."
   ]
  },
  {
   "cell_type": "markdown",
   "id": "9d064573",
   "metadata": {},
   "source": [
    "# Feature engineering"
   ]
  },
  {
   "cell_type": "markdown",
   "id": "aa088e78",
   "metadata": {},
   "source": [
    "Extract features from raw data via data mining techniques,  \n",
    "these features can be used to improve the performance of machine learning algorithms."
   ]
  },
  {
   "cell_type": "markdown",
   "id": "a10c158e",
   "metadata": {},
   "source": [
    "### 1. n_address_feature"
   ]
  },
  {
   "cell_type": "markdown",
   "id": "073aac66",
   "metadata": {},
   "source": [
    "The feature contains the number of times the address has been seen in the data set  \n",
    "(boxcox transformation applied)"
   ]
  },
  {
   "cell_type": "code",
   "execution_count": 59,
   "id": "68601453",
   "metadata": {},
   "outputs": [
    {
     "data": {
      "text/plain": [
       "1LXrSb67EaH1LGc6d6kWHq8rgv4ZBQAcpU    420\n",
       "16cVG72goMe4sNqZhnpmnqfCMZ1uSFbUit    261\n",
       "12wQZTDmA8onM3sEt4jwcvzDxnNXxD8Vza    207\n",
       "12YursV58dRT2c9iuZg3jEWfwgTDamBcnd    183\n",
       "1LEq4WmpCrqBd7V3PywE2nvFUFC3QTe52x    176\n",
       "                                     ... \n",
       "1PSvCh729M3s6EaTLc6kJ6dqz1VasMu4bq      1\n",
       "15K2JQyKhneyAeoRbzDoepgAiM6PYL3agM      1\n",
       "1Goj48wby2Uw67Y5VTCPX83VrpqntTURLX      1\n",
       "1rg66dMstnubmx8Bqg9PZhWo7AXKowr68       1\n",
       "16eKD7usxsjzkJ8Pdr6VNsdHpPYbCw7qAt      1\n",
       "Name: address, Length: 61926, dtype: int64"
      ]
     },
     "execution_count": 59,
     "metadata": {},
     "output_type": "execute_result"
    }
   ],
   "source": [
    "under_sample['address'].value_counts()"
   ]
  },
  {
   "cell_type": "code",
   "execution_count": 60,
   "id": "145a8cc5",
   "metadata": {},
   "outputs": [],
   "source": [
    "n_addresses = list(under_sample['address'].value_counts())"
   ]
  },
  {
   "cell_type": "code",
   "execution_count": 61,
   "id": "2e690b3d",
   "metadata": {},
   "outputs": [
    {
     "name": "stdout",
     "output_type": "stream",
     "text": [
      "An address is repeated an average of 1.3374995962923488 number of times\n"
     ]
    }
   ],
   "source": [
    "print('An address is repeated an average of {} number of times'.format(np.mean(n_addresses)))"
   ]
  },
  {
   "cell_type": "code",
   "execution_count": 62,
   "id": "435374ab",
   "metadata": {},
   "outputs": [
    {
     "name": "stderr",
     "output_type": "stream",
     "text": [
      "C:\\Users\\user\\anaconda3\\lib\\site-packages\\seaborn\\distributions.py:2557: FutureWarning: `distplot` is a deprecated function and will be removed in a future version. Please adapt your code to use either `displot` (a figure-level function with similar flexibility) or `histplot` (an axes-level function for histograms).\n",
      "  warnings.warn(msg, FutureWarning)\n"
     ]
    },
    {
     "data": {
      "image/png": "[encoded data removed]",
      "text/plain": [
       "<Figure size 432x288 with 1 Axes>"
      ]
     },
     "metadata": {
      "needs_background": "light"
     },
     "output_type": "display_data"
    }
   ],
   "source": [
    "#plot to print distribution of n_addresses\n",
    "\n",
    "plt.title('Distribution plot of n_addresses')\n",
    "sns.distplot(n_addresses)\n",
    "plt.xlabel('n_addresses')\n",
    "plt.ylabel('PDF')\n",
    "plt.show()"
   ]
  },
  {
   "cell_type": "code",
   "execution_count": 63,
   "id": "3913e4a7",
   "metadata": {},
   "outputs": [],
   "source": [
    "dict_n_address = dict(under_sample['address'].value_counts())\n",
    "#dict_n_address contains a dictionary of addresses and the number of times they appear in data set\n",
    "\n",
    "n_address = boxcox(np.array(list(dict_n_address.values())))[0]\n",
    "#Applying boxcox over all the number of times each address apears"
   ]
  },
  {
   "cell_type": "code",
   "execution_count": 64,
   "id": "4b0cb387",
   "metadata": {},
   "outputs": [
    {
     "name": "stderr",
     "output_type": "stream",
     "text": [
      "C:\\Users\\user\\anaconda3\\lib\\site-packages\\seaborn\\distributions.py:2557: FutureWarning: `distplot` is a deprecated function and will be removed in a future version. Please adapt your code to use either `displot` (a figure-level function with similar flexibility) or `histplot` (an axes-level function for histograms).\n",
      "  warnings.warn(msg, FutureWarning)\n"
     ]
    },
    {
     "data": {
      "image/png": "[encoded data removed]",
      "text/plain": [
       "<Figure size 432x288 with 1 Axes>"
      ]
     },
     "metadata": {
      "needs_background": "light"
     },
     "output_type": "display_data"
    }
   ],
   "source": [
    "sns.distplot(n_address)\n",
    "plt.title('Distribution of boxcox of number of times each address appears in data set')\n",
    "plt.show()"
   ]
  },
  {
   "cell_type": "code",
   "execution_count": 65,
   "id": "b210c9ba",
   "metadata": {},
   "outputs": [
    {
     "data": {
      "text/plain": [
       "True"
      ]
     },
     "execution_count": 65,
     "metadata": {},
     "output_type": "execute_result"
    }
   ],
   "source": [
    "len(n_address) == len(np.array(list(dict_n_address.values()))) #just a sanity check"
   ]
  },
  {
   "cell_type": "code",
   "execution_count": 66,
   "id": "c3c60c8b",
   "metadata": {},
   "outputs": [
    {
     "data": {
      "application/vnd.jupyter.widget-view+json": {
       "model_id": "9c511d58581c473691509de6d5173412",
       "version_major": 2,
       "version_minor": 0
      },
      "text/plain": [
       "0it [00:00, ?it/s]"
      ]
     },
     "metadata": {},
     "output_type": "display_data"
    }
   ],
   "source": [
    "for index, key in tqdm(enumerate(dict_n_address.keys())):\n",
    "    #We are updating the dictionary with number of times each address appears with\n",
    "    #the boxcox transformation applied to fix the skewness\n",
    "    updated = {key: n_address[index]}\n",
    "    dict_n_address.update(updated)"
   ]
  },
  {
   "cell_type": "code",
   "execution_count": 67,
   "id": "d9f1c26a",
   "metadata": {},
   "outputs": [
    {
     "data": {
      "text/plain": [
       "0.000000    59075\n",
       "0.069118     1069\n",
       "0.069121      431\n",
       "0.069121      406\n",
       "0.069121      219\n",
       "0.069121      188\n",
       "0.069121      149\n",
       "0.069121      107\n",
       "0.069121       73\n",
       "0.069121       73\n",
       "0.069121       54\n",
       "0.069121       48\n",
       "0.069121       34\n",
       "dtype: int64"
      ]
     },
     "execution_count": 67,
     "metadata": {},
     "output_type": "execute_result"
    }
   ],
   "source": [
    "pd.Series(list(dict_n_address.values())).value_counts()"
   ]
  },
  {
   "cell_type": "code",
   "execution_count": 69,
   "id": "6c445305",
   "metadata": {},
   "outputs": [
    {
     "data": {
      "application/vnd.jupyter.widget-view+json": {
       "model_id": "753fd59a7cb74ec78d9bec12a95c0d1e",
       "version_major": 2,
       "version_minor": 0
      },
      "text/plain": [
       "  0%|          | 0/82826 [00:00<?, ?it/s]"
      ]
     },
     "metadata": {},
     "output_type": "display_data"
    }
   ],
   "source": [
    "n_address_feature = np.array([])\n",
    "\n",
    "for index, row in tqdm(under_sample.iterrows(), total=under_sample.shape[0]):\n",
    "    #We are getting a list of the new values\n",
    "    #For each address in the data set we are appending its corresponding boxcox'd\n",
    "    #number of times its appeared in data set\n",
    "\n",
    "    n_address_i = dict_n_address.get(under_sample.loc[index]['address']) \n",
    "    n_address_feature= np.append(n_address_feature, n_address_i)"
   ]
  },
  {
   "cell_type": "markdown",
   "id": "2513cb5e",
   "metadata": {},
   "source": [
    "### 2. quarter_number"
   ]
  },
  {
   "cell_type": "markdown",
   "id": "28f11546",
   "metadata": {},
   "source": [
    "Feature indicates which quarter of the year the day number belongs to."
   ]
  },
  {
   "cell_type": "code",
   "execution_count": 70,
   "id": "3ecf9197",
   "metadata": {},
   "outputs": [],
   "source": [
    "def get_quarter(day):\n",
    "    if day <= 91:\n",
    "        #First 3 months, so we return quarter number = 1\n",
    "        return 1\n",
    "    elif day <= 91 * 2:\n",
    "        #Next 3 months, quarter number = 2\n",
    "        return 2\n",
    "    elif day <= 91 * 3:\n",
    "        #Next 3 months, quarter number = 3\n",
    "        return 3\n",
    "    else:\n",
    "        #Last 4 months, quarter nubmer = 4\n",
    "        return 4"
   ]
  },
  {
   "cell_type": "code",
   "execution_count": 71,
   "id": "dac83ab7",
   "metadata": {},
   "outputs": [
    {
     "data": {
      "application/vnd.jupyter.widget-view+json": {
       "model_id": "78e56b460d7c4ab68c456785d8281601",
       "version_major": 2,
       "version_minor": 0
      },
      "text/plain": [
       "  0%|          | 0/82826 [00:00<?, ?it/s]"
      ]
     },
     "metadata": {},
     "output_type": "display_data"
    }
   ],
   "source": [
    "quarter_number_feature = np.array([])\n",
    "day_train = under_sample['day']\n",
    "\n",
    "for day in tqdm(day_train):\n",
    "    #For each day, we append its correspoding quarter number\n",
    "\n",
    "    quarter_number_feature = np.append(quarter_number_feature, get_quarter(day))"
   ]
  },
  {
   "cell_type": "markdown",
   "id": "ca883ce2",
   "metadata": {},
   "source": [
    "### 3. is_close_to_holiday"
   ]
  },
  {
   "cell_type": "markdown",
   "id": "3b89af35",
   "metadata": {},
   "source": [
    "Feature indicates if the day number was close to a major public holiday in America."
   ]
  },
  {
   "cell_type": "code",
   "execution_count": 72,
   "id": "6bf286ef",
   "metadata": {},
   "outputs": [],
   "source": [
    "public_holidays = [\n",
    "    1, #New Year’s Day, January 1\n",
    "    15, #Birthday of Martin Luther King, Jr, 15 January\n",
    "    53, #Washington's birthday February 22\n",
    "    151, #Memorial day, May 31\n",
    "    185, #Independence day, July 4\n",
    "    121, #Labor day, May 1\n",
    "    285, #Columbus day, October 12\n",
    "    315, #Veteran's day, November 11\n",
    "    330, #Thanksgiving day, November 26\n",
    "    360, #Christmas day, December 25\n",
    "]"
   ]
  },
  {
   "cell_type": "code",
   "execution_count": 73,
   "id": "138c1aac",
   "metadata": {},
   "outputs": [],
   "source": [
    "def is_close(holiday, day):\n",
    "    #if the day is within 1 week leading upto the holiday or after the holiday return True\n",
    "    if np.abs(holiday - day) > 7:\n",
    "        return 0\n",
    "    return 1"
   ]
  },
  {
   "cell_type": "code",
   "execution_count": 74,
   "id": "6a55b9c6",
   "metadata": {},
   "outputs": [
    {
     "data": {
      "application/vnd.jupyter.widget-view+json": {
       "model_id": "2bc6bd571937419980beff9c67ce590a",
       "version_major": 2,
       "version_minor": 0
      },
      "text/plain": [
       "0it [00:00, ?it/s]"
      ]
     },
     "metadata": {},
     "output_type": "display_data"
    }
   ],
   "source": [
    "is_close_to_holiday = np.array([], dtype=int)\n",
    "for index, day in tqdm(enumerate(under_sample['day'])):\n",
    "    #For each day, we check if its close to any major holiday; if so, we append 1 else 0\n",
    "\n",
    "    is_close_to_holiday = np.append(is_close_to_holiday, any([is_close(holiday, day) for holiday in public_holidays]))"
   ]
  },
  {
   "cell_type": "markdown",
   "id": "070dfcb4",
   "metadata": {},
   "source": [
    "### 4. day_of_the_week"
   ]
  },
  {
   "cell_type": "markdown",
   "id": "f067f4b2",
   "metadata": {},
   "source": [
    "Feature indicates the number of the weekday (for eg: 0 for Monday and 6 for Sunday).  \n",
    "The hypothesis is that the day of the week might correlate with the nature of the transaction."
   ]
  },
  {
   "cell_type": "code",
   "execution_count": 75,
   "id": "a2494f18",
   "metadata": {},
   "outputs": [],
   "source": [
    "def get_day_number(first_day, day_i):\n",
    "    #return day number (0 for monday, 6 for sunday) for day_i\n",
    "    return (first_day + day_i - 1) % 7"
   ]
  },
  {
   "cell_type": "code",
   "execution_count": 76,
   "id": "7483d5b4",
   "metadata": {},
   "outputs": [
    {
     "data": {
      "application/vnd.jupyter.widget-view+json": {
       "model_id": "91bcec33e56a40fd87f407d22874bcd7",
       "version_major": 2,
       "version_minor": 0
      },
      "text/plain": [
       "0it [00:00, ?it/s]"
      ]
     },
     "metadata": {},
     "output_type": "display_data"
    }
   ],
   "source": [
    "day_of_week = np.array([])\n",
    "for index, row in tqdm(under_sample.iterrows()):\n",
    "    #For each data-point, we consider its year and day and calculate what day of the week (Monday, Tuesday, etc)\n",
    "    #it was when the transaction happened\n",
    "    \n",
    "    #datetime.datetime(year, 1, 1).weekday() returns the first day of the year in the year = year\n",
    "    #using this information, we can calculate the present day\n",
    "\n",
    "    year_i, day_i = row['year'], row['day']\n",
    "    day_of_week = np.append(day_of_week, get_day_number(datetime.datetime(year_i, 1, 1).weekday(), day_i))"
   ]
  },
  {
   "cell_type": "markdown",
   "id": "23ee7fe9",
   "metadata": {},
   "source": [
    "### 5. gaussian_length"
   ]
  },
  {
   "cell_type": "code",
   "execution_count": 78,
   "id": "c068a199",
   "metadata": {},
   "outputs": [
    {
     "name": "stderr",
     "output_type": "stream",
     "text": [
      "C:\\Users\\user\\anaconda3\\lib\\site-packages\\seaborn\\distributions.py:2557: FutureWarning: `distplot` is a deprecated function and will be removed in a future version. Please adapt your code to use either `displot` (a figure-level function with similar flexibility) or `histplot` (an axes-level function for histograms).\n",
      "  warnings.warn(msg, FutureWarning)\n"
     ]
    },
    {
     "data": {
      "text/plain": [
       "[]"
      ]
     },
     "execution_count": 78,
     "metadata": {},
     "output_type": "execute_result"
    },
    {
     "data": {
      "image/png": "[encoded data removed]",
      "text/plain": [
       "<Figure size 432x288 with 1 Axes>"
      ]
     },
     "metadata": {
      "needs_background": "light"
     },
     "output_type": "display_data"
    }
   ],
   "source": [
    "# Looking at its distribution\n",
    "\n",
    "sns.distplot(under_sample['length'])\n",
    "plt.title('Distribution of length')\n",
    "plt.plot()"
   ]
  },
  {
   "cell_type": "markdown",
   "id": "0cad7070",
   "metadata": {},
   "source": [
    "Feature tries to fix the skewness of the length variable.   \n",
    "This is done by applying complex functions over the length feature and then performing a boxcox operation on it."
   ]
  },
  {
   "cell_type": "code",
   "execution_count": 79,
   "id": "8b100174",
   "metadata": {},
   "outputs": [
    {
     "name": "stderr",
     "output_type": "stream",
     "text": [
      "C:\\Users\\user\\anaconda3\\lib\\site-packages\\seaborn\\distributions.py:2557: FutureWarning: `distplot` is a deprecated function and will be removed in a future version. Please adapt your code to use either `displot` (a figure-level function with similar flexibility) or `histplot` (an axes-level function for histograms).\n",
      "  warnings.warn(msg, FutureWarning)\n"
     ]
    },
    {
     "data": {
      "image/png": "[encoded data removed]",
      "text/plain": [
       "<Figure size 432x288 with 1 Axes>"
      ]
     },
     "metadata": {
      "needs_background": "light"
     },
     "output_type": "display_data"
    }
   ],
   "source": [
    "# applying box-cox transformation\n",
    "\n",
    "sns.distplot(boxcox(np.array(under_sample['length']) + 1e-6)[0])\n",
    "plt.title('Distribution of boxcox transformation over length')\n",
    "plt.show()"
   ]
  },
  {
   "cell_type": "code",
   "execution_count": 80,
   "id": "ae0492b3",
   "metadata": {},
   "outputs": [
    {
     "name": "stderr",
     "output_type": "stream",
     "text": [
      "C:\\Users\\user\\anaconda3\\lib\\site-packages\\seaborn\\distributions.py:2557: FutureWarning: `distplot` is a deprecated function and will be removed in a future version. Please adapt your code to use either `displot` (a figure-level function with similar flexibility) or `histplot` (an axes-level function for histograms).\n",
      "  warnings.warn(msg, FutureWarning)\n"
     ]
    },
    {
     "data": {
      "image/png": "[encoded data removed]",
      "text/plain": [
       "<Figure size 432x288 with 1 Axes>"
      ]
     },
     "metadata": {
      "needs_background": "light"
     },
     "output_type": "display_data"
    }
   ],
   "source": [
    "#We can see a sort of 'cyclic' waveform in the above graph. it appears that we have an\n",
    "#alternating pattern of high and low values. maybe sin transform might help?\n",
    "\n",
    "sns.distplot(boxcox((np.sin(np.log(np.sqrt(np.array(under_sample['length']) + 1e-6)))) ** 2)[0])\n",
    "plt.title('Trignometric and Transcendental functions on length ')\n",
    "plt.show()"
   ]
  },
  {
   "cell_type": "markdown",
   "id": "8c79e225",
   "metadata": {},
   "source": [
    "These transformations make the distribution more gaussian and thus, will help during modelling."
   ]
  },
  {
   "cell_type": "code",
   "execution_count": 82,
   "id": "8f8d75f8",
   "metadata": {},
   "outputs": [],
   "source": [
    "gaussian_length = boxcox((np.sin(np.log(np.sqrt(np.array(under_sample['length']) + 1e-6)))) ** 2)[0]"
   ]
  },
  {
   "cell_type": "markdown",
   "id": "982cb3ca",
   "metadata": {},
   "source": [
    "### 6. gaussian_weight"
   ]
  },
  {
   "cell_type": "code",
   "execution_count": 83,
   "id": "cfacfd29",
   "metadata": {},
   "outputs": [
    {
     "name": "stderr",
     "output_type": "stream",
     "text": [
      "C:\\Users\\user\\anaconda3\\lib\\site-packages\\seaborn\\distributions.py:2557: FutureWarning: `distplot` is a deprecated function and will be removed in a future version. Please adapt your code to use either `displot` (a figure-level function with similar flexibility) or `histplot` (an axes-level function for histograms).\n",
      "  warnings.warn(msg, FutureWarning)\n"
     ]
    },
    {
     "data": {
      "image/png": "[encoded data removed]",
      "text/plain": [
       "<Figure size 432x288 with 1 Axes>"
      ]
     },
     "metadata": {
      "needs_background": "light"
     },
     "output_type": "display_data"
    }
   ],
   "source": [
    "# Looking at its distribution\n",
    "\n",
    "sns.distplot(under_sample['weight'])\n",
    "plt.title('Distribution of weight')\n",
    "plt.show()"
   ]
  },
  {
   "cell_type": "markdown",
   "id": "b874113b",
   "metadata": {},
   "source": [
    "Feature corrects for the skewedness in weight."
   ]
  },
  {
   "cell_type": "code",
   "execution_count": 84,
   "id": "de128ae4",
   "metadata": {},
   "outputs": [
    {
     "name": "stderr",
     "output_type": "stream",
     "text": [
      "C:\\Users\\user\\anaconda3\\lib\\site-packages\\numpy\\core\\_methods.py:232: RuntimeWarning: overflow encountered in multiply\n",
      "  x = um.multiply(x, x, out=x)\n",
      "C:\\Users\\user\\anaconda3\\lib\\site-packages\\seaborn\\distributions.py:2557: FutureWarning: `distplot` is a deprecated function and will be removed in a future version. Please adapt your code to use either `displot` (a figure-level function with similar flexibility) or `histplot` (an axes-level function for histograms).\n",
      "  warnings.warn(msg, FutureWarning)\n"
     ]
    },
    {
     "data": {
      "image/png": "[encoded data removed]",
      "text/plain": [
       "<Figure size 432x288 with 1 Axes>"
      ]
     },
     "metadata": {
      "needs_background": "light"
     },
     "output_type": "display_data"
    }
   ],
   "source": [
    "sns.distplot(boxcox(np.array(under_sample['weight'], dtype= float))[0])\n",
    "plt.title('Boxcox transformation of weight')\n",
    "plt.show()"
   ]
  },
  {
   "cell_type": "code",
   "execution_count": 85,
   "id": "ca2d4ef7",
   "metadata": {},
   "outputs": [
    {
     "name": "stderr",
     "output_type": "stream",
     "text": [
      "C:\\Users\\user\\anaconda3\\lib\\site-packages\\numpy\\core\\_methods.py:232: RuntimeWarning: overflow encountered in multiply\n",
      "  x = um.multiply(x, x, out=x)\n"
     ]
    }
   ],
   "source": [
    "#Apply boxcox transform on weight\n",
    "gaussian_weight = np.array(boxcox(np.array(under_sample['weight'],  dtype=float))[0])"
   ]
  },
  {
   "cell_type": "markdown",
   "id": "2b861322",
   "metadata": {},
   "source": [
    "### 7. log_counted"
   ]
  },
  {
   "cell_type": "code",
   "execution_count": 86,
   "id": "18ef5d56",
   "metadata": {},
   "outputs": [
    {
     "name": "stderr",
     "output_type": "stream",
     "text": [
      "C:\\Users\\user\\anaconda3\\lib\\site-packages\\seaborn\\distributions.py:2557: FutureWarning: `distplot` is a deprecated function and will be removed in a future version. Please adapt your code to use either `displot` (a figure-level function with similar flexibility) or `histplot` (an axes-level function for histograms).\n",
      "  warnings.warn(msg, FutureWarning)\n"
     ]
    },
    {
     "data": {
      "image/png": "[encoded data removed]",
      "text/plain": [
       "<Figure size 432x288 with 1 Axes>"
      ]
     },
     "metadata": {
      "needs_background": "light"
     },
     "output_type": "display_data"
    }
   ],
   "source": [
    "# Looking at its distribution\n",
    "\n",
    "sns.distplot(under_sample['counted'])\n",
    "plt.title('Distribution of counted')\n",
    "plt.show()"
   ]
  },
  {
   "cell_type": "markdown",
   "id": "d2e241eb",
   "metadata": {},
   "source": [
    "Performing log-transformation to fix skewedness."
   ]
  },
  {
   "cell_type": "code",
   "execution_count": 87,
   "id": "1d9cbb1c",
   "metadata": {},
   "outputs": [
    {
     "name": "stderr",
     "output_type": "stream",
     "text": [
      "C:\\Users\\user\\anaconda3\\lib\\site-packages\\seaborn\\distributions.py:2557: FutureWarning: `distplot` is a deprecated function and will be removed in a future version. Please adapt your code to use either `displot` (a figure-level function with similar flexibility) or `histplot` (an axes-level function for histograms).\n",
      "  warnings.warn(msg, FutureWarning)\n"
     ]
    },
    {
     "data": {
      "image/png": "[encoded data removed]",
      "text/plain": [
       "<Figure size 432x288 with 1 Axes>"
      ]
     },
     "metadata": {
      "needs_background": "light"
     },
     "output_type": "display_data"
    }
   ],
   "source": [
    "sns.distplot(np.log(np.array(under_sample['counted']) + 1e-6))\n",
    "plt.title('Log transform of counted')\n",
    "plt.show()"
   ]
  },
  {
   "cell_type": "markdown",
   "id": "8dd249cb",
   "metadata": {},
   "source": [
    "While performing log to get a normal-distribution still gives us a skewed distribution, \n",
    "it is certainly better than the vanilla feature."
   ]
  },
  {
   "cell_type": "code",
   "execution_count": 89,
   "id": "8cbb99ad",
   "metadata": {},
   "outputs": [],
   "source": [
    "#apply log-transform on counted column\n",
    "\n",
    "log_count = np.log(np.array(under_sample['counted']) + 1e-6)"
   ]
  },
  {
   "cell_type": "markdown",
   "id": "20cad26d",
   "metadata": {},
   "source": [
    "### 8. sigmoid_looped"
   ]
  },
  {
   "cell_type": "code",
   "execution_count": 90,
   "id": "0aa8914e",
   "metadata": {},
   "outputs": [
    {
     "name": "stderr",
     "output_type": "stream",
     "text": [
      "C:\\Users\\user\\anaconda3\\lib\\site-packages\\seaborn\\distributions.py:2557: FutureWarning: `distplot` is a deprecated function and will be removed in a future version. Please adapt your code to use either `displot` (a figure-level function with similar flexibility) or `histplot` (an axes-level function for histograms).\n",
      "  warnings.warn(msg, FutureWarning)\n"
     ]
    },
    {
     "data": {
      "image/png": "[encoded data removed]",
      "text/plain": [
       "<Figure size 432x288 with 1 Axes>"
      ]
     },
     "metadata": {
      "needs_background": "light"
     },
     "output_type": "display_data"
    }
   ],
   "source": [
    "# Looking at its distribution\n",
    "\n",
    "sns.distplot(under_sample['looped'])\n",
    "plt.title('Distribution of looped')\n",
    "plt.show()"
   ]
  },
  {
   "cell_type": "markdown",
   "id": "53e7ff6d",
   "metadata": {},
   "source": [
    "Performing sigmoid operation to fix skewedness."
   ]
  },
  {
   "cell_type": "code",
   "execution_count": 91,
   "id": "d7660531",
   "metadata": {},
   "outputs": [],
   "source": [
    "def sigmoid(x):\n",
    "    #returns the logistic function of x\n",
    "    \n",
    "    return 1 / (1 + np.exp(-x))"
   ]
  },
  {
   "cell_type": "code",
   "execution_count": 92,
   "id": "4330c7cd",
   "metadata": {},
   "outputs": [
    {
     "name": "stderr",
     "output_type": "stream",
     "text": [
      "C:\\Users\\user\\anaconda3\\lib\\site-packages\\seaborn\\distributions.py:2557: FutureWarning: `distplot` is a deprecated function and will be removed in a future version. Please adapt your code to use either `displot` (a figure-level function with similar flexibility) or `histplot` (an axes-level function for histograms).\n",
      "  warnings.warn(msg, FutureWarning)\n"
     ]
    },
    {
     "data": {
      "image/png": "[encoded data removed]",
      "text/plain": [
       "<Figure size 432x288 with 1 Axes>"
      ]
     },
     "metadata": {
      "needs_background": "light"
     },
     "output_type": "display_data"
    }
   ],
   "source": [
    "sns.distplot(sigmoid(np.array(under_sample['looped'])))\n",
    "plt.title('Sigmoid of looped')\n",
    "plt.show()"
   ]
  },
  {
   "cell_type": "markdown",
   "id": "1b0212c3",
   "metadata": {},
   "source": [
    "Sigmoidal transformation gives the models a better distribution to work with."
   ]
  },
  {
   "cell_type": "code",
   "execution_count": 93,
   "id": "6d80c106",
   "metadata": {},
   "outputs": [],
   "source": [
    "#Applying logistic function on each element of looped\n",
    "\n",
    "sigmoid_looped = sigmoid(np.array(under_sample['looped']))"
   ]
  },
  {
   "cell_type": "markdown",
   "id": "8b788ad2",
   "metadata": {},
   "source": [
    "### 9. gaussian_neighbors"
   ]
  },
  {
   "cell_type": "code",
   "execution_count": 94,
   "id": "2cec5621",
   "metadata": {},
   "outputs": [
    {
     "name": "stderr",
     "output_type": "stream",
     "text": [
      "C:\\Users\\user\\anaconda3\\lib\\site-packages\\seaborn\\distributions.py:2557: FutureWarning: `distplot` is a deprecated function and will be removed in a future version. Please adapt your code to use either `displot` (a figure-level function with similar flexibility) or `histplot` (an axes-level function for histograms).\n",
      "  warnings.warn(msg, FutureWarning)\n"
     ]
    },
    {
     "data": {
      "image/png": "[encoded data removed]",
      "text/plain": [
       "<Figure size 432x288 with 1 Axes>"
      ]
     },
     "metadata": {
      "needs_background": "light"
     },
     "output_type": "display_data"
    }
   ],
   "source": [
    "# Looking at its distribution\n",
    "\n",
    "sns.distplot(under_sample['neighbors'])\n",
    "plt.title('Distribution of neighbors')\n",
    "plt.show()"
   ]
  },
  {
   "cell_type": "markdown",
   "id": "670d56aa",
   "metadata": {},
   "source": [
    "Feature tries to account for the extreme skewedness of neighbors by applying boxcox transformation."
   ]
  },
  {
   "cell_type": "code",
   "execution_count": 96,
   "id": "cdcb2b0a",
   "metadata": {},
   "outputs": [
    {
     "name": "stderr",
     "output_type": "stream",
     "text": [
      "C:\\Users\\user\\anaconda3\\lib\\site-packages\\seaborn\\distributions.py:2557: FutureWarning: `distplot` is a deprecated function and will be removed in a future version. Please adapt your code to use either `displot` (a figure-level function with similar flexibility) or `histplot` (an axes-level function for histograms).\n",
      "  warnings.warn(msg, FutureWarning)\n"
     ]
    },
    {
     "data": {
      "image/png": "[encoded data removed]",
      "text/plain": [
       "<Figure size 432x288 with 1 Axes>"
      ]
     },
     "metadata": {
      "needs_background": "light"
     },
     "output_type": "display_data"
    }
   ],
   "source": [
    "sns.distplot(boxcox(np.array(under_sample['neighbors']) + 1e-6)[0])\n",
    "plt.title('Boxcox of neighbors')\n",
    "plt.show()"
   ]
  },
  {
   "cell_type": "markdown",
   "id": "0b5fc2bb",
   "metadata": {},
   "source": [
    "Boxcox transformation over Neighbors gives us a slighly more gaussian distribution."
   ]
  },
  {
   "cell_type": "code",
   "execution_count": 97,
   "id": "cf5fdd5d",
   "metadata": {},
   "outputs": [],
   "source": [
    "#Applying boxcox transform for neighbors\n",
    "\n",
    "gaussian_neighbors = boxcox(np.array(under_sample['neighbors']) + 1e-6)[0]"
   ]
  },
  {
   "cell_type": "markdown",
   "id": "a2a232e1",
   "metadata": {},
   "source": [
    "### 10. gaussian_income"
   ]
  },
  {
   "cell_type": "code",
   "execution_count": 98,
   "id": "8b243ed1",
   "metadata": {},
   "outputs": [
    {
     "name": "stderr",
     "output_type": "stream",
     "text": [
      "C:\\Users\\user\\anaconda3\\lib\\site-packages\\seaborn\\distributions.py:2557: FutureWarning: `distplot` is a deprecated function and will be removed in a future version. Please adapt your code to use either `displot` (a figure-level function with similar flexibility) or `histplot` (an axes-level function for histograms).\n",
      "  warnings.warn(msg, FutureWarning)\n"
     ]
    },
    {
     "data": {
      "image/png": "[encoded data removed]",
      "text/plain": [
       "<Figure size 432x288 with 1 Axes>"
      ]
     },
     "metadata": {
      "needs_background": "light"
     },
     "output_type": "display_data"
    }
   ],
   "source": [
    "# Looking at its distribution\n",
    "\n",
    "sns.distplot(under_sample['income'])\n",
    "plt.title('Distribution of income')\n",
    "plt.show()"
   ]
  },
  {
   "cell_type": "markdown",
   "id": "2b9727b7",
   "metadata": {},
   "source": [
    "Feature tries to account for the extreme skewedness of income by applying boxcox transformation."
   ]
  },
  {
   "cell_type": "code",
   "execution_count": 100,
   "id": "5c90856f",
   "metadata": {},
   "outputs": [
    {
     "name": "stderr",
     "output_type": "stream",
     "text": [
      "C:\\Users\\user\\anaconda3\\lib\\site-packages\\seaborn\\distributions.py:2557: FutureWarning: `distplot` is a deprecated function and will be removed in a future version. Please adapt your code to use either `displot` (a figure-level function with similar flexibility) or `histplot` (an axes-level function for histograms).\n",
      "  warnings.warn(msg, FutureWarning)\n"
     ]
    },
    {
     "data": {
      "image/png": "[encoded data removed]",
      "text/plain": [
       "<Figure size 432x288 with 1 Axes>"
      ]
     },
     "metadata": {
      "needs_background": "light"
     },
     "output_type": "display_data"
    }
   ],
   "source": [
    "sns.distplot(boxcox(np.array(under_sample['income']) + 1e-6)[0])\n",
    "plt.title('Boxcox of income')\n",
    "plt.show()"
   ]
  },
  {
   "cell_type": "markdown",
   "id": "3ac3014f",
   "metadata": {},
   "source": [
    "Boxcox transformation over Income gives us a psuedo-gaussian distribution."
   ]
  },
  {
   "cell_type": "code",
   "execution_count": 102,
   "id": "fc3768f2",
   "metadata": {},
   "outputs": [],
   "source": [
    "#Applying boxcox on income\n",
    "\n",
    "gaussian_income = boxcox(np.array(under_sample['income']) + 1e-6)[0]"
   ]
  },
  {
   "cell_type": "markdown",
   "id": "9d04b3b5",
   "metadata": {},
   "source": [
    "## Interaction features"
   ]
  },
  {
   "cell_type": "markdown",
   "id": "32c308d8",
   "metadata": {},
   "source": [
    "### 11. Interaction_length_weight"
   ]
  },
  {
   "cell_type": "code",
   "execution_count": 103,
   "id": "042d62bd",
   "metadata": {},
   "outputs": [],
   "source": [
    "# Between length and weight\n",
    "\n",
    "median_length = np.median(under_sample['length'])\n",
    "median_weight = np.median(under_sample['weight'])\n",
    "\n",
    "def get_length_weight(length_i, weight_i):\n",
    "    #If length and weight are greater than the median, we will return 0\n",
    "    #If just length is greater than the median we return 1\n",
    "    #return 2 if length is lesser than median\n",
    "    \n",
    "    if length_i > median_length:\n",
    "        if weight_i > median_weight:\n",
    "            return 0\n",
    "        else:\n",
    "            return 1\n",
    "    return 2"
   ]
  },
  {
   "cell_type": "code",
   "execution_count": 104,
   "id": "e870e9a4",
   "metadata": {},
   "outputs": [
    {
     "data": {
      "application/vnd.jupyter.widget-view+json": {
       "model_id": "c283d1313c7346bc898286da8c88c827",
       "version_major": 2,
       "version_minor": 0
      },
      "text/plain": [
       "  0%|          | 0/82826 [00:00<?, ?it/s]"
      ]
     },
     "metadata": {},
     "output_type": "display_data"
    }
   ],
   "source": [
    "#Constructing the interaction feature for train\n",
    "\n",
    "interaction_length_weight = np.array([])\n",
    "for index, row in tqdm(under_sample.iterrows(), total=under_sample.shape[0]):\n",
    "    interaction_length_weight = np.append(interaction_length_weight, get_length_weight(row['length'], row['weight']))"
   ]
  },
  {
   "cell_type": "markdown",
   "id": "dd12f83f",
   "metadata": {},
   "source": [
    "### 12. Interaction_count_income "
   ]
  },
  {
   "cell_type": "code",
   "execution_count": 105,
   "id": "5dbdf714",
   "metadata": {},
   "outputs": [],
   "source": [
    "# Between log-count and gaussian-income\n",
    "\n",
    "median_count = np.median(log_count)\n",
    "median_income = np.median(gaussian_income)\n",
    "\n",
    "def get_count_income(log_count_i, gaussian_income_i):\n",
    "    #Return 0 if both log_count and gaussian_income are greater than their medians\n",
    "    #return 1 if just log_count is\n",
    "    #return 2 if log count is lesser than median\n",
    "    \n",
    "    if log_count_i > median_count:\n",
    "        if gaussian_income_i > median_income:\n",
    "            return 0\n",
    "        else:\n",
    "            return 1\n",
    "    return 2"
   ]
  },
  {
   "cell_type": "code",
   "execution_count": 106,
   "id": "e5ef32f8",
   "metadata": {},
   "outputs": [
    {
     "data": {
      "application/vnd.jupyter.widget-view+json": {
       "model_id": "36eeedb195254db582840018e89ef971",
       "version_major": 2,
       "version_minor": 0
      },
      "text/plain": [
       "  0%|          | 0/82826 [00:00<?, ?it/s]"
      ]
     },
     "metadata": {},
     "output_type": "display_data"
    }
   ],
   "source": [
    "#construct the interaction feature\n",
    "    \n",
    "interaction_count_income = np.array([])\n",
    "for i in tqdm(range(len(log_count))):\n",
    "    interaction_count_income = np.append(interaction_count_income, get_count_income(log_count[i], gaussian_income[i]))"
   ]
  },
  {
   "cell_type": "markdown",
   "id": "3d0a132a",
   "metadata": {},
   "source": [
    "## Loading all the features into the dataset"
   ]
  },
  {
   "cell_type": "code",
   "execution_count": 107,
   "id": "f7be3a0a",
   "metadata": {},
   "outputs": [],
   "source": [
    "\n",
    "#Adding the features\n",
    "\n",
    "under_sample['n_address'] = n_address_feature #1\n",
    "under_sample['day_of_week'] = day_of_week#2\n",
    "under_sample['is_close_to_holiday'] = is_close_to_holiday #3\n",
    "under_sample['quarter_number'] = quarter_number_feature #4\n",
    "under_sample['gaussian_income'] = gaussian_income #5\n",
    "under_sample['gaussian_neighbors'] = gaussian_neighbors #6\n",
    "under_sample['gaussian_weight'] = gaussian_weight#7\n",
    "under_sample['gaussian_length'] = gaussian_length #8\n",
    "under_sample['log_count'] = log_count #9\n",
    "under_sample['sigmoid_looped'] = sigmoid_looped#10\n",
    "under_sample['interaction_count_income'] = interaction_count_income #11\n",
    "under_sample['interaction_length_weight'] = interaction_length_weight#12"
   ]
  },
  {
   "cell_type": "code",
   "execution_count": 108,
   "id": "7be30935",
   "metadata": {},
   "outputs": [
    {
     "data": {
      "text/html": [
       "<div>\n",
       "<style scoped>\n",
       "    .dataframe tbody tr th:only-of-type {\n",
       "        vertical-align: middle;\n",
       "    }\n",
       "\n",
       "    .dataframe tbody tr th {\n",
       "        vertical-align: top;\n",
       "    }\n",
       "\n",
       "    .dataframe thead th {\n",
       "        text-align: right;\n",
       "    }\n",
       "</style>\n",
       "<table border=\"1\" class=\"dataframe\">\n",
       "  <thead>\n",
       "    <tr style=\"text-align: right;\">\n",
       "      <th></th>\n",
       "      <th>address</th>\n",
       "      <th>year</th>\n",
       "      <th>day</th>\n",
       "      <th>length</th>\n",
       "      <th>weight</th>\n",
       "      <th>counted</th>\n",
       "      <th>looped</th>\n",
       "      <th>neighbors</th>\n",
       "      <th>income</th>\n",
       "      <th>label</th>\n",
       "      <th>...</th>\n",
       "      <th>is_close_to_holiday</th>\n",
       "      <th>quarter_number</th>\n",
       "      <th>gaussian_income</th>\n",
       "      <th>gaussian_neighbors</th>\n",
       "      <th>gaussian_weight</th>\n",
       "      <th>gaussian_length</th>\n",
       "      <th>log_count</th>\n",
       "      <th>sigmoid_looped</th>\n",
       "      <th>interaction_count_income</th>\n",
       "      <th>interaction_length_weight</th>\n",
       "    </tr>\n",
       "  </thead>\n",
       "  <tbody>\n",
       "    <tr>\n",
       "      <th>0</th>\n",
       "      <td>111K8kZAEnJg245r2cM6y9zgJGHZtJPy6</td>\n",
       "      <td>2017</td>\n",
       "      <td>11</td>\n",
       "      <td>18</td>\n",
       "      <td>0.008333</td>\n",
       "      <td>1</td>\n",
       "      <td>0</td>\n",
       "      <td>2</td>\n",
       "      <td>100050000.0</td>\n",
       "      <td>1</td>\n",
       "      <td>...</td>\n",
       "      <td>1</td>\n",
       "      <td>1.0</td>\n",
       "      <td>3.198400</td>\n",
       "      <td>5.628852e-01</td>\n",
       "      <td>-3.046316</td>\n",
       "      <td>-0.015776</td>\n",
       "      <td>9.999995e-07</td>\n",
       "      <td>0.5</td>\n",
       "      <td>2.0</td>\n",
       "      <td>1.0</td>\n",
       "    </tr>\n",
       "    <tr>\n",
       "      <th>1</th>\n",
       "      <td>1123pJv8jzeFQaCV4w644pzQJzVWay2zcA</td>\n",
       "      <td>2016</td>\n",
       "      <td>132</td>\n",
       "      <td>44</td>\n",
       "      <td>0.000244</td>\n",
       "      <td>1</td>\n",
       "      <td>0</td>\n",
       "      <td>1</td>\n",
       "      <td>100000000.0</td>\n",
       "      <td>1</td>\n",
       "      <td>...</td>\n",
       "      <td>0</td>\n",
       "      <td>2.0</td>\n",
       "      <td>3.198398</td>\n",
       "      <td>9.999992e-07</td>\n",
       "      <td>-3.984426</td>\n",
       "      <td>-0.103151</td>\n",
       "      <td>9.999995e-07</td>\n",
       "      <td>0.5</td>\n",
       "      <td>2.0</td>\n",
       "      <td>1.0</td>\n",
       "    </tr>\n",
       "    <tr>\n",
       "      <th>2</th>\n",
       "      <td>112536im7hy6wtKbpH1qYDWtTyMRAcA2p7</td>\n",
       "      <td>2016</td>\n",
       "      <td>246</td>\n",
       "      <td>0</td>\n",
       "      <td>1.000000</td>\n",
       "      <td>1</td>\n",
       "      <td>0</td>\n",
       "      <td>2</td>\n",
       "      <td>200000000.0</td>\n",
       "      <td>1</td>\n",
       "      <td>...</td>\n",
       "      <td>0</td>\n",
       "      <td>3.0</td>\n",
       "      <td>3.200401</td>\n",
       "      <td>5.628852e-01</td>\n",
       "      <td>0.000000</td>\n",
       "      <td>-0.894604</td>\n",
       "      <td>9.999995e-07</td>\n",
       "      <td>0.5</td>\n",
       "      <td>2.0</td>\n",
       "      <td>2.0</td>\n",
       "    </tr>\n",
       "    <tr>\n",
       "      <th>3</th>\n",
       "      <td>1126eDRw2wqSkWosjTCre8cjjQW8sSeWH7</td>\n",
       "      <td>2016</td>\n",
       "      <td>322</td>\n",
       "      <td>72</td>\n",
       "      <td>0.003906</td>\n",
       "      <td>1</td>\n",
       "      <td>0</td>\n",
       "      <td>2</td>\n",
       "      <td>71200000.0</td>\n",
       "      <td>1</td>\n",
       "      <td>...</td>\n",
       "      <td>1</td>\n",
       "      <td>4.0</td>\n",
       "      <td>3.197247</td>\n",
       "      <td>5.628852e-01</td>\n",
       "      <td>-3.308530</td>\n",
       "      <td>-0.321465</td>\n",
       "      <td>9.999995e-07</td>\n",
       "      <td>0.5</td>\n",
       "      <td>2.0</td>\n",
       "      <td>1.0</td>\n",
       "    </tr>\n",
       "    <tr>\n",
       "      <th>4</th>\n",
       "      <td>1129TSjKtx65E35GiUo4AYVeyo48twbrGX</td>\n",
       "      <td>2016</td>\n",
       "      <td>238</td>\n",
       "      <td>144</td>\n",
       "      <td>0.072848</td>\n",
       "      <td>456</td>\n",
       "      <td>0</td>\n",
       "      <td>1</td>\n",
       "      <td>200000000.0</td>\n",
       "      <td>1</td>\n",
       "      <td>...</td>\n",
       "      <td>0</td>\n",
       "      <td>3.0</td>\n",
       "      <td>3.200401</td>\n",
       "      <td>9.999992e-07</td>\n",
       "      <td>-2.025342</td>\n",
       "      <td>-0.834514</td>\n",
       "      <td>6.122493e+00</td>\n",
       "      <td>0.5</td>\n",
       "      <td>0.0</td>\n",
       "      <td>1.0</td>\n",
       "    </tr>\n",
       "  </tbody>\n",
       "</table>\n",
       "<p>5 rows × 22 columns</p>\n",
       "</div>"
      ],
      "text/plain": [
       "                              address  year  day  length    weight  counted  \\\n",
       "0   111K8kZAEnJg245r2cM6y9zgJGHZtJPy6  2017   11      18  0.008333        1   \n",
       "1  1123pJv8jzeFQaCV4w644pzQJzVWay2zcA  2016  132      44  0.000244        1   \n",
       "2  112536im7hy6wtKbpH1qYDWtTyMRAcA2p7  2016  246       0  1.000000        1   \n",
       "3  1126eDRw2wqSkWosjTCre8cjjQW8sSeWH7  2016  322      72  0.003906        1   \n",
       "4  1129TSjKtx65E35GiUo4AYVeyo48twbrGX  2016  238     144  0.072848      456   \n",
       "\n",
       "   looped  neighbors       income  label  ...  is_close_to_holiday  \\\n",
       "0       0          2  100050000.0      1  ...                    1   \n",
       "1       0          1  100000000.0      1  ...                    0   \n",
       "2       0          2  200000000.0      1  ...                    0   \n",
       "3       0          2   71200000.0      1  ...                    1   \n",
       "4       0          1  200000000.0      1  ...                    0   \n",
       "\n",
       "   quarter_number  gaussian_income  gaussian_neighbors  gaussian_weight  \\\n",
       "0             1.0         3.198400        5.628852e-01        -3.046316   \n",
       "1             2.0         3.198398        9.999992e-07        -3.984426   \n",
       "2             3.0         3.200401        5.628852e-01         0.000000   \n",
       "3             4.0         3.197247        5.628852e-01        -3.308530   \n",
       "4             3.0         3.200401        9.999992e-07        -2.025342   \n",
       "\n",
       "   gaussian_length     log_count  sigmoid_looped  interaction_count_income  \\\n",
       "0        -0.015776  9.999995e-07             0.5                       2.0   \n",
       "1        -0.103151  9.999995e-07             0.5                       2.0   \n",
       "2        -0.894604  9.999995e-07             0.5                       2.0   \n",
       "3        -0.321465  9.999995e-07             0.5                       2.0   \n",
       "4        -0.834514  6.122493e+00             0.5                       0.0   \n",
       "\n",
       "   interaction_length_weight  \n",
       "0                        1.0  \n",
       "1                        1.0  \n",
       "2                        2.0  \n",
       "3                        1.0  \n",
       "4                        1.0  \n",
       "\n",
       "[5 rows x 22 columns]"
      ]
     },
     "execution_count": 108,
     "metadata": {},
     "output_type": "execute_result"
    }
   ],
   "source": [
    "under_sample.head()"
   ]
  },
  {
   "cell_type": "markdown",
   "id": "f00c7a13",
   "metadata": {},
   "source": [
    "## Strore the Dataset as csv file"
   ]
  },
  {
   "cell_type": "code",
   "execution_count": 109,
   "id": "2d3ef69a",
   "metadata": {},
   "outputs": [],
   "source": [
    "under_sample.to_csv('under_sample_Data.csv', index=False)"
   ]
  }
 ],
 "metadata": {
  "kernelspec": {
   "display_name": "Python 3",
   "language": "python",
   "name": "python3"
  },
  "language_info": {
   "codemirror_mode": {
    "name": "ipython",
    "version": 3
   },
   "file_extension": ".py",
   "mimetype": "text/x-python",
   "name": "python",
   "nbconvert_exporter": "python",
   "pygments_lexer": "ipython3",
   "version": "3.8.8"
  }
 },
 "nbformat": 4,
 "nbformat_minor": 5
}
